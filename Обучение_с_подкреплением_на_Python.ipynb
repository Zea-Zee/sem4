{
  "cells": [
    {
      "cell_type": "code",
      "execution_count": 6,
      "id": "f9ab6074",
      "metadata": {
        "colab": {
          "base_uri": "https://localhost:8080/"
        },
        "id": "f9ab6074",
        "outputId": "b17f0369-c6a1-4917-c094-e98b043453da"
      },
      "outputs": [
        {
          "name": "stdout",
          "output_type": "stream",
          "text": [
            "Defaulting to user installation because normal site-packages is not writeable\n",
            "Requirement already satisfied: gym[box2d] in /home/zea/.local/lib/python3.10/site-packages (0.26.2)\n",
            "Requirement already satisfied: numpy>=1.18.0 in /home/zea/.local/lib/python3.10/site-packages (from gym[box2d]) (1.26.4)\n",
            "Requirement already satisfied: cloudpickle>=1.2.0 in /home/zea/.local/lib/python3.10/site-packages (from gym[box2d]) (3.0.0)\n",
            "Requirement already satisfied: gym-notices>=0.0.4 in /home/zea/.local/lib/python3.10/site-packages (from gym[box2d]) (0.0.8)\n",
            "Collecting box2d-py==2.3.5 (from gym[box2d])\n",
            "  Using cached box2d-py-2.3.5.tar.gz (374 kB)\n",
            "  Preparing metadata (setup.py) ... \u001b[?25ldone\n",
            "\u001b[?25hRequirement already satisfied: pygame==2.1.0 in /home/zea/.local/lib/python3.10/site-packages (from gym[box2d]) (2.1.0)\n",
            "Collecting swig==4.* (from gym[box2d])\n",
            "  Using cached swig-4.2.0.post0-py2.py3-none-manylinux_2_5_x86_64.manylinux1_x86_64.whl.metadata (3.6 kB)\n",
            "Using cached swig-4.2.0.post0-py2.py3-none-manylinux_2_5_x86_64.manylinux1_x86_64.whl (1.9 MB)\n",
            "Building wheels for collected packages: box2d-py\n",
            "  Building wheel for box2d-py (setup.py) ... \u001b[?25ldone\n",
            "\u001b[?25h  Created wheel for box2d-py: filename=box2d_py-2.3.5-cp310-cp310-linux_x86_64.whl size=2349113 sha256=683bf954bb7610044b6af38a5ee5cda56a4dd7f7653a20582441084e73bf5e44\n",
            "  Stored in directory: /home/zea/.cache/pip/wheels/db/8f/6a/eaaadf056fba10a98d986f6dce954e6201ba3126926fc5ad9e\n",
            "Successfully built box2d-py\n",
            "Installing collected packages: swig, box2d-py\n",
            "  Attempting uninstall: box2d-py\n",
            "    Found existing installation: box2d-py 2.3.8\n",
            "    Uninstalling box2d-py-2.3.8:\n",
            "      Successfully uninstalled box2d-py-2.3.8\n",
            "Successfully installed box2d-py-2.3.5 swig-4.2.0.post0\n"
          ]
        }
      ],
      "source": [
        "# !pip install gym --no-cache-dir\n",
        "# !pip install pywin32\n",
        "# !pip install torch\n",
        "# !pip install pygame\n",
        "\n",
        "# !pip install pygame==2.1.0\n",
        "# !pip install gym[classic_control] pygame\n",
        "!pip install gym[box2d]"
      ]
    },
    {
      "cell_type": "code",
      "execution_count": 7,
      "id": "0026df2e",
      "metadata": {
        "colab": {
          "base_uri": "https://localhost:8080/"
        },
        "id": "0026df2e",
        "outputId": "4036dcfb-0fd2-4af4-c010-401228a76d0b"
      },
      "outputs": [],
      "source": [
        "import gym\n",
        "import torch\n",
        "from tqdm import tqdm\n",
        "import matplotlib.pyplot as plt\n",
        "from gym.utils.play import play"
      ]
    },
    {
      "cell_type": "code",
      "execution_count": null,
      "id": "87e254e8",
      "metadata": {
        "id": "87e254e8"
      },
      "outputs": [],
      "source": [
        "# Функция для прогона одного эпизода с заданной стратегией\n",
        "def run_episode(policy, env):\n",
        "    state = env.reset()\n",
        "    is_done = False\n",
        "    total_reward = 0\n",
        "    while not is_done:\n",
        "        env.render()\n",
        "        action = policy.make_action(state)\n",
        "        state, reward, is_done, _ = env.step(action)\n",
        "        total_reward += reward\n",
        "    env.close()\n",
        "    return total_reward"
      ]
    },
    {
      "cell_type": "code",
      "execution_count": null,
      "id": "409f6a5c",
      "metadata": {
        "id": "409f6a5c"
      },
      "outputs": [],
      "source": [
        "# Болванка для стратегий\n",
        "class Policy:\n",
        "    def __init__(self, n_actions):\n",
        "        pass\n",
        "\n",
        "    def make_action(self, state):\n",
        "        pass\n",
        "\n",
        "    def update(self, state, next_state, action, reward, gamma=1):\n",
        "        pass"
      ]
    },
    {
      "cell_type": "code",
      "execution_count": null,
      "id": "dcfc1352",
      "metadata": {
        "id": "dcfc1352"
      },
      "outputs": [],
      "source": [
        "# Стратегия рандомного действия\n",
        "class RandomPolicy:\n",
        "    def __init__(self, n_actions):\n",
        "        self.n_actions = n_actions\n",
        "\n",
        "    def make_action(self, state):\n",
        "        return torch.randint(self.n_actions, (1,)).item()"
      ]
    },
    {
      "cell_type": "code",
      "execution_count": null,
      "id": "6b0bce38",
      "metadata": {
        "id": "6b0bce38"
      },
      "outputs": [],
      "source": [
        "for _ in range(4):\n",
        "    print(run_episode(RandomPolicy(4), env))"
      ]
    },
    {
      "cell_type": "code",
      "execution_count": null,
      "id": "b97e03a4",
      "metadata": {
        "id": "b97e03a4"
      },
      "outputs": [],
      "source": [
        "# Агент с DQN-Стратегией\n",
        "class DQNPolicy:\n",
        "    def __init__(self, n_actions, station_space, n_hidden = 128, lr=0.005):\n",
        "        self.n_actions = n_actions\n",
        "\n",
        "        self.dqn = torch.nn.Sequential(\n",
        "            torch.nn.Linear(station_space, n_hidden),\n",
        "            torch.nn.ReLU(),\n",
        "            torch.nn.Linear(n_hidden, n_actions)\n",
        "        )\n",
        "        self.loss = torch.nn.MSELoss()\n",
        "        self.optimizer = torch.optim.Adam(self.dqn.parameters(), lr=0.001)\n",
        "\n",
        "    def make_action(self, state, eps=0):\n",
        "        with torch.no_grad():\n",
        "            best_action = torch.argmax(self.dqn(torch.Tensor(state)))\n",
        "            if torch.rand((1,)).item() > eps:\n",
        "                return best_action.item()\n",
        "            return torch.randint(self.n_actions, (1,)).item()\n",
        "\n",
        "\n",
        "    def update(self, state, next_state, action, reward, gamma=1):\n",
        "        q_values = self.dqn(torch.Tensor(state))\n",
        "        q_values_next = self.dqn(torch.Tensor(next_state))\n",
        "\n",
        "        q_values_should_be = self.dqn(torch.Tensor(state)).tolist().copy()\n",
        "        q_values_should_be[action] = reward + gamma*torch.max(q_values_next).item()\n",
        "\n",
        "        self.optimizer.zero_grad()\n",
        "        self.loss(q_values, torch.Tensor(q_values_should_be)).backward()\n",
        "        self.optimizer.step()"
      ]
    },
    {
      "cell_type": "code",
      "execution_count": null,
      "id": "f992b946",
      "metadata": {
        "id": "f992b946"
      },
      "outputs": [],
      "source": [
        "# Обучение данной политики в течении n эпизодов\n",
        "def learn_policy(env, n_episodes, policy):\n",
        "    total_rewards = []\n",
        "\n",
        "    for episode in tqdm(range(n_episodes)):\n",
        "        state = env.reset()\n",
        "        is_done = False\n",
        "        total_reward = 0\n",
        "        while not is_done:\n",
        "            if episode % 20 == 0:\n",
        "                env.render()\n",
        "            action = policy.make_action(state, eps=0.1)\n",
        "            next_state, reward, is_done, _ = env.step(action)\n",
        "            total_reward += reward\n",
        "\n",
        "            policy.update(state, next_state, action, reward)\n",
        "            state = next_state\n",
        "        total_rewards.append(total_reward)\n",
        "    env.close()\n",
        "    return total_rewards"
      ]
    },
    {
      "cell_type": "code",
      "execution_count": null,
      "id": "a05be015",
      "metadata": {
        "id": "a05be015"
      },
      "outputs": [],
      "source": [
        "# Создаем агента\n",
        "policy = DQNPolicy(env.action_space.n, env.observation_space.shape[0])"
      ]
    },
    {
      "cell_type": "code",
      "execution_count": null,
      "id": "cef666f4",
      "metadata": {
        "id": "cef666f4"
      },
      "outputs": [],
      "source": [
        "# Пока агент ничего не умеет\n",
        "for _ in range(4):\n",
        "    print(run_episode(policy, env))"
      ]
    },
    {
      "cell_type": "code",
      "execution_count": null,
      "id": "6fc66790",
      "metadata": {
        "id": "6fc66790"
      },
      "outputs": [],
      "source": [
        "# Обучаем агента на 1000 эпизодах\n",
        "total_rewards = learn_policy(env, 1000, policy)"
      ]
    },
    {
      "cell_type": "code",
      "execution_count": null,
      "id": "0090e3ec",
      "metadata": {
        "id": "0090e3ec"
      },
      "outputs": [],
      "source": [
        "# Смотрим, как ведет себя агент\n",
        "for _ in range(4):\n",
        "    print(run_episode(policy, env))"
      ]
    },
    {
      "cell_type": "code",
      "execution_count": null,
      "id": "7177428d",
      "metadata": {
        "id": "7177428d"
      },
      "outputs": [],
      "source": [
        "# Библиотека, которая берет все на себя!"
      ]
    },
    {
      "cell_type": "code",
      "execution_count": null,
      "id": "24ce0e50",
      "metadata": {
        "id": "24ce0e50"
      },
      "outputs": [],
      "source": [
        "!pip install stable_baselines3"
      ]
    },
    {
      "cell_type": "code",
      "execution_count": null,
      "id": "c6381ef6",
      "metadata": {
        "id": "c6381ef6"
      },
      "outputs": [],
      "source": [
        "from stable_baselines3 import DQN\n",
        "from stable_baselines3.common.evaluation import evaluate_policy"
      ]
    },
    {
      "cell_type": "code",
      "execution_count": null,
      "id": "f4ce8a2d",
      "metadata": {
        "id": "f4ce8a2d"
      },
      "outputs": [],
      "source": [
        "model = DQN('MlpPolicy', env, verbose=1)"
      ]
    },
    {
      "cell_type": "code",
      "execution_count": null,
      "id": "d1456657",
      "metadata": {
        "id": "d1456657"
      },
      "outputs": [],
      "source": [
        "evaluate_policy(model, env, render=True, n_eval_episodes=1)\n",
        "env.close()"
      ]
    },
    {
      "cell_type": "code",
      "execution_count": null,
      "id": "c884dda7",
      "metadata": {
        "id": "c884dda7",
        "scrolled": true
      },
      "outputs": [],
      "source": [
        "model.learn(total_timesteps=300000)"
      ]
    },
    {
      "cell_type": "code",
      "execution_count": null,
      "id": "6e994cb7",
      "metadata": {
        "id": "6e994cb7"
      },
      "outputs": [],
      "source": [
        "model.save('my_model')"
      ]
    },
    {
      "cell_type": "code",
      "execution_count": null,
      "id": "ae36cc6f",
      "metadata": {
        "id": "ae36cc6f"
      },
      "outputs": [],
      "source": [
        "model = DQN.load('my_model')"
      ]
    },
    {
      "cell_type": "code",
      "execution_count": null,
      "id": "c1360447",
      "metadata": {
        "id": "c1360447"
      },
      "outputs": [],
      "source": [
        "evaluate_policy(model, env, render=True, n_eval_episodes=4)\n",
        "env.close()"
      ]
    },
    {
      "cell_type": "code",
      "execution_count": null,
      "id": "a15d80c4",
      "metadata": {
        "id": "a15d80c4"
      },
      "outputs": [],
      "source": []
    }
  ],
  "metadata": {
    "colab": {
      "provenance": []
    },
    "kernelspec": {
      "display_name": "Python 3 (ipykernel)",
      "language": "python",
      "name": "python3"
    },
    "language_info": {
      "codemirror_mode": {
        "name": "ipython",
        "version": 3
      },
      "file_extension": ".py",
      "mimetype": "text/x-python",
      "name": "python",
      "nbconvert_exporter": "python",
      "pygments_lexer": "ipython3",
      "version": "3.10.12"
    }
  },
  "nbformat": 4,
  "nbformat_minor": 5
}

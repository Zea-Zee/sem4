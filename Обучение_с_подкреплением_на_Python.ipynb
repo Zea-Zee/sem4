{
  "cells": [
    {
      "cell_type": "code",
      "execution_count": 6,
      "id": "f9ab6074",
      "metadata": {
        "colab": {
          "base_uri": "https://localhost:8080/"
        },
        "id": "f9ab6074",
        "outputId": "b17f0369-c6a1-4917-c094-e98b043453da"
      },
      "outputs": [
        {
          "name": "stdout",
          "output_type": "stream",
          "text": [
            "Defaulting to user installation because normal site-packages is not writeable\n",
            "Requirement already satisfied: gym[box2d] in /home/zea/.local/lib/python3.10/site-packages (0.26.2)\n",
            "Requirement already satisfied: numpy>=1.18.0 in /home/zea/.local/lib/python3.10/site-packages (from gym[box2d]) (1.26.4)\n",
            "Requirement already satisfied: cloudpickle>=1.2.0 in /home/zea/.local/lib/python3.10/site-packages (from gym[box2d]) (3.0.0)\n",
            "Requirement already satisfied: gym-notices>=0.0.4 in /home/zea/.local/lib/python3.10/site-packages (from gym[box2d]) (0.0.8)\n",
            "Collecting box2d-py==2.3.5 (from gym[box2d])\n",
            "  Using cached box2d-py-2.3.5.tar.gz (374 kB)\n",
            "  Preparing metadata (setup.py) ... \u001b[?25ldone\n",
            "\u001b[?25hRequirement already satisfied: pygame==2.1.0 in /home/zea/.local/lib/python3.10/site-packages (from gym[box2d]) (2.1.0)\n",
            "Collecting swig==4.* (from gym[box2d])\n",
            "  Using cached swig-4.2.0.post0-py2.py3-none-manylinux_2_5_x86_64.manylinux1_x86_64.whl.metadata (3.6 kB)\n",
            "Using cached swig-4.2.0.post0-py2.py3-none-manylinux_2_5_x86_64.manylinux1_x86_64.whl (1.9 MB)\n",
            "Building wheels for collected packages: box2d-py\n",
            "  Building wheel for box2d-py (setup.py) ... \u001b[?25ldone\n",
            "\u001b[?25h  Created wheel for box2d-py: filename=box2d_py-2.3.5-cp310-cp310-linux_x86_64.whl size=2349113 sha256=683bf954bb7610044b6af38a5ee5cda56a4dd7f7653a20582441084e73bf5e44\n",
            "  Stored in directory: /home/zea/.cache/pip/wheels/db/8f/6a/eaaadf056fba10a98d986f6dce954e6201ba3126926fc5ad9e\n",
            "Successfully built box2d-py\n",
            "Installing collected packages: swig, box2d-py\n",
            "  Attempting uninstall: box2d-py\n",
            "    Found existing installation: box2d-py 2.3.8\n",
            "    Uninstalling box2d-py-2.3.8:\n",
            "      Successfully uninstalled box2d-py-2.3.8\n",
            "Successfully installed box2d-py-2.3.5 swig-4.2.0.post0\n"
          ]
        }
      ],
      "source": [
        "# !pip install gym --no-cache-dir\n",
        "# !pip install pywin32\n",
        "# !pip install torch\n",
        "# !pip install pygame\n",
        "\n",
        "# !pip install pygame==2.1.0\n",
        "# !pip install gym[classic_control] pygame\n",
        "!pip install gym[box2d]"
      ]
    },
    {
      "cell_type": "code",
<<<<<<< HEAD
      "execution_count": 11,
=======
      "execution_count": 7,
>>>>>>> e53e16655aec0c61290f4cacf3305b99a1fe3297
      "id": "0026df2e",
      "metadata": {
        "colab": {
          "base_uri": "https://localhost:8080/"
        },
        "id": "0026df2e",
        "outputId": "4036dcfb-0fd2-4af4-c010-401228a76d0b"
      },
      "outputs": [],
      "source": [
        "import gym\n",
        "import torch\n",
        "from tqdm import tqdm\n",
        "import matplotlib.pyplot as plt\n",
        "from gym.utils.play import play"
      ]
    },
    {
      "cell_type": "code",
<<<<<<< HEAD
      "execution_count": 12,
      "id": "12ddb28e",
      "metadata": {
        "colab": {
          "base_uri": "https://localhost:8080/",
          "height": 463
        },
        "id": "12ddb28e",
        "outputId": "53a75b9d-964c-4102-beba-9cf412881301"
      },
      "outputs": [
        {
          "ename": "DependencyNotInstalled",
          "evalue": "box2D is not installed, run `pip install gym[box2d]`",
          "output_type": "error",
          "traceback": [
            "\u001b[1;31m---------------------------------------------------------------------------\u001b[0m",
            "\u001b[1;31mModuleNotFoundError\u001b[0m                       Traceback (most recent call last)",
            "File \u001b[1;32mc:\\Users\\kuzga\\AppData\\Local\\Programs\\Python\\Python311\\Lib\\site-packages\\gym\\envs\\box2d\\bipedal_walker.py:14\u001b[0m\n\u001b[0;32m     13\u001b[0m \u001b[38;5;28;01mtry\u001b[39;00m:\n\u001b[1;32m---> 14\u001b[0m     \u001b[38;5;28;01mimport\u001b[39;00m \u001b[38;5;21;01mBox2D\u001b[39;00m\n\u001b[0;32m     15\u001b[0m     \u001b[38;5;28;01mfrom\u001b[39;00m \u001b[38;5;21;01mBox2D\u001b[39;00m\u001b[38;5;21;01m.\u001b[39;00m\u001b[38;5;21;01mb2\u001b[39;00m \u001b[38;5;28;01mimport\u001b[39;00m (\n\u001b[0;32m     16\u001b[0m         circleShape,\n\u001b[0;32m     17\u001b[0m         contactListener,\n\u001b[1;32m   (...)\u001b[0m\n\u001b[0;32m     21\u001b[0m         revoluteJointDef,\n\u001b[0;32m     22\u001b[0m     )\n",
            "\u001b[1;31mModuleNotFoundError\u001b[0m: No module named 'Box2D'",
            "\nDuring handling of the above exception, another exception occurred:\n",
            "\u001b[1;31mDependencyNotInstalled\u001b[0m                    Traceback (most recent call last)",
            "Cell \u001b[1;32mIn[12], line 1\u001b[0m\n\u001b[1;32m----> 1\u001b[0m env \u001b[38;5;241m=\u001b[39m \u001b[43mgym\u001b[49m\u001b[38;5;241;43m.\u001b[39;49m\u001b[43mmake\u001b[49m\u001b[43m(\u001b[49m\u001b[38;5;124;43m'\u001b[39;49m\u001b[38;5;124;43mLunarLander-v2\u001b[39;49m\u001b[38;5;124;43m'\u001b[39;49m\u001b[43m)\u001b[49m\n",
            "File \u001b[1;32mc:\\Users\\kuzga\\AppData\\Local\\Programs\\Python\\Python311\\Lib\\site-packages\\gym\\envs\\registration.py:581\u001b[0m, in \u001b[0;36mmake\u001b[1;34m(id, max_episode_steps, autoreset, apply_api_compatibility, disable_env_checker, **kwargs)\u001b[0m\n\u001b[0;32m    578\u001b[0m     env_creator \u001b[38;5;241m=\u001b[39m spec_\u001b[38;5;241m.\u001b[39mentry_point\n\u001b[0;32m    579\u001b[0m \u001b[38;5;28;01melse\u001b[39;00m:\n\u001b[0;32m    580\u001b[0m     \u001b[38;5;66;03m# Assume it's a string\u001b[39;00m\n\u001b[1;32m--> 581\u001b[0m     env_creator \u001b[38;5;241m=\u001b[39m \u001b[43mload\u001b[49m\u001b[43m(\u001b[49m\u001b[43mspec_\u001b[49m\u001b[38;5;241;43m.\u001b[39;49m\u001b[43mentry_point\u001b[49m\u001b[43m)\u001b[49m\n\u001b[0;32m    583\u001b[0m mode \u001b[38;5;241m=\u001b[39m _kwargs\u001b[38;5;241m.\u001b[39mget(\u001b[38;5;124m\"\u001b[39m\u001b[38;5;124mrender_mode\u001b[39m\u001b[38;5;124m\"\u001b[39m)\n\u001b[0;32m    584\u001b[0m apply_human_rendering \u001b[38;5;241m=\u001b[39m \u001b[38;5;28;01mFalse\u001b[39;00m\n",
            "File \u001b[1;32mc:\\Users\\kuzga\\AppData\\Local\\Programs\\Python\\Python311\\Lib\\site-packages\\gym\\envs\\registration.py:61\u001b[0m, in \u001b[0;36mload\u001b[1;34m(name)\u001b[0m\n\u001b[0;32m     52\u001b[0m \u001b[38;5;250m\u001b[39m\u001b[38;5;124;03m\"\"\"Loads an environment with name and returns an environment creation function\u001b[39;00m\n\u001b[0;32m     53\u001b[0m \n\u001b[0;32m     54\u001b[0m \u001b[38;5;124;03mArgs:\u001b[39;00m\n\u001b[1;32m   (...)\u001b[0m\n\u001b[0;32m     58\u001b[0m \u001b[38;5;124;03m    Calls the environment constructor\u001b[39;00m\n\u001b[0;32m     59\u001b[0m \u001b[38;5;124;03m\"\"\"\u001b[39;00m\n\u001b[0;32m     60\u001b[0m mod_name, attr_name \u001b[38;5;241m=\u001b[39m name\u001b[38;5;241m.\u001b[39msplit(\u001b[38;5;124m\"\u001b[39m\u001b[38;5;124m:\u001b[39m\u001b[38;5;124m\"\u001b[39m)\n\u001b[1;32m---> 61\u001b[0m mod \u001b[38;5;241m=\u001b[39m \u001b[43mimportlib\u001b[49m\u001b[38;5;241;43m.\u001b[39;49m\u001b[43mimport_module\u001b[49m\u001b[43m(\u001b[49m\u001b[43mmod_name\u001b[49m\u001b[43m)\u001b[49m\n\u001b[0;32m     62\u001b[0m fn \u001b[38;5;241m=\u001b[39m \u001b[38;5;28mgetattr\u001b[39m(mod, attr_name)\n\u001b[0;32m     63\u001b[0m \u001b[38;5;28;01mreturn\u001b[39;00m fn\n",
            "File \u001b[1;32mc:\\Users\\kuzga\\AppData\\Local\\Programs\\Python\\Python311\\Lib\\importlib\\__init__.py:126\u001b[0m, in \u001b[0;36mimport_module\u001b[1;34m(name, package)\u001b[0m\n\u001b[0;32m    124\u001b[0m             \u001b[38;5;28;01mbreak\u001b[39;00m\n\u001b[0;32m    125\u001b[0m         level \u001b[38;5;241m+\u001b[39m\u001b[38;5;241m=\u001b[39m \u001b[38;5;241m1\u001b[39m\n\u001b[1;32m--> 126\u001b[0m \u001b[38;5;28;01mreturn\u001b[39;00m \u001b[43m_bootstrap\u001b[49m\u001b[38;5;241;43m.\u001b[39;49m\u001b[43m_gcd_import\u001b[49m\u001b[43m(\u001b[49m\u001b[43mname\u001b[49m\u001b[43m[\u001b[49m\u001b[43mlevel\u001b[49m\u001b[43m:\u001b[49m\u001b[43m]\u001b[49m\u001b[43m,\u001b[49m\u001b[43m \u001b[49m\u001b[43mpackage\u001b[49m\u001b[43m,\u001b[49m\u001b[43m \u001b[49m\u001b[43mlevel\u001b[49m\u001b[43m)\u001b[49m\n",
            "File \u001b[1;32m<frozen importlib._bootstrap>:1204\u001b[0m, in \u001b[0;36m_gcd_import\u001b[1;34m(name, package, level)\u001b[0m\n",
            "File \u001b[1;32m<frozen importlib._bootstrap>:1176\u001b[0m, in \u001b[0;36m_find_and_load\u001b[1;34m(name, import_)\u001b[0m\n",
            "File \u001b[1;32m<frozen importlib._bootstrap>:1126\u001b[0m, in \u001b[0;36m_find_and_load_unlocked\u001b[1;34m(name, import_)\u001b[0m\n",
            "File \u001b[1;32m<frozen importlib._bootstrap>:241\u001b[0m, in \u001b[0;36m_call_with_frames_removed\u001b[1;34m(f, *args, **kwds)\u001b[0m\n",
            "File \u001b[1;32m<frozen importlib._bootstrap>:1204\u001b[0m, in \u001b[0;36m_gcd_import\u001b[1;34m(name, package, level)\u001b[0m\n",
            "File \u001b[1;32m<frozen importlib._bootstrap>:1176\u001b[0m, in \u001b[0;36m_find_and_load\u001b[1;34m(name, import_)\u001b[0m\n",
            "File \u001b[1;32m<frozen importlib._bootstrap>:1147\u001b[0m, in \u001b[0;36m_find_and_load_unlocked\u001b[1;34m(name, import_)\u001b[0m\n",
            "File \u001b[1;32m<frozen importlib._bootstrap>:690\u001b[0m, in \u001b[0;36m_load_unlocked\u001b[1;34m(spec)\u001b[0m\n",
            "File \u001b[1;32m<frozen importlib._bootstrap_external>:940\u001b[0m, in \u001b[0;36mexec_module\u001b[1;34m(self, module)\u001b[0m\n",
            "File \u001b[1;32m<frozen importlib._bootstrap>:241\u001b[0m, in \u001b[0;36m_call_with_frames_removed\u001b[1;34m(f, *args, **kwds)\u001b[0m\n",
            "File \u001b[1;32mc:\\Users\\kuzga\\AppData\\Local\\Programs\\Python\\Python311\\Lib\\site-packages\\gym\\envs\\box2d\\__init__.py:1\u001b[0m\n\u001b[1;32m----> 1\u001b[0m \u001b[38;5;28;01mfrom\u001b[39;00m \u001b[38;5;21;01mgym\u001b[39;00m\u001b[38;5;21;01m.\u001b[39;00m\u001b[38;5;21;01menvs\u001b[39;00m\u001b[38;5;21;01m.\u001b[39;00m\u001b[38;5;21;01mbox2d\u001b[39;00m\u001b[38;5;21;01m.\u001b[39;00m\u001b[38;5;21;01mbipedal_walker\u001b[39;00m \u001b[38;5;28;01mimport\u001b[39;00m BipedalWalker, BipedalWalkerHardcore\n\u001b[0;32m      2\u001b[0m \u001b[38;5;28;01mfrom\u001b[39;00m \u001b[38;5;21;01mgym\u001b[39;00m\u001b[38;5;21;01m.\u001b[39;00m\u001b[38;5;21;01menvs\u001b[39;00m\u001b[38;5;21;01m.\u001b[39;00m\u001b[38;5;21;01mbox2d\u001b[39;00m\u001b[38;5;21;01m.\u001b[39;00m\u001b[38;5;21;01mcar_racing\u001b[39;00m \u001b[38;5;28;01mimport\u001b[39;00m CarRacing\n\u001b[0;32m      3\u001b[0m \u001b[38;5;28;01mfrom\u001b[39;00m \u001b[38;5;21;01mgym\u001b[39;00m\u001b[38;5;21;01m.\u001b[39;00m\u001b[38;5;21;01menvs\u001b[39;00m\u001b[38;5;21;01m.\u001b[39;00m\u001b[38;5;21;01mbox2d\u001b[39;00m\u001b[38;5;21;01m.\u001b[39;00m\u001b[38;5;21;01mlunar_lander\u001b[39;00m \u001b[38;5;28;01mimport\u001b[39;00m LunarLander, LunarLanderContinuous\n",
            "File \u001b[1;32mc:\\Users\\kuzga\\AppData\\Local\\Programs\\Python\\Python311\\Lib\\site-packages\\gym\\envs\\box2d\\bipedal_walker.py:24\u001b[0m\n\u001b[0;32m     15\u001b[0m     \u001b[38;5;28;01mfrom\u001b[39;00m \u001b[38;5;21;01mBox2D\u001b[39;00m\u001b[38;5;21;01m.\u001b[39;00m\u001b[38;5;21;01mb2\u001b[39;00m \u001b[38;5;28;01mimport\u001b[39;00m (\n\u001b[0;32m     16\u001b[0m         circleShape,\n\u001b[0;32m     17\u001b[0m         contactListener,\n\u001b[1;32m   (...)\u001b[0m\n\u001b[0;32m     21\u001b[0m         revoluteJointDef,\n\u001b[0;32m     22\u001b[0m     )\n\u001b[0;32m     23\u001b[0m \u001b[38;5;28;01mexcept\u001b[39;00m \u001b[38;5;167;01mImportError\u001b[39;00m:\n\u001b[1;32m---> 24\u001b[0m     \u001b[38;5;28;01mraise\u001b[39;00m DependencyNotInstalled(\u001b[38;5;124m\"\u001b[39m\u001b[38;5;124mbox2D is not installed, run `pip install gym[box2d]`\u001b[39m\u001b[38;5;124m\"\u001b[39m)\n\u001b[0;32m     27\u001b[0m \u001b[38;5;28;01mif\u001b[39;00m TYPE_CHECKING:\n\u001b[0;32m     28\u001b[0m     \u001b[38;5;28;01mimport\u001b[39;00m \u001b[38;5;21;01mpygame\u001b[39;00m\n",
            "\u001b[1;31mDependencyNotInstalled\u001b[0m: box2D is not installed, run `pip install gym[box2d]`"
          ]
        }
      ],
      "source": [
        "env = gym.make('LunarLander-v2')"
      ]
    },
    {
      "cell_type": "code",
      "execution_count": null,
      "id": "ca81b55b",
      "metadata": {
        "id": "ca81b55b"
      },
      "outputs": [],
      "source": [
        "play(env, keys_to_action={(ord('w'),): 2, (ord('a'),):1, (ord('d'),):3})\n",
        "env.close()"
      ]
    },
    {
      "cell_type": "code",
=======
>>>>>>> e53e16655aec0c61290f4cacf3305b99a1fe3297
      "execution_count": null,
      "id": "87e254e8",
      "metadata": {
        "id": "87e254e8"
      },
      "outputs": [],
      "source": [
        "# Функция для прогона одного эпизода с заданной стратегией\n",
        "def run_episode(policy, env):\n",
        "    state = env.reset()\n",
        "    is_done = False\n",
        "    total_reward = 0\n",
        "    while not is_done:\n",
        "        env.render()\n",
        "        action = policy.make_action(state)\n",
        "        state, reward, is_done, _ = env.step(action)\n",
        "        total_reward += reward\n",
        "    env.close()\n",
        "    return total_reward"
      ]
    },
    {
      "cell_type": "code",
      "execution_count": null,
      "id": "409f6a5c",
      "metadata": {
        "id": "409f6a5c"
      },
      "outputs": [],
      "source": [
        "# Болванка для стратегий\n",
        "class Policy:\n",
        "    def __init__(self, n_actions):\n",
        "        pass\n",
        "\n",
        "    def make_action(self, state):\n",
        "        pass\n",
        "\n",
        "    def update(self, state, next_state, action, reward, gamma=1):\n",
        "        pass"
      ]
    },
    {
      "cell_type": "code",
      "execution_count": null,
      "id": "dcfc1352",
      "metadata": {
        "id": "dcfc1352"
      },
      "outputs": [],
      "source": [
        "# Стратегия рандомного действия\n",
        "class RandomPolicy:\n",
        "    def __init__(self, n_actions):\n",
        "        self.n_actions = n_actions\n",
        "\n",
        "    def make_action(self, state):\n",
        "        return torch.randint(self.n_actions, (1,)).item()"
      ]
    },
    {
      "cell_type": "code",
      "execution_count": null,
      "id": "6b0bce38",
      "metadata": {
        "id": "6b0bce38"
      },
      "outputs": [],
      "source": [
        "for _ in range(4):\n",
        "    print(run_episode(RandomPolicy(4), env))"
      ]
    },
    {
      "cell_type": "code",
      "execution_count": null,
      "id": "b97e03a4",
      "metadata": {
        "id": "b97e03a4"
      },
      "outputs": [],
      "source": [
        "# Агент с DQN-Стратегией\n",
        "class DQNPolicy:\n",
        "    def __init__(self, n_actions, station_space, n_hidden = 128, lr=0.005):\n",
        "        self.n_actions = n_actions\n",
        "\n",
        "        self.dqn = torch.nn.Sequential(\n",
        "            torch.nn.Linear(station_space, n_hidden),\n",
        "            torch.nn.ReLU(),\n",
        "            torch.nn.Linear(n_hidden, n_actions)\n",
        "        )\n",
        "        self.loss = torch.nn.MSELoss()\n",
        "        self.optimizer = torch.optim.Adam(self.dqn.parameters(), lr=0.001)\n",
        "\n",
        "    def make_action(self, state, eps=0):\n",
        "        with torch.no_grad():\n",
        "            best_action = torch.argmax(self.dqn(torch.Tensor(state)))\n",
        "            if torch.rand((1,)).item() > eps:\n",
        "                return best_action.item()\n",
        "            return torch.randint(self.n_actions, (1,)).item()\n",
        "\n",
        "\n",
        "    def update(self, state, next_state, action, reward, gamma=1):\n",
        "        q_values = self.dqn(torch.Tensor(state))\n",
        "        q_values_next = self.dqn(torch.Tensor(next_state))\n",
        "\n",
        "        q_values_should_be = self.dqn(torch.Tensor(state)).tolist().copy()\n",
        "        q_values_should_be[action] = reward + gamma*torch.max(q_values_next).item()\n",
        "\n",
        "        self.optimizer.zero_grad()\n",
        "        self.loss(q_values, torch.Tensor(q_values_should_be)).backward()\n",
        "        self.optimizer.step()"
      ]
    },
    {
      "cell_type": "code",
      "execution_count": null,
      "id": "f992b946",
      "metadata": {
        "id": "f992b946"
      },
      "outputs": [],
      "source": [
        "# Обучение данной политики в течении n эпизодов\n",
        "def learn_policy(env, n_episodes, policy):\n",
        "    total_rewards = []\n",
        "\n",
        "    for episode in tqdm(range(n_episodes)):\n",
        "        state = env.reset()\n",
        "        is_done = False\n",
        "        total_reward = 0\n",
        "        while not is_done:\n",
        "            if episode % 20 == 0:\n",
        "                env.render()\n",
        "            action = policy.make_action(state, eps=0.1)\n",
        "            next_state, reward, is_done, _ = env.step(action)\n",
        "            total_reward += reward\n",
        "\n",
        "            policy.update(state, next_state, action, reward)\n",
        "            state = next_state\n",
        "        total_rewards.append(total_reward)\n",
        "    env.close()\n",
        "    return total_rewards"
      ]
    },
    {
      "cell_type": "code",
      "execution_count": null,
      "id": "a05be015",
      "metadata": {
        "id": "a05be015"
      },
      "outputs": [],
      "source": [
        "# Создаем агента\n",
        "policy = DQNPolicy(env.action_space.n, env.observation_space.shape[0])"
      ]
    },
    {
      "cell_type": "code",
      "execution_count": null,
      "id": "cef666f4",
      "metadata": {
        "id": "cef666f4"
      },
      "outputs": [],
      "source": [
        "# Пока агент ничего не умеет\n",
        "for _ in range(4):\n",
        "    print(run_episode(policy, env))"
      ]
    },
    {
      "cell_type": "code",
      "execution_count": null,
      "id": "6fc66790",
      "metadata": {
        "id": "6fc66790"
      },
      "outputs": [],
      "source": [
        "# Обучаем агента на 1000 эпизодах\n",
        "total_rewards = learn_policy(env, 1000, policy)"
      ]
    },
    {
      "cell_type": "code",
      "execution_count": null,
      "id": "0090e3ec",
      "metadata": {
        "id": "0090e3ec"
      },
      "outputs": [],
      "source": [
        "# Смотрим, как ведет себя агент\n",
        "for _ in range(4):\n",
        "    print(run_episode(policy, env))"
      ]
    },
    {
      "cell_type": "code",
      "execution_count": null,
      "id": "7177428d",
      "metadata": {
        "id": "7177428d"
      },
      "outputs": [],
      "source": [
        "# Библиотека, которая берет все на себя!"
      ]
    },
    {
      "cell_type": "code",
      "execution_count": null,
      "id": "24ce0e50",
      "metadata": {
        "id": "24ce0e50"
      },
      "outputs": [],
      "source": [
        "!pip install stable_baselines3"
      ]
    },
    {
      "cell_type": "code",
      "execution_count": null,
      "id": "c6381ef6",
      "metadata": {
        "id": "c6381ef6"
      },
      "outputs": [],
      "source": [
        "from stable_baselines3 import DQN\n",
        "from stable_baselines3.common.evaluation import evaluate_policy"
      ]
    },
    {
      "cell_type": "code",
      "execution_count": null,
      "id": "f4ce8a2d",
      "metadata": {
        "id": "f4ce8a2d"
      },
      "outputs": [],
      "source": [
        "model = DQN('MlpPolicy', env, verbose=1)"
      ]
    },
    {
      "cell_type": "code",
      "execution_count": null,
      "id": "d1456657",
      "metadata": {
        "id": "d1456657"
      },
      "outputs": [],
      "source": [
        "evaluate_policy(model, env, render=True, n_eval_episodes=1)\n",
        "env.close()"
      ]
    },
    {
      "cell_type": "code",
      "execution_count": null,
      "id": "c884dda7",
      "metadata": {
        "id": "c884dda7",
        "scrolled": true
      },
      "outputs": [],
      "source": [
        "model.learn(total_timesteps=300000)"
      ]
    },
    {
      "cell_type": "code",
      "execution_count": null,
      "id": "6e994cb7",
      "metadata": {
        "id": "6e994cb7"
      },
      "outputs": [],
      "source": [
        "model.save('my_model')"
      ]
    },
    {
      "cell_type": "code",
      "execution_count": null,
      "id": "ae36cc6f",
      "metadata": {
        "id": "ae36cc6f"
      },
      "outputs": [],
      "source": [
        "model = DQN.load('my_model')"
      ]
    },
    {
      "cell_type": "code",
      "execution_count": null,
      "id": "c1360447",
      "metadata": {
        "id": "c1360447"
      },
      "outputs": [],
      "source": [
        "evaluate_policy(model, env, render=True, n_eval_episodes=4)\n",
        "env.close()"
      ]
    },
    {
      "cell_type": "code",
      "execution_count": null,
      "id": "a15d80c4",
      "metadata": {
        "id": "a15d80c4"
      },
      "outputs": [],
      "source": []
    }
  ],
  "metadata": {
    "colab": {
      "provenance": []
    },
    "kernelspec": {
      "display_name": "Python 3 (ipykernel)",
      "language": "python",
      "name": "python3"
    },
    "language_info": {
      "codemirror_mode": {
        "name": "ipython",
        "version": 3
      },
      "file_extension": ".py",
      "mimetype": "text/x-python",
      "name": "python",
      "nbconvert_exporter": "python",
      "pygments_lexer": "ipython3",
      "version": "3.10.12"
    }
  },
  "nbformat": 4,
  "nbformat_minor": 5
}

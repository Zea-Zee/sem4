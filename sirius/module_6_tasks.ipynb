{
 "cells": [
  {
   "cell_type": "code",
   "execution_count": 2,
   "id": "49e42b9d",
   "metadata": {},
   "outputs": [],
   "source": [
    "import pandas as pd\n",
    "import seaborn as sns\n",
    "\n",
    "from math import floor\n",
    "from copy import deepcopy\n",
    "\n",
    "import random"
   ]
  },
  {
   "cell_type": "code",
   "execution_count": 3,
   "id": "88d6f367",
   "metadata": {},
   "outputs": [],
   "source": [
    "sns.set(rc={'figure.figsize': (11.7, 8.27)})"
   ]
  },
  {
   "cell_type": "code",
   "execution_count": 4,
   "id": "80f4649f",
   "metadata": {},
   "outputs": [
    {
     "name": "stdout",
     "output_type": "stream",
     "text": [
      "Defaulting to user installation because normal site-packages is not writeable\n",
      "Collecting sklearn\n",
      "  Downloading sklearn-0.0.post12.tar.gz (2.6 kB)\n",
      "  Preparing metadata (setup.py) ... \u001b[?25lerror\n",
      "  \u001b[1;31merror\u001b[0m: \u001b[1msubprocess-exited-with-error\u001b[0m\n",
      "  \n",
      "  \u001b[31m×\u001b[0m \u001b[32mpython setup.py egg_info\u001b[0m did not run successfully.\n",
      "  \u001b[31m│\u001b[0m exit code: \u001b[1;36m1\u001b[0m\n",
      "  \u001b[31m╰─>\u001b[0m \u001b[31m[15 lines of output]\u001b[0m\n",
      "  \u001b[31m   \u001b[0m The 'sklearn' PyPI package is deprecated, use 'scikit-learn'\n",
      "  \u001b[31m   \u001b[0m rather than 'sklearn' for pip commands.\n",
      "  \u001b[31m   \u001b[0m \n",
      "  \u001b[31m   \u001b[0m Here is how to fix this error in the main use cases:\n",
      "  \u001b[31m   \u001b[0m - use 'pip install scikit-learn' rather than 'pip install sklearn'\n",
      "  \u001b[31m   \u001b[0m - replace 'sklearn' by 'scikit-learn' in your pip requirements files\n",
      "  \u001b[31m   \u001b[0m   (requirements.txt, setup.py, setup.cfg, Pipfile, etc ...)\n",
      "  \u001b[31m   \u001b[0m - if the 'sklearn' package is used by one of your dependencies,\n",
      "  \u001b[31m   \u001b[0m   it would be great if you take some time to track which package uses\n",
      "  \u001b[31m   \u001b[0m   'sklearn' instead of 'scikit-learn' and report it to their issue tracker\n",
      "  \u001b[31m   \u001b[0m - as a last resort, set the environment variable\n",
      "  \u001b[31m   \u001b[0m   SKLEARN_ALLOW_DEPRECATED_SKLEARN_PACKAGE_INSTALL=True to avoid this error\n",
      "  \u001b[31m   \u001b[0m \n",
      "  \u001b[31m   \u001b[0m More information is available at\n",
      "  \u001b[31m   \u001b[0m https://github.com/scikit-learn/sklearn-pypi-package\n",
      "  \u001b[31m   \u001b[0m \u001b[31m[end of output]\u001b[0m\n",
      "  \n",
      "  \u001b[1;35mnote\u001b[0m: This error originates from a subprocess, and is likely not a problem with pip.\n",
      "\u001b[?25h\u001b[1;31merror\u001b[0m: \u001b[1mmetadata-generation-failed\u001b[0m\n",
      "\n",
      "\u001b[31m×\u001b[0m Encountered error while generating package metadata.\n",
      "\u001b[31m╰─>\u001b[0m See above for output.\n",
      "\n",
      "\u001b[1;35mnote\u001b[0m: This is an issue with the package mentioned above, not pip.\n",
      "\u001b[1;36mhint\u001b[0m: See above for details.\n"
     ]
    }
   ],
   "source": [
    "# Установка библиотеки sklearn\n",
    "!pip3 install sklearn"
   ]
  },
  {
   "cell_type": "code",
   "execution_count": 5,
   "id": "4dafa300",
   "metadata": {},
   "outputs": [
    {
     "ename": "ModuleNotFoundError",
     "evalue": "No module named 'sklearn'",
     "output_type": "error",
     "traceback": [
      "\u001b[0;31m---------------------------------------------------------------------------\u001b[0m",
      "\u001b[0;31mModuleNotFoundError\u001b[0m                       Traceback (most recent call last)",
      "\u001b[0;32m/tmp/ipykernel_35638/3924235141.py\u001b[0m in \u001b[0;36m<module>\u001b[0;34m\u001b[0m\n\u001b[0;32m----> 1\u001b[0;31m \u001b[0;32mfrom\u001b[0m \u001b[0msklearn\u001b[0m\u001b[0;34m.\u001b[0m\u001b[0mlinear_model\u001b[0m \u001b[0;32mimport\u001b[0m \u001b[0mLinearRegression\u001b[0m\u001b[0;34m\u001b[0m\u001b[0;34m\u001b[0m\u001b[0m\n\u001b[0m",
      "\u001b[0;31mModuleNotFoundError\u001b[0m: No module named 'sklearn'"
     ]
    }
   ],
   "source": [
    "from sklearn.linear_model import LinearRegression"
   ]
  },
  {
   "cell_type": "code",
   "execution_count": null,
   "id": "b17fa6ff",
   "metadata": {},
   "outputs": [],
   "source": [
    "class ShuffleOnceRandom():\n",
    "    \"\"\"\n",
    "    Генератор случайных чисел, который запрещает использовать\n",
    "    функцию shuffle больше одного раза.\n",
    "    \"\"\"\n",
    "\n",
    "    def __init__(self, seed=None):\n",
    "        import random\n",
    "\n",
    "        self._random_gen = random.Random(seed)\n",
    "        self._shuffle_cnt = 0\n",
    "\n",
    "    def shuffle(self, l):\n",
    "        if self._shuffle_cnt > 0:\n",
    "            raise RuntimeError('Нельзя использовать функцию shuffle больше одного раза')\n",
    "\n",
    "        self._shuffle_cnt += 1\n",
    "        self._random_gen.shuffle(l)"
   ]
  },
  {
   "cell_type": "code",
   "execution_count": null,
   "id": "2fdebbea",
   "metadata": {},
   "outputs": [],
   "source": [
    "class ChoicesNRandom():\n",
    "    \"\"\"\n",
    "    Генератор случайных чисел, который запрещает использовать\n",
    "    функцию choices больше n раз.\n",
    "    \"\"\"\n",
    "\n",
    "    def __init__(self, seed=None, n=1):\n",
    "        import random\n",
    "\n",
    "        self._random_gen = random.Random(seed)\n",
    "        self._choices_cnt = 0\n",
    "        self._n = n\n",
    "\n",
    "    def choices(self, *args, **kwargs):\n",
    "        if self._choices_cnt >= self._n:\n",
    "            raise RuntimeError(f'Нельзя использовать функцию choices больше {self._n} раз')\n",
    "\n",
    "        self._choices_cnt += 1\n",
    "        return self._random_gen.choices(*args, **kwargs)"
   ]
  },
  {
   "cell_type": "markdown",
   "id": "7ba1addb",
   "metadata": {},
   "source": [
    "# Разбиение на обучающую, валидационную и тестовую выборки"
   ]
  },
  {
   "cell_type": "code",
   "execution_count": null,
   "id": "67534ca9",
   "metadata": {},
   "outputs": [],
   "source": [
    "def train_test_split_solution(data,\n",
    "                              train_frac,\n",
    "                              random_gen):\n",
    "    \"\"\"\n",
    "    Разбивает переданный список объектов на обучающую и тестовую выборки.\n",
    "\n",
    "    Аргументы:\n",
    "        data: Список объектов, который нужно разделить на части.\n",
    "        train_frac: Доля объектов, которые нужно отправить в обучающую выборку.\n",
    "        random_gen: Генератор случайных чисел.\n",
    "\n",
    "    Возвращаемое значение:\n",
    "        Пара списков: обучающая выборка, тестовая выборка.\n",
    "    \"\"\"\n",
    "\n",
    "    pass"
   ]
  },
  {
   "cell_type": "code",
   "execution_count": null,
   "id": "578fef89",
   "metadata": {},
   "outputs": [],
   "source": [
    "def train_test_split_tests():\n",
    "    example_1_data = [1, 2, 3, 4, 5, 6, 7, 8, 9, 10]\n",
    "    example_1_train_frac = 0.7\n",
    "    example_1_random_gen = ShuffleOnceRandom(0)\n",
    "\n",
    "    example_1_res = [8, 9, 2, 6, 4, 5, 3], [1, 10, 7]\n",
    "\n",
    "    assert train_test_split_solution(example_1_data,\n",
    "                                     example_1_train_frac,\n",
    "                                     example_1_random_gen) == example_1_res\n",
    "\n",
    "\n",
    "    example_2_data = [i % 5 for i in range(100)]\n",
    "    example_2_train_frac = 0.9\n",
    "    example_2_random_gen = ShuffleOnceRandom(0)\n",
    "\n",
    "    example_2_res = [3, 3, 1, 2, 3, 3, 1, 1, 4, 4, 1, 3, 2, 1, 0, 2, 2, 2, 3, 1, 4, 1, 4, 0, 4, 0, 2, 4, 3, 2, 3, 1, 3, 4, 1, 3, 4, 3, 4, 4, 4, 0, 4, 0, 0, 1, 1, 1, 2, 2, 3, 0, 4, 0, 3, 1, 1, 0, 2, 0, 3, 2, 3, 0, 1, 0, 1, 0, 0, 4, 0, 1, 0, 2, 4, 2, 4, 3, 2, 3, 2, 4, 2, 0, 1, 2, 4, 2, 4, 0], [1, 3, 1, 2, 0, 3, 0, 3, 2, 4]\n",
    "\n",
    "    assert train_test_split_solution(example_2_data,\n",
    "                                     example_2_train_frac,\n",
    "                                     example_2_random_gen) == example_2_res\n",
    "\n",
    "    print('Все тесты прошли успешно!')"
   ]
  },
  {
   "cell_type": "code",
   "execution_count": null,
   "id": "835decd7",
   "metadata": {},
   "outputs": [],
   "source": [
    "train_test_split_tests()"
   ]
  },
  {
   "cell_type": "markdown",
   "id": "580cef6a",
   "metadata": {},
   "source": [
    "# Кросс-валидация"
   ]
  },
  {
   "cell_type": "code",
   "execution_count": null,
   "id": "b1c4fe20",
   "metadata": {},
   "outputs": [],
   "source": [
    "def round_to_3(x):\n",
    "    \"\"\"\n",
    "    Принимает число и возвращает результат его округления\n",
    "    до 3 знаков после запятой.\n",
    "\n",
    "    Аргументы:\n",
    "        x: Число.\n",
    "\n",
    "    Возвращаемое значение:\n",
    "        Результат округления числа до 3 знаков после запятой.\n",
    "    \"\"\"\n",
    "\n",
    "    return round(x, 3)"
   ]
  },
  {
   "cell_type": "code",
   "execution_count": null,
   "id": "64562776",
   "metadata": {},
   "outputs": [],
   "source": [
    "def split_into_k(l, k):\n",
    "    \"\"\"\n",
    "    Разделяет список на k частей.\n",
    "\n",
    "    Аргументы:\n",
    "        l: Список с объектами.\n",
    "        k: Число частей, на которые нужно разделить список.\n",
    "\n",
    "    Возвращаемое значение:\n",
    "        Возвращает список из k частей исходного списка.\n",
    "    \"\"\"\n",
    "\n",
    "    l_mod_k = len(l) % k\n",
    "    l_div_k = len(l) // k\n",
    "\n",
    "    res = []\n",
    "\n",
    "    for i in range(k):\n",
    "        res.append(l[i * l_div_k:(i + 1) * l_div_k])\n",
    "\n",
    "    for i in range(l_mod_k):\n",
    "        res[i].append(l[l_div_k * k + i])\n",
    "\n",
    "    return res\n",
    "\n",
    "def score_model(model, x_test, y_test):\n",
    "    \"\"\"\n",
    "    Оценивает точность модели по метрике «среднее отклонение от предсказанного значения».\n",
    "\n",
    "    Аргументы:\n",
    "        model: Модель.\n",
    "        x_test: Список объектов тестовой выборки.\n",
    "        y_test: Список значений предсказываемой характеристики для объектов из тестовой выборки.\n",
    "                Значение на $i$-ой позиции в списке соответствует $i$-ому объекту тестовой выборки.\n",
    "\n",
    "    Возвращаемое значение:\n",
    "        Точность модели.\n",
    "    \"\"\"\n",
    "\n",
    "    y_pred = model.predict(x_test)\n",
    "\n",
    "    res = 0\n",
    "\n",
    "    for i in range(len(y_test)):\n",
    "        res += abs(y_pred[i] - y_test[i])\n",
    "\n",
    "    return res / len(y_test)"
   ]
  },
  {
   "cell_type": "code",
   "execution_count": null,
   "id": "554dcb23",
   "metadata": {},
   "outputs": [],
   "source": [
    "def k_fold_solution(model, data_x, data_y, k, random_gen):\n",
    "    \"\"\"\n",
    "    Проводит кросс-валидацию заданной модели методом k-Fold.\n",
    "\n",
    "    Аргументы:\n",
    "        model: Модель, точность которой нужно оценить с помощью кросс-валидации.\n",
    "        data_x: Список объектов, на основе которых нужно построить модель.\n",
    "                Каждый объект представлен списком значений факторов.\n",
    "        data_y: Список значений предсказываемой величины для каждого из объектов.\n",
    "                На $i$-ой позиции в списке data_y находится предсказываемое\n",
    "                значение для $i$-го объекта из списка data_x.\n",
    "             k: Количество частей, на которые нужно разбить данные при кросс-валидации.\n",
    "        random_gen: Генератор случайных чисел.\n",
    "\n",
    "    Возвращаемое значение:\n",
    "        Усреднённая по всем итерациям k-Fold точность модели.\n",
    "    \"\"\"\n",
    "\n",
    "    pass"
   ]
  },
  {
   "cell_type": "code",
   "execution_count": null,
   "id": "33c77a3e",
   "metadata": {},
   "outputs": [],
   "source": [
    "def k_fold_test():\n",
    "    data_x_example_1 = [[1], [2], [3]]\n",
    "    data_y_example_1 = [1, 2, 3]\n",
    "\n",
    "    assert k_fold_solution(LinearRegression(),\n",
    "                           data_x_example_1, data_y_example_1, 3,\n",
    "                           ShuffleOnceRandom(0)) == 0.0\n",
    "\n",
    "    data_example_2 = pd.read_csv('k_fold_test_data.csv')\n",
    "\n",
    "    data_x_example_2 = [[x] for x in list(data_example_2['x'])]\n",
    "    data_y_example_2 = list(data_example_2['y'])\n",
    "\n",
    "    assert k_fold_solution(LinearRegression(),\n",
    "                           data_x_example_2, data_y_example_2, 100,\n",
    "                           ShuffleOnceRandom(0)) == 0.602\n",
    "\n",
    "    print('Тест прошёл успешно!')"
   ]
  },
  {
   "cell_type": "code",
   "execution_count": null,
   "id": "daa2815d",
   "metadata": {},
   "outputs": [],
   "source": [
    "k_fold_test()"
   ]
  },
  {
   "cell_type": "markdown",
   "id": "c8f2b4bc",
   "metadata": {},
   "source": [
    "# Погрешность оценки качества"
   ]
  },
  {
   "cell_type": "code",
   "execution_count": null,
   "id": "9d46a1f4",
   "metadata": {},
   "outputs": [],
   "source": [
    "error_modeling_data = pd.read_csv('error_modelling.csv')"
   ]
  },
  {
   "cell_type": "code",
   "execution_count": null,
   "id": "e537c2ba",
   "metadata": {},
   "outputs": [],
   "source": [
    "y = list(error_modeling_data['y'])\n",
    "y_pred = list(error_modeling_data['y_pred'])"
   ]
  },
  {
   "cell_type": "code",
   "execution_count": null,
   "id": "cb22e73c",
   "metadata": {},
   "outputs": [],
   "source": [
    "y_and_y_pred = list(zip(y, y_pred))"
   ]
  },
  {
   "cell_type": "code",
   "execution_count": null,
   "id": "14162fe6",
   "metadata": {},
   "outputs": [],
   "source": [
    "error_modeling_random_gen = random.Random(0)\n",
    "\n",
    "errs = []\n",
    "\n",
    "for i in range(10_000):\n",
    "    # необходимо сгенерировать случайную выборку объектов исходного множества\n",
    "    # и оценить точность работы модели на этой выборке\n",
    "\n",
    "    pass"
   ]
  },
  {
   "cell_type": "markdown",
   "id": "d3e21242",
   "metadata": {},
   "source": [
    "# Бутстрап"
   ]
  },
  {
   "cell_type": "code",
   "execution_count": null,
   "id": "5f2f8ca4",
   "metadata": {},
   "outputs": [],
   "source": [
    "def cut_on_edges(l, fraction_to_cut):\n",
    "    \"\"\"\n",
    "    Отбрасывает с левого и с правого концов переданного списка заданную долю элементов.\n",
    "\n",
    "    Аргументы:\n",
    "        l: Список элементов.\n",
    "        fraction_to_cut: Доля элементов, которую нужно отбросить с каждой из сторон списка.\n",
    "\n",
    "    Возвращаемое значение:\n",
    "        Новый список, в котором с левого и с правого концов отборешна заданная доля элементов.\n",
    "    \"\"\"\n",
    "\n",
    "    to_cut = floor(len(l) * fraction_to_cut)\n",
    "    return l[to_cut:len(l) - to_cut]"
   ]
  },
  {
   "cell_type": "code",
   "execution_count": null,
   "id": "f5175d9a",
   "metadata": {},
   "outputs": [],
   "source": [
    "def bootstrap_confidence_interval_solution(y, y_pred, fraction_to_cut, random_gen):\n",
    "    \"\"\"\n",
    "    Вычисляет доверительный интервал для точности модели на тестовой выборке с помощью бутстрапа.\n",
    "\n",
    "    Аргументы:\n",
    "        y: Реальные значения предсказываемой характеристики для объектов тестовой выборки.\n",
    "        y_pred: Предсказанные с помощью модели значения характеристики для объектов тестовой выборки.\n",
    "                $i$-ый элемент списка y_pred соответствует предсказанию моделью\n",
    "                значения под номером $i$ в списке y.\n",
    "        fraction_to_cut: Доля элементов, которую нужно отбросить с каждого из концов списка полученных с помощью\n",
    "                         бутстрапа значений перед получением доверительного интервала.\n",
    "        random_gen: Генератор случайных чисел.\n",
    "\n",
    "    Возвращаемое значение:\n",
    "        Доверительный интервал для точности модели, оценённой по метрике\n",
    "        «среднее отклонение от предсказанного значения».\n",
    "        Представляется в виде пары значений: левая граница интервала, правая граница интервала.\n",
    "    \"\"\"\n",
    "\n",
    "    pass"
   ]
  },
  {
   "cell_type": "code",
   "execution_count": null,
   "id": "91bf0e82",
   "metadata": {},
   "outputs": [],
   "source": [
    "def bootstrap_confidence_interval_test():\n",
    "    error_modeling_data = pd.read_csv('error_modelling.csv')\n",
    "\n",
    "    y = list(error_modeling_data['y'])\n",
    "    y_pred = list(error_modeling_data['y_pred'])\n",
    "\n",
    "    y_y_pred = list(zip(y, y_pred))\n",
    "\n",
    "    random_gen = random.Random(0)\n",
    "    y_y_pred_example_1 = random_gen.sample(y_y_pred, 100)\n",
    "\n",
    "    y_example_1 = [x[0] for x in y_y_pred_example_1]\n",
    "    y_pred_example_1 = [x[1] for x in y_y_pred_example_1]\n",
    "    random_gen_example_1 = ChoicesNRandom(0, n=10000)\n",
    "\n",
    "    res_example_1 = 7.178, 13.509\n",
    "\n",
    "    assert bootstrap_confidence_interval_solution(y_example_1, y_pred_example_1, 0.025, random_gen_example_1) == res_example_1\n",
    "\n",
    "    print('Тест прошёл успешно!')"
   ]
  },
  {
   "cell_type": "code",
   "execution_count": null,
   "id": "528e8347",
   "metadata": {},
   "outputs": [],
   "source": [
    "bootstrap_confidence_interval_test()"
   ]
  }
 ],
 "metadata": {
  "kernelspec": {
   "display_name": "Python 3 (ipykernel)",
   "language": "python",
   "name": "python3"
  },
  "language_info": {
   "codemirror_mode": {
    "name": "ipython",
    "version": 3
   },
   "file_extension": ".py",
   "mimetype": "text/x-python",
   "name": "python",
   "nbconvert_exporter": "python",
   "pygments_lexer": "ipython3",
   "version": "3.10.12"
  }
 },
 "nbformat": 4,
 "nbformat_minor": 5
}

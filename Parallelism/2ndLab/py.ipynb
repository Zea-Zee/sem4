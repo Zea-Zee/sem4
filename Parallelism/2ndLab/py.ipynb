{
 "cells": [
  {
   "cell_type": "code",
   "execution_count": 1,
   "metadata": {},
   "outputs": [
    {
     "name": "stderr",
     "output_type": "stream",
     "text": [
      "/tmp/ipykernel_9543/937586957.py:1: DeprecationWarning: \n",
      "Pyarrow will become a required dependency of pandas in the next major release of pandas (pandas 3.0),\n",
      "(to allow more performant data types, such as the Arrow string type, and better interoperability with other libraries)\n",
      "but was not found to be installed on your system.\n",
      "If this would cause problems for you,\n",
      "please provide us feedback at https://github.com/pandas-dev/pandas/issues/54466\n",
      "        \n",
      "  import pandas as    pd\n",
      "/home/zea/.local/lib/python3.10/site-packages/matplotlib/projections/__init__.py:63: UserWarning: Unable to import Axes3D. This may be due to multiple versions of Matplotlib being installed (e.g. as a system package and as a pip package). As a result, the 3D projection is not available.\n",
      "  warnings.warn(\"Unable to import Axes3D. This may be due to multiple versions of \"\n"
     ]
    }
   ],
   "source": [
    "import pandas as    pd\n",
    "import seaborn as   sns\n",
    "import matplotlib.pyplot as plt"
   ]
  },
  {
   "cell_type": "code",
   "execution_count": 7,
   "metadata": {},
   "outputs": [
    {
     "data": {
      "text/html": [
       "<div>\n",
       "<style scoped>\n",
       "    .dataframe tbody tr th:only-of-type {\n",
       "        vertical-align: middle;\n",
       "    }\n",
       "\n",
       "    .dataframe tbody tr th {\n",
       "        vertical-align: top;\n",
       "    }\n",
       "\n",
       "    .dataframe thead th {\n",
       "        text-align: right;\n",
       "    }\n",
       "</style>\n",
       "<table border=\"1\" class=\"dataframe\">\n",
       "  <thead>\n",
       "    <tr style=\"text-align: right;\">\n",
       "      <th></th>\n",
       "      <th>size</th>\n",
       "      <th>T1</th>\n",
       "      <th>T2</th>\n",
       "      <th>S2</th>\n",
       "      <th>T4</th>\n",
       "      <th>S4</th>\n",
       "      <th>T6</th>\n",
       "      <th>S6</th>\n",
       "      <th>T8</th>\n",
       "      <th>S8</th>\n",
       "      <th>T16</th>\n",
       "      <th>S16</th>\n",
       "      <th>T20</th>\n",
       "      <th>S20</th>\n",
       "      <th>T32</th>\n",
       "      <th>S32</th>\n",
       "      <th>T40</th>\n",
       "      <th>S40</th>\n",
       "    </tr>\n",
       "  </thead>\n",
       "  <tbody>\n",
       "    <tr>\n",
       "      <th>0</th>\n",
       "      <td>20000</td>\n",
       "      <td>2</td>\n",
       "      <td>1</td>\n",
       "      <td>2.0</td>\n",
       "      <td>0.52</td>\n",
       "      <td>3.846154</td>\n",
       "      <td>0.3500</td>\n",
       "      <td>5.714286</td>\n",
       "      <td>0.2648</td>\n",
       "      <td>7.552870</td>\n",
       "      <td>0.1512</td>\n",
       "      <td>13.227513</td>\n",
       "      <td>0.2620</td>\n",
       "      <td>7.633588</td>\n",
       "      <td>0.1470</td>\n",
       "      <td>13.605442</td>\n",
       "      <td>0.0700</td>\n",
       "      <td>28.571429</td>\n",
       "    </tr>\n",
       "    <tr>\n",
       "      <th>1</th>\n",
       "      <td>40000</td>\n",
       "      <td>8</td>\n",
       "      <td>4</td>\n",
       "      <td>2.0</td>\n",
       "      <td>2.00</td>\n",
       "      <td>4.000000</td>\n",
       "      <td>1.3743</td>\n",
       "      <td>5.821145</td>\n",
       "      <td>1.0500</td>\n",
       "      <td>7.619048</td>\n",
       "      <td>0.5800</td>\n",
       "      <td>13.793103</td>\n",
       "      <td>0.8614</td>\n",
       "      <td>9.287207</td>\n",
       "      <td>0.4746</td>\n",
       "      <td>16.856300</td>\n",
       "      <td>0.2479</td>\n",
       "      <td>32.271077</td>\n",
       "    </tr>\n",
       "  </tbody>\n",
       "</table>\n",
       "</div>"
      ],
      "text/plain": [
       "    size  T1  T2   S2    T4        S4      T6        S6      T8        S8  \\\n",
       "0  20000   2   1  2.0  0.52  3.846154  0.3500  5.714286  0.2648  7.552870   \n",
       "1  40000   8   4  2.0  2.00  4.000000  1.3743  5.821145  1.0500  7.619048   \n",
       "\n",
       "      T16        S16     T20       S20     T32        S32     T40        S40  \n",
       "0  0.1512  13.227513  0.2620  7.633588  0.1470  13.605442  0.0700  28.571429  \n",
       "1  0.5800  13.793103  0.8614  9.287207  0.4746  16.856300  0.2479  32.271077  "
      ]
     },
     "execution_count": 7,
     "metadata": {},
     "output_type": "execute_result"
    }
   ],
   "source": [
    "df = pd.read_csv('./res.csv')\n",
    "for i in [2,4,6,8,16,20,32,40]:\n",
    "    df[f\"S{i}\"] = df['T1'] / df[f\"T{i}\"]\n",
    "df"
   ]
  },
  {
   "cell_type": "code",
   "execution_count": 8,
   "metadata": {},
   "outputs": [
    {
     "data": {
      "text/html": [
       "<div>\n",
       "<style scoped>\n",
       "    .dataframe tbody tr th:only-of-type {\n",
       "        vertical-align: middle;\n",
       "    }\n",
       "\n",
       "    .dataframe tbody tr th {\n",
       "        vertical-align: top;\n",
       "    }\n",
       "\n",
       "    .dataframe thead th {\n",
       "        text-align: right;\n",
       "    }\n",
       "</style>\n",
       "<table border=\"1\" class=\"dataframe\">\n",
       "  <thead>\n",
       "    <tr style=\"text-align: right;\">\n",
       "      <th></th>\n",
       "      <th>S</th>\n",
       "      <th>T num</th>\n",
       "    </tr>\n",
       "  </thead>\n",
       "  <tbody>\n",
       "    <tr>\n",
       "      <th>0</th>\n",
       "      <td>2.000000</td>\n",
       "      <td>2</td>\n",
       "    </tr>\n",
       "    <tr>\n",
       "      <th>1</th>\n",
       "      <td>4.000000</td>\n",
       "      <td>4</td>\n",
       "    </tr>\n",
       "    <tr>\n",
       "      <th>2</th>\n",
       "      <td>5.821145</td>\n",
       "      <td>6</td>\n",
       "    </tr>\n",
       "    <tr>\n",
       "      <th>3</th>\n",
       "      <td>7.619048</td>\n",
       "      <td>8</td>\n",
       "    </tr>\n",
       "    <tr>\n",
       "      <th>4</th>\n",
       "      <td>13.793103</td>\n",
       "      <td>16</td>\n",
       "    </tr>\n",
       "    <tr>\n",
       "      <th>5</th>\n",
       "      <td>9.287207</td>\n",
       "      <td>20</td>\n",
       "    </tr>\n",
       "    <tr>\n",
       "      <th>6</th>\n",
       "      <td>16.856300</td>\n",
       "      <td>32</td>\n",
       "    </tr>\n",
       "    <tr>\n",
       "      <th>7</th>\n",
       "      <td>32.271077</td>\n",
       "      <td>40</td>\n",
       "    </tr>\n",
       "  </tbody>\n",
       "</table>\n",
       "</div>"
      ],
      "text/plain": [
       "           S  T num\n",
       "0   2.000000      2\n",
       "1   4.000000      4\n",
       "2   5.821145      6\n",
       "3   7.619048      8\n",
       "4  13.793103     16\n",
       "5   9.287207     20\n",
       "6  16.856300     32\n",
       "7  32.271077     40"
      ]
     },
     "execution_count": 8,
     "metadata": {},
     "output_type": "execute_result"
    }
   ],
   "source": [
    "df_20000 = pd.DataFrame(columns=[\"S\", \"T num\"])\n",
    "df_40000 = pd.DataFrame(columns=[\"S\", \"T num\"])\n",
    "for i in [2, 4, 6, 8, 16, 20, 32, 40]:\n",
    "    df_20000.loc[len(df_20000)] = [df.loc[0, f\"S{i}\"], int(i)]\n",
    "    df_40000.loc[len(df_40000)] = [df.loc[1, f\"S{i}\"], int(i)]\n",
    "df_20000[\"T num\"] = df_20000[\"T num\"].astype(int)\n",
    "df_40000[\"T num\"] = df_20000[\"T num\"].astype(int)\n",
    "df_40000"
   ]
  },
  {
   "cell_type": "code",
   "execution_count": 10,
   "metadata": {},
   "outputs": [
    {
     "data": {
      "image/png": "[encoded data removed]",
      "text/plain": [
       "<Figure size 720x432 with 1 Axes>"
      ]
     },
     "metadata": {
      "needs_background": "light"
     },
     "output_type": "display_data"
    }
   ],
   "source": [
    "plt.figure(figsize=(10, 6))\n",
    "plt.plot(df_20000[\"T num\"], df_20000[\"S\"], marker='o', label='M = 20000')\n",
    "plt.plot(df_40000[\"T num\"], df_40000[\"S\"], marker='o', label='M = 40000')\n",
    "\n",
    "plt.xlabel('T')\n",
    "plt.ylabel('S')\n",
    "plt.title('Dependency of S on T')\n",
    "plt.legend()\n",
    "plt.xticks(df_20000[\"T num\"])\n",
    "plt.grid(True)\n",
    "plt.savefig(\"plot.png\")\n",
    "plt.show()\n"
   ]
  },
  {
   "cell_type": "code",
   "execution_count": null,
   "metadata": {},
   "outputs": [],
   "source": []
  }
 ],
 "metadata": {
  "kernelspec": {
   "display_name": "Python 3",
   "language": "python",
   "name": "python3"
  },
  "language_info": {
   "codemirror_mode": {
    "name": "ipython",
    "version": 3
   },
   "file_extension": ".py",
   "mimetype": "text/x-python",
   "name": "python",
   "nbconvert_exporter": "python",
   "pygments_lexer": "ipython3",
   "version": "3.10.12"
  }
 },
 "nbformat": 4,
 "nbformat_minor": 2
}

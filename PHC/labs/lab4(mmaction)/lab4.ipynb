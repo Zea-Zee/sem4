{
 "cells": [
  {
   "cell_type": "code",
   "execution_count": 1,
   "metadata": {},
   "outputs": [
    {
     "name": "stdout",
     "output_type": "stream",
     "text": [
      "Requirement already satisfied: openmim in c:\\users\\kuzga\\appdata\\local\\programs\\python\\python311\\lib\\site-packages (0.3.9)\n",
      "Requirement already satisfied: Click in c:\\users\\kuzga\\appdata\\local\\programs\\python\\python311\\lib\\site-packages (from openmim) (8.1.7)\n",
      "Requirement already satisfied: colorama in c:\\users\\kuzga\\appdata\\local\\programs\\python\\python311\\lib\\site-packages (from openmim) (0.4.6)\n",
      "Requirement already satisfied: model-index in c:\\users\\kuzga\\appdata\\local\\programs\\python\\python311\\lib\\site-packages (from openmim) (0.1.11)\n",
      "Requirement already satisfied: opendatalab in c:\\users\\kuzga\\appdata\\local\\programs\\python\\python311\\lib\\site-packages (from openmim) (0.0.10)\n",
      "Requirement already satisfied: pandas in c:\\users\\kuzga\\appdata\\local\\programs\\python\\python311\\lib\\site-packages (from openmim) (2.1.1)\n",
      "Requirement already satisfied: pip>=19.3 in c:\\users\\kuzga\\appdata\\local\\programs\\python\\python311\\lib\\site-packages (from openmim) (24.0)\n",
      "Requirement already satisfied: requests in c:\\users\\kuzga\\appdata\\local\\programs\\python\\python311\\lib\\site-packages (from openmim) (2.28.2)\n",
      "Requirement already satisfied: rich in c:\\users\\kuzga\\appdata\\local\\programs\\python\\python311\\lib\\site-packages (from openmim) (13.4.2)\n",
      "Requirement already satisfied: tabulate in c:\\users\\kuzga\\appdata\\local\\programs\\python\\python311\\lib\\site-packages (from openmim) (0.9.0)\n",
      "Requirement already satisfied: pyyaml in c:\\users\\kuzga\\appdata\\local\\programs\\python\\python311\\lib\\site-packages (from model-index->openmim) (6.0.1)\n",
      "Requirement already satisfied: markdown in c:\\users\\kuzga\\appdata\\local\\programs\\python\\python311\\lib\\site-packages (from model-index->openmim) (3.6)\n",
      "Requirement already satisfied: ordered-set in c:\\users\\kuzga\\appdata\\local\\programs\\python\\python311\\lib\\site-packages (from model-index->openmim) (4.1.0)\n",
      "Requirement already satisfied: pycryptodome in c:\\users\\kuzga\\appdata\\local\\programs\\python\\python311\\lib\\site-packages (from opendatalab->openmim) (3.20.0)\n",
      "Requirement already satisfied: tqdm in c:\\users\\kuzga\\appdata\\local\\programs\\python\\python311\\lib\\site-packages (from opendatalab->openmim) (4.65.2)\n",
      "Requirement already satisfied: openxlab in c:\\users\\kuzga\\appdata\\local\\programs\\python\\python311\\lib\\site-packages (from opendatalab->openmim) (0.0.37)\n",
      "Requirement already satisfied: pywin32 in c:\\users\\kuzga\\appdata\\local\\programs\\python\\python311\\lib\\site-packages (from opendatalab->openmim) (306)\n",
      "Requirement already satisfied: charset-normalizer<4,>=2 in c:\\users\\kuzga\\appdata\\local\\programs\\python\\python311\\lib\\site-packages (from requests->openmim) (3.3.0)\n",
      "Requirement already satisfied: idna<4,>=2.5 in c:\\users\\kuzga\\appdata\\local\\programs\\python\\python311\\lib\\site-packages (from requests->openmim) (2.10)\n",
      "Requirement already satisfied: urllib3<1.27,>=1.21.1 in c:\\users\\kuzga\\appdata\\local\\programs\\python\\python311\\lib\\site-packages (from requests->openmim) (1.26.18)\n",
      "Requirement already satisfied: certifi>=2017.4.17 in c:\\users\\kuzga\\appdata\\local\\programs\\python\\python311\\lib\\site-packages (from requests->openmim) (2023.7.22)\n",
      "Requirement already satisfied: numpy>=1.23.2 in c:\\users\\kuzga\\appdata\\local\\programs\\python\\python311\\lib\\site-packages (from pandas->openmim) (1.26.0)\n",
      "Requirement already satisfied: python-dateutil>=2.8.2 in c:\\users\\kuzga\\appdata\\local\\programs\\python\\python311\\lib\\site-packages (from pandas->openmim) (2.8.2)\n",
      "Requirement already satisfied: pytz>=2020.1 in c:\\users\\kuzga\\appdata\\local\\programs\\python\\python311\\lib\\site-packages (from pandas->openmim) (2023.3.post1)\n",
      "Requirement already satisfied: tzdata>=2022.1 in c:\\users\\kuzga\\appdata\\local\\programs\\python\\python311\\lib\\site-packages (from pandas->openmim) (2023.3)\n",
      "Requirement already satisfied: markdown-it-py>=2.2.0 in c:\\users\\kuzga\\appdata\\local\\programs\\python\\python311\\lib\\site-packages (from rich->openmim) (3.0.0)\n",
      "Requirement already satisfied: pygments<3.0.0,>=2.13.0 in c:\\users\\kuzga\\appdata\\local\\programs\\python\\python311\\lib\\site-packages (from rich->openmim) (2.16.1)\n",
      "Requirement already satisfied: mdurl~=0.1 in c:\\users\\kuzga\\appdata\\local\\programs\\python\\python311\\lib\\site-packages (from markdown-it-py>=2.2.0->rich->openmim) (0.1.2)\n",
      "Requirement already satisfied: six>=1.5 in c:\\users\\kuzga\\appdata\\local\\programs\\python\\python311\\lib\\site-packages (from python-dateutil>=2.8.2->pandas->openmim) (1.16.0)\n",
      "Requirement already satisfied: oss2~=2.17.0 in c:\\users\\kuzga\\appdata\\local\\programs\\python\\python311\\lib\\site-packages (from openxlab->opendatalab->openmim) (2.17.0)\n",
      "Requirement already satisfied: setuptools~=60.2.0 in c:\\users\\kuzga\\appdata\\local\\programs\\python\\python311\\lib\\site-packages (from openxlab->opendatalab->openmim) (60.2.0)\n",
      "Requirement already satisfied: crcmod>=1.7 in c:\\users\\kuzga\\appdata\\local\\programs\\python\\python311\\lib\\site-packages (from oss2~=2.17.0->openxlab->opendatalab->openmim) (1.7)\n",
      "Requirement already satisfied: aliyun-python-sdk-kms>=2.4.1 in c:\\users\\kuzga\\appdata\\local\\programs\\python\\python311\\lib\\site-packages (from oss2~=2.17.0->openxlab->opendatalab->openmim) (2.16.2)\n",
      "Requirement already satisfied: aliyun-python-sdk-core>=2.13.12 in c:\\users\\kuzga\\appdata\\local\\programs\\python\\python311\\lib\\site-packages (from oss2~=2.17.0->openxlab->opendatalab->openmim) (2.15.0)\n",
      "Requirement already satisfied: jmespath<1.0.0,>=0.9.3 in c:\\users\\kuzga\\appdata\\local\\programs\\python\\python311\\lib\\site-packages (from aliyun-python-sdk-core>=2.13.12->oss2~=2.17.0->openxlab->opendatalab->openmim) (0.10.0)\n",
      "Requirement already satisfied: cryptography>=2.6.0 in c:\\users\\kuzga\\appdata\\local\\programs\\python\\python311\\lib\\site-packages (from aliyun-python-sdk-core>=2.13.12->oss2~=2.17.0->openxlab->opendatalab->openmim) (42.0.5)\n",
      "Requirement already satisfied: cffi>=1.12 in c:\\users\\kuzga\\appdata\\local\\programs\\python\\python311\\lib\\site-packages (from cryptography>=2.6.0->aliyun-python-sdk-core>=2.13.12->oss2~=2.17.0->openxlab->opendatalab->openmim) (1.16.0)\n",
      "Requirement already satisfied: pycparser in c:\\users\\kuzga\\appdata\\local\\programs\\python\\python311\\lib\\site-packages (from cffi>=1.12->cryptography>=2.6.0->aliyun-python-sdk-core>=2.13.12->oss2~=2.17.0->openxlab->opendatalab->openmim) (2.21)\n",
      "Looking in links: https://download.openmmlab.com/mmcv/dist/cu117/torch2.0.0/index.html\n",
      "Requirement already satisfied: mmengine in c:\\users\\kuzga\\appdata\\local\\programs\\python\\python311\\lib\\site-packages (0.10.3)\n",
      "Requirement already satisfied: addict in c:\\users\\kuzga\\appdata\\local\\programs\\python\\python311\\lib\\site-packages (from mmengine) (2.4.0)\n",
      "Requirement already satisfied: matplotlib in c:\\users\\kuzga\\appdata\\local\\programs\\python\\python311\\lib\\site-packages (from mmengine) (3.8.0)\n",
      "Requirement already satisfied: numpy in c:\\users\\kuzga\\appdata\\local\\programs\\python\\python311\\lib\\site-packages (from mmengine) (1.26.0)\n",
      "Requirement already satisfied: pyyaml in c:\\users\\kuzga\\appdata\\local\\programs\\python\\python311\\lib\\site-packages (from mmengine) (6.0.1)\n",
      "Requirement already satisfied: rich in c:\\users\\kuzga\\appdata\\local\\programs\\python\\python311\\lib\\site-packages (from mmengine) (13.4.2)\n",
      "Requirement already satisfied: termcolor in c:\\users\\kuzga\\appdata\\local\\programs\\python\\python311\\lib\\site-packages (from mmengine) (2.4.0)\n",
      "Requirement already satisfied: yapf in c:\\users\\kuzga\\appdata\\local\\programs\\python\\python311\\lib\\site-packages (from mmengine) (0.40.2)\n",
      "Requirement already satisfied: opencv-python>=3 in c:\\users\\kuzga\\appdata\\local\\programs\\python\\python311\\lib\\site-packages (from mmengine) (4.8.1.78)\n",
      "Requirement already satisfied: regex in c:\\users\\kuzga\\appdata\\local\\programs\\python\\python311\\lib\\site-packages (from mmengine) (2023.10.3)\n",
      "Requirement already satisfied: contourpy>=1.0.1 in c:\\users\\kuzga\\appdata\\local\\programs\\python\\python311\\lib\\site-packages (from matplotlib->mmengine) (1.1.1)\n",
      "Requirement already satisfied: cycler>=0.10 in c:\\users\\kuzga\\appdata\\local\\programs\\python\\python311\\lib\\site-packages (from matplotlib->mmengine) (0.10.0)\n",
      "Requirement already satisfied: fonttools>=4.22.0 in c:\\users\\kuzga\\appdata\\local\\programs\\python\\python311\\lib\\site-packages (from matplotlib->mmengine) (4.43.1)\n",
      "Requirement already satisfied: kiwisolver>=1.0.1 in c:\\users\\kuzga\\appdata\\local\\programs\\python\\python311\\lib\\site-packages (from matplotlib->mmengine) (1.4.5)\n",
      "Requirement already satisfied: packaging>=20.0 in c:\\users\\kuzga\\appdata\\local\\programs\\python\\python311\\lib\\site-packages (from matplotlib->mmengine) (23.2)\n",
      "Requirement already satisfied: pillow>=6.2.0 in c:\\users\\kuzga\\appdata\\local\\programs\\python\\python311\\lib\\site-packages (from matplotlib->mmengine) (10.0.1)\n",
      "Requirement already satisfied: pyparsing>=2.3.1 in c:\\users\\kuzga\\appdata\\local\\programs\\python\\python311\\lib\\site-packages (from matplotlib->mmengine) (3.1.1)\n",
      "Requirement already satisfied: python-dateutil>=2.7 in c:\\users\\kuzga\\appdata\\local\\programs\\python\\python311\\lib\\site-packages (from matplotlib->mmengine) (2.8.2)\n",
      "Requirement already satisfied: markdown-it-py>=2.2.0 in c:\\users\\kuzga\\appdata\\local\\programs\\python\\python311\\lib\\site-packages (from rich->mmengine) (3.0.0)\n",
      "Requirement already satisfied: pygments<3.0.0,>=2.13.0 in c:\\users\\kuzga\\appdata\\local\\programs\\python\\python311\\lib\\site-packages (from rich->mmengine) (2.16.1)\n",
      "Requirement already satisfied: importlib-metadata>=6.6.0 in c:\\users\\kuzga\\appdata\\local\\programs\\python\\python311\\lib\\site-packages (from yapf->mmengine) (7.1.0)\n",
      "Requirement already satisfied: platformdirs>=3.5.1 in c:\\users\\kuzga\\appdata\\local\\programs\\python\\python311\\lib\\site-packages (from yapf->mmengine) (3.11.0)\n",
      "Requirement already satisfied: tomli>=2.0.1 in c:\\users\\kuzga\\appdata\\local\\programs\\python\\python311\\lib\\site-packages (from yapf->mmengine) (2.0.1)\n",
      "Requirement already satisfied: six in c:\\users\\kuzga\\appdata\\local\\programs\\python\\python311\\lib\\site-packages (from cycler>=0.10->matplotlib->mmengine) (1.16.0)\n",
      "Requirement already satisfied: zipp>=0.5 in c:\\users\\kuzga\\appdata\\local\\programs\\python\\python311\\lib\\site-packages (from importlib-metadata>=6.6.0->yapf->mmengine) (3.18.1)\n",
      "Requirement already satisfied: mdurl~=0.1 in c:\\users\\kuzga\\appdata\\local\\programs\\python\\python311\\lib\\site-packages (from markdown-it-py>=2.2.0->rich->mmengine) (0.1.2)\n",
      "^C\n",
      "Looking in links: https://download.openmmlab.com/mmcv/dist/cu117/torch2.0.0/index.html\n",
      "Requirement already satisfied: mmcv in c:\\users\\kuzga\\appdata\\local\\programs\\python\\python311\\lib\\site-packages (2.1.0)\n",
      "Requirement already satisfied: addict in c:\\users\\kuzga\\appdata\\local\\programs\\python\\python311\\lib\\site-packages (from mmcv) (2.4.0)\n",
      "Requirement already satisfied: mmengine>=0.3.0 in c:\\users\\kuzga\\appdata\\local\\programs\\python\\python311\\lib\\site-packages (from mmcv) (0.10.3)\n",
      "Requirement already satisfied: numpy in c:\\users\\kuzga\\appdata\\local\\programs\\python\\python311\\lib\\site-packages (from mmcv) (1.26.0)\n",
      "Requirement already satisfied: packaging in c:\\users\\kuzga\\appdata\\local\\programs\\python\\python311\\lib\\site-packages (from mmcv) (23.2)\n",
      "Requirement already satisfied: Pillow in c:\\users\\kuzga\\appdata\\local\\programs\\python\\python311\\lib\\site-packages (from mmcv) (10.0.1)\n",
      "Requirement already satisfied: pyyaml in c:\\users\\kuzga\\appdata\\local\\programs\\python\\python311\\lib\\site-packages (from mmcv) (6.0.1)\n",
      "Requirement already satisfied: yapf in c:\\users\\kuzga\\appdata\\local\\programs\\python\\python311\\lib\\site-packages (from mmcv) (0.40.2)\n",
      "Requirement already satisfied: opencv-python>=3 in c:\\users\\kuzga\\appdata\\local\\programs\\python\\python311\\lib\\site-packages (from mmcv) (4.8.1.78)\n",
      "Requirement already satisfied: regex in c:\\users\\kuzga\\appdata\\local\\programs\\python\\python311\\lib\\site-packages (from mmcv) (2023.10.3)\n",
      "Requirement already satisfied: matplotlib in c:\\users\\kuzga\\appdata\\local\\programs\\python\\python311\\lib\\site-packages (from mmengine>=0.3.0->mmcv) (3.8.0)\n",
      "Requirement already satisfied: rich in c:\\users\\kuzga\\appdata\\local\\programs\\python\\python311\\lib\\site-packages (from mmengine>=0.3.0->mmcv) (13.4.2)\n",
      "Requirement already satisfied: termcolor in c:\\users\\kuzga\\appdata\\local\\programs\\python\\python311\\lib\\site-packages (from mmengine>=0.3.0->mmcv) (2.4.0)\n",
      "Requirement already satisfied: importlib-metadata>=6.6.0 in c:\\users\\kuzga\\appdata\\local\\programs\\python\\python311\\lib\\site-packages (from yapf->mmcv) (7.1.0)\n",
      "Requirement already satisfied: platformdirs>=3.5.1 in c:\\users\\kuzga\\appdata\\local\\programs\\python\\python311\\lib\\site-packages (from yapf->mmcv) (3.11.0)\n",
      "Requirement already satisfied: tomli>=2.0.1 in c:\\users\\kuzga\\appdata\\local\\programs\\python\\python311\\lib\\site-packages (from yapf->mmcv) (2.0.1)\n",
      "Requirement already satisfied: zipp>=0.5 in c:\\users\\kuzga\\appdata\\local\\programs\\python\\python311\\lib\\site-packages (from importlib-metadata>=6.6.0->yapf->mmcv) (3.18.1)\n",
      "Requirement already satisfied: contourpy>=1.0.1 in c:\\users\\kuzga\\appdata\\local\\programs\\python\\python311\\lib\\site-packages (from matplotlib->mmengine>=0.3.0->mmcv) (1.1.1)\n",
      "Requirement already satisfied: cycler>=0.10 in c:\\users\\kuzga\\appdata\\local\\programs\\python\\python311\\lib\\site-packages (from matplotlib->mmengine>=0.3.0->mmcv) (0.10.0)\n",
      "Requirement already satisfied: fonttools>=4.22.0 in c:\\users\\kuzga\\appdata\\local\\programs\\python\\python311\\lib\\site-packages (from matplotlib->mmengine>=0.3.0->mmcv) (4.43.1)\n",
      "Requirement already satisfied: kiwisolver>=1.0.1 in c:\\users\\kuzga\\appdata\\local\\programs\\python\\python311\\lib\\site-packages (from matplotlib->mmengine>=0.3.0->mmcv) (1.4.5)\n",
      "Requirement already satisfied: pyparsing>=2.3.1 in c:\\users\\kuzga\\appdata\\local\\programs\\python\\python311\\lib\\site-packages (from matplotlib->mmengine>=0.3.0->mmcv) (3.1.1)\n",
      "Requirement already satisfied: python-dateutil>=2.7 in c:\\users\\kuzga\\appdata\\local\\programs\\python\\python311\\lib\\site-packages (from matplotlib->mmengine>=0.3.0->mmcv) (2.8.2)\n",
      "Requirement already satisfied: markdown-it-py>=2.2.0 in c:\\users\\kuzga\\appdata\\local\\programs\\python\\python311\\lib\\site-packages (from rich->mmengine>=0.3.0->mmcv) (3.0.0)\n",
      "Requirement already satisfied: pygments<3.0.0,>=2.13.0 in c:\\users\\kuzga\\appdata\\local\\programs\\python\\python311\\lib\\site-packages (from rich->mmengine>=0.3.0->mmcv) (2.16.1)\n",
      "Requirement already satisfied: six in c:\\users\\kuzga\\appdata\\local\\programs\\python\\python311\\lib\\site-packages (from cycler>=0.10->matplotlib->mmengine>=0.3.0->mmcv) (1.16.0)\n",
      "Requirement already satisfied: mdurl~=0.1 in c:\\users\\kuzga\\appdata\\local\\programs\\python\\python311\\lib\\site-packages (from markdown-it-py>=2.2.0->rich->mmengine>=0.3.0->mmcv) (0.1.2)\n",
      "Looking in links: https://download.openmmlab.com/mmcv/dist/cu117/torch2.0.0/index.html\n",
      "Requirement already satisfied: mmdet in c:\\users\\kuzga\\appdata\\local\\programs\\python\\python311\\lib\\site-packages (3.2.0)\n",
      "Requirement already satisfied: matplotlib in c:\\users\\kuzga\\appdata\\local\\programs\\python\\python311\\lib\\site-packages (from mmdet) (3.8.0)\n",
      "Requirement already satisfied: numpy in c:\\users\\kuzga\\appdata\\local\\programs\\python\\python311\\lib\\site-packages (from mmdet) (1.26.0)\n",
      "Requirement already satisfied: pycocotools in c:\\users\\kuzga\\appdata\\local\\programs\\python\\python311\\lib\\site-packages (from mmdet) (2.0.7)\n",
      "Requirement already satisfied: scipy in c:\\users\\kuzga\\appdata\\local\\programs\\python\\python311\\lib\\site-packages (from mmdet) (1.11.3)\n",
      "Requirement already satisfied: shapely in c:\\users\\kuzga\\appdata\\local\\programs\\python\\python311\\lib\\site-packages (from mmdet) (2.0.3)\n",
      "Requirement already satisfied: six in c:\\users\\kuzga\\appdata\\local\\programs\\python\\python311\\lib\\site-packages (from mmdet) (1.16.0)\n",
      "Requirement already satisfied: terminaltables in c:\\users\\kuzga\\appdata\\local\\programs\\python\\python311\\lib\\site-packages (from mmdet) (3.1.10)\n",
      "Requirement already satisfied: tqdm in c:\\users\\kuzga\\appdata\\local\\programs\\python\\python311\\lib\\site-packages (from mmdet) (4.65.2)\n",
      "Requirement already satisfied: mmcv<2.2.0,>=2.0.0rc4 in c:\\users\\kuzga\\appdata\\local\\programs\\python\\python311\\lib\\site-packages (from mmdet) (2.1.0)\n",
      "Requirement already satisfied: mmengine<1.0.0,>=0.7.1 in c:\\users\\kuzga\\appdata\\local\\programs\\python\\python311\\lib\\site-packages (from mmdet) (0.10.3)\n",
      "Requirement already satisfied: addict in c:\\users\\kuzga\\appdata\\local\\programs\\python\\python311\\lib\\site-packages (from mmcv<2.2.0,>=2.0.0rc4->mmdet) (2.4.0)\n",
      "Requirement already satisfied: packaging in c:\\users\\kuzga\\appdata\\local\\programs\\python\\python311\\lib\\site-packages (from mmcv<2.2.0,>=2.0.0rc4->mmdet) (23.2)\n",
      "Requirement already satisfied: Pillow in c:\\users\\kuzga\\appdata\\local\\programs\\python\\python311\\lib\\site-packages (from mmcv<2.2.0,>=2.0.0rc4->mmdet) (10.0.1)\n",
      "Requirement already satisfied: pyyaml in c:\\users\\kuzga\\appdata\\local\\programs\\python\\python311\\lib\\site-packages (from mmcv<2.2.0,>=2.0.0rc4->mmdet) (6.0.1)\n",
      "Requirement already satisfied: yapf in c:\\users\\kuzga\\appdata\\local\\programs\\python\\python311\\lib\\site-packages (from mmcv<2.2.0,>=2.0.0rc4->mmdet) (0.40.2)\n",
      "Requirement already satisfied: opencv-python>=3 in c:\\users\\kuzga\\appdata\\local\\programs\\python\\python311\\lib\\site-packages (from mmcv<2.2.0,>=2.0.0rc4->mmdet) (4.8.1.78)\n",
      "Requirement already satisfied: regex in c:\\users\\kuzga\\appdata\\local\\programs\\python\\python311\\lib\\site-packages (from mmcv<2.2.0,>=2.0.0rc4->mmdet) (2023.10.3)\n",
      "Requirement already satisfied: rich in c:\\users\\kuzga\\appdata\\local\\programs\\python\\python311\\lib\\site-packages (from mmengine<1.0.0,>=0.7.1->mmdet) (13.4.2)\n",
      "Requirement already satisfied: termcolor in c:\\users\\kuzga\\appdata\\local\\programs\\python\\python311\\lib\\site-packages (from mmengine<1.0.0,>=0.7.1->mmdet) (2.4.0)\n",
      "Requirement already satisfied: contourpy>=1.0.1 in c:\\users\\kuzga\\appdata\\local\\programs\\python\\python311\\lib\\site-packages (from matplotlib->mmdet) (1.1.1)\n",
      "Requirement already satisfied: cycler>=0.10 in c:\\users\\kuzga\\appdata\\local\\programs\\python\\python311\\lib\\site-packages (from matplotlib->mmdet) (0.10.0)\n",
      "Requirement already satisfied: fonttools>=4.22.0 in c:\\users\\kuzga\\appdata\\local\\programs\\python\\python311\\lib\\site-packages (from matplotlib->mmdet) (4.43.1)\n",
      "Requirement already satisfied: kiwisolver>=1.0.1 in c:\\users\\kuzga\\appdata\\local\\programs\\python\\python311\\lib\\site-packages (from matplotlib->mmdet) (1.4.5)\n",
      "Requirement already satisfied: pyparsing>=2.3.1 in c:\\users\\kuzga\\appdata\\local\\programs\\python\\python311\\lib\\site-packages (from matplotlib->mmdet) (3.1.1)\n",
      "Requirement already satisfied: python-dateutil>=2.7 in c:\\users\\kuzga\\appdata\\local\\programs\\python\\python311\\lib\\site-packages (from matplotlib->mmdet) (2.8.2)\n",
      "Requirement already satisfied: colorama in c:\\users\\kuzga\\appdata\\local\\programs\\python\\python311\\lib\\site-packages (from tqdm->mmdet) (0.4.6)\n",
      "Requirement already satisfied: markdown-it-py>=2.2.0 in c:\\users\\kuzga\\appdata\\local\\programs\\python\\python311\\lib\\site-packages (from rich->mmengine<1.0.0,>=0.7.1->mmdet) (3.0.0)\n",
      "Requirement already satisfied: pygments<3.0.0,>=2.13.0 in c:\\users\\kuzga\\appdata\\local\\programs\\python\\python311\\lib\\site-packages (from rich->mmengine<1.0.0,>=0.7.1->mmdet) (2.16.1)\n",
      "Requirement already satisfied: importlib-metadata>=6.6.0 in c:\\users\\kuzga\\appdata\\local\\programs\\python\\python311\\lib\\site-packages (from yapf->mmcv<2.2.0,>=2.0.0rc4->mmdet) (7.1.0)\n",
      "Requirement already satisfied: platformdirs>=3.5.1 in c:\\users\\kuzga\\appdata\\local\\programs\\python\\python311\\lib\\site-packages (from yapf->mmcv<2.2.0,>=2.0.0rc4->mmdet) (3.11.0)\n",
      "Requirement already satisfied: tomli>=2.0.1 in c:\\users\\kuzga\\appdata\\local\\programs\\python\\python311\\lib\\site-packages (from yapf->mmcv<2.2.0,>=2.0.0rc4->mmdet) (2.0.1)\n",
      "Requirement already satisfied: zipp>=0.5 in c:\\users\\kuzga\\appdata\\local\\programs\\python\\python311\\lib\\site-packages (from importlib-metadata>=6.6.0->yapf->mmcv<2.2.0,>=2.0.0rc4->mmdet) (3.18.1)\n",
      "Requirement already satisfied: mdurl~=0.1 in c:\\users\\kuzga\\appdata\\local\\programs\\python\\python311\\lib\\site-packages (from markdown-it-py>=2.2.0->rich->mmengine<1.0.0,>=0.7.1->mmdet) (0.1.2)\n"
     ]
    }
   ],
   "source": [
    "!pip install -U openmim\n",
    "!mim install mmengine\n",
    "!mim install mmcv\n",
    "!mim install mmdet\n",
    "!mim install mmpose"
   ]
  },
  {
   "cell_type": "code",
   "execution_count": 2,
   "metadata": {},
   "outputs": [
    {
     "name": "stdout",
     "output_type": "stream",
     "text": [
      "c:\\Users\\kuzga\\OneDrive\\Рабочий стол\\sem4\\PHC\\labs\\lab4(mmaction)\\mmaction2\n"
     ]
    },
    {
     "name": "stderr",
     "output_type": "stream",
     "text": [
      "Cloning into 'mmaction2'...\n",
      "c:\\Users\\kuzga\\AppData\\Local\\Programs\\Python\\Python311\\Lib\\site-packages\\IPython\\core\\magics\\osm.py:417: UserWarning: using dhist requires you to install the `pickleshare` library.\n",
      "  self.shell.db['dhist'] = compress_dhist(dhist)[-100:]\n"
     ]
    },
    {
     "name": "stdout",
     "output_type": "stream",
     "text": [
      "Using pip 24.0 from C:\\Users\\kuzga\\AppData\\Local\\Programs\\Python\\Python311\\Lib\\site-packages\\pip (python 3.11)\n",
      "Obtaining file:///C:/Users/kuzga/OneDrive/%D0%A0%D0%B0%D0%B1%D0%BE%D1%87%D0%B8%D0%B9%20%D1%81%D1%82%D0%BE%D0%BB/sem4/PHC/labs/lab4%28mmaction%29/mmaction2\n",
      "  Preparing metadata (setup.py): started\n",
      "  Preparing metadata (setup.py): finished with status 'done'\n",
      "Requirement already satisfied: decord>=0.4.1 in c:\\users\\kuzga\\appdata\\local\\programs\\python\\python311\\lib\\site-packages (from mmaction2==1.2.0) (0.6.0)\n",
      "Requirement already satisfied: einops in c:\\users\\kuzga\\appdata\\local\\programs\\python\\python311\\lib\\site-packages (from mmaction2==1.2.0) (0.7.0)\n",
      "Requirement already satisfied: matplotlib in c:\\users\\kuzga\\appdata\\local\\programs\\python\\python311\\lib\\site-packages (from mmaction2==1.2.0) (3.8.0)\n",
      "Requirement already satisfied: numpy in c:\\users\\kuzga\\appdata\\local\\programs\\python\\python311\\lib\\site-packages (from mmaction2==1.2.0) (1.26.0)\n",
      "Requirement already satisfied: opencv-contrib-python in c:\\users\\kuzga\\appdata\\local\\programs\\python\\python311\\lib\\site-packages (from mmaction2==1.2.0) (4.9.0.80)\n",
      "Requirement already satisfied: Pillow in c:\\users\\kuzga\\appdata\\local\\programs\\python\\python311\\lib\\site-packages (from mmaction2==1.2.0) (10.0.1)\n",
      "Requirement already satisfied: scipy in c:\\users\\kuzga\\appdata\\local\\programs\\python\\python311\\lib\\site-packages (from mmaction2==1.2.0) (1.11.3)\n",
      "Requirement already satisfied: torch>=1.3 in c:\\users\\kuzga\\appdata\\local\\programs\\python\\python311\\lib\\site-packages (from mmaction2==1.2.0) (2.0.1+cu117)\n",
      "Requirement already satisfied: filelock in c:\\users\\kuzga\\appdata\\local\\programs\\python\\python311\\lib\\site-packages (from torch>=1.3->mmaction2==1.2.0) (3.13.1)\n",
      "Requirement already satisfied: typing-extensions in c:\\users\\kuzga\\appdata\\local\\programs\\python\\python311\\lib\\site-packages (from torch>=1.3->mmaction2==1.2.0) (4.10.0)\n",
      "Requirement already satisfied: sympy in c:\\users\\kuzga\\appdata\\local\\programs\\python\\python311\\lib\\site-packages (from torch>=1.3->mmaction2==1.2.0) (1.12)\n",
      "Requirement already satisfied: networkx in c:\\users\\kuzga\\appdata\\local\\programs\\python\\python311\\lib\\site-packages (from torch>=1.3->mmaction2==1.2.0) (3.2.1)\n",
      "Requirement already satisfied: jinja2 in c:\\users\\kuzga\\appdata\\local\\programs\\python\\python311\\lib\\site-packages (from torch>=1.3->mmaction2==1.2.0) (3.1.2)\n",
      "Requirement already satisfied: contourpy>=1.0.1 in c:\\users\\kuzga\\appdata\\local\\programs\\python\\python311\\lib\\site-packages (from matplotlib->mmaction2==1.2.0) (1.1.1)\n",
      "Requirement already satisfied: cycler>=0.10 in c:\\users\\kuzga\\appdata\\local\\programs\\python\\python311\\lib\\site-packages (from matplotlib->mmaction2==1.2.0) (0.10.0)\n",
      "Requirement already satisfied: fonttools>=4.22.0 in c:\\users\\kuzga\\appdata\\local\\programs\\python\\python311\\lib\\site-packages (from matplotlib->mmaction2==1.2.0) (4.43.1)\n",
      "Requirement already satisfied: kiwisolver>=1.0.1 in c:\\users\\kuzga\\appdata\\local\\programs\\python\\python311\\lib\\site-packages (from matplotlib->mmaction2==1.2.0) (1.4.5)\n",
      "Requirement already satisfied: packaging>=20.0 in c:\\users\\kuzga\\appdata\\local\\programs\\python\\python311\\lib\\site-packages (from matplotlib->mmaction2==1.2.0) (23.2)\n",
      "Requirement already satisfied: pyparsing>=2.3.1 in c:\\users\\kuzga\\appdata\\local\\programs\\python\\python311\\lib\\site-packages (from matplotlib->mmaction2==1.2.0) (3.1.1)\n",
      "Requirement already satisfied: python-dateutil>=2.7 in c:\\users\\kuzga\\appdata\\local\\programs\\python\\python311\\lib\\site-packages (from matplotlib->mmaction2==1.2.0) (2.8.2)\n",
      "Requirement already satisfied: six in c:\\users\\kuzga\\appdata\\local\\programs\\python\\python311\\lib\\site-packages (from cycler>=0.10->matplotlib->mmaction2==1.2.0) (1.16.0)\n",
      "Requirement already satisfied: MarkupSafe>=2.0 in c:\\users\\kuzga\\appdata\\local\\programs\\python\\python311\\lib\\site-packages (from jinja2->torch>=1.3->mmaction2==1.2.0) (2.1.3)\n",
      "Requirement already satisfied: mpmath>=0.19 in c:\\users\\kuzga\\appdata\\local\\programs\\python\\python311\\lib\\site-packages (from sympy->torch>=1.3->mmaction2==1.2.0) (1.3.0)\n",
      "Installing collected packages: mmaction2\n",
      "  Running setup.py develop for mmaction2\n",
      "Successfully installed mmaction2-1.2.0\n"
     ]
    },
    {
     "name": "stderr",
     "output_type": "stream",
     "text": [
      "  Running command python setup.py egg_info\n",
      "  running egg_info\n",
      "  creating C:\\Users\\kuzga\\AppData\\Local\\Temp\\pip-pip-egg-info-sojuo9nu\\mmaction2.egg-info\n",
      "  writing manifest file 'C:\\Users\\kuzga\\AppData\\Local\\Temp\\pip-pip-egg-info-sojuo9nu\\mmaction2.egg-info\\SOURCES.txt'\n",
      "  warning: no files found matching 'mmaction\\.mim\\model-index.yml'\n",
      "  warning: no files found matching 'mmaction\\.mim\\dataset-index.yml'\n",
      "  warning: no files found matching '*.py' under directory 'mmaction\\.mim\\configs'\n",
      "  warning: no files found matching '*.yml' under directory 'mmaction\\.mim\\configs'\n",
      "  warning: no files found matching '*.sh' under directory 'mmaction\\.mim\\tools'\n",
      "  warning: no files found matching '*.py' under directory 'mmaction\\.mim\\tools'\n",
      "  writing manifest file 'C:\\Users\\kuzga\\AppData\\Local\\Temp\\pip-pip-egg-info-sojuo9nu\\mmaction2.egg-info\\SOURCES.txt'\n",
      "    Running command python setup.py develop\n",
      "    running develop\n",
      "    C:\\Users\\kuzga\\AppData\\Local\\Programs\\Python\\Python311\\Lib\\site-packages\\setuptools\\command\\easy_install.py:156: EasyInstallDeprecationWarning: easy_install command is deprecated. Use build and pip and other standards-based tools.\n",
      "      warnings.warn(\n",
      "    C:\\Users\\kuzga\\AppData\\Local\\Programs\\Python\\Python311\\Lib\\site-packages\\setuptools\\command\\install.py:34: SetuptoolsDeprecationWarning: setup.py install is deprecated. Use build and pip and other standards-based tools.\n",
      "      warnings.warn(\n",
      "    running egg_info\n",
      "    creating mmaction2.egg-info\n",
      "    writing manifest file 'mmaction2.egg-info\\SOURCES.txt'\n",
      "    writing manifest file 'mmaction2.egg-info\\SOURCES.txt'\n",
      "    running build_ext\n"
     ]
    }
   ],
   "source": [
    "!git clone https://github.com/open-mmlab/mmaction2.git\n",
    "%cd mmaction2\n",
    "!pip install -v .\n",
    "# !$env:PYTHONPATH += \";C:\\Users\\kuzga\\AppData\\Local\\Programs\\Python\\Python311\\Lib\\site-packages\"\n",
    "#pip install -e C:\\Users\\kuzga\\OneDrive\\Рабочий стол\\sem4\\PHC\\labs\\lab4(mmaction)\\mmaction2\n",
    "!mim download mmaction2 --config tsn_imagenet-pretrained-r50_8xb32-1x1x8-100e_kinetics400-rgb --dest .\n"
   ]
  },
  {
   "cell_type": "code",
   "execution_count": null,
   "metadata": {},
   "outputs": [],
   "source": [
    "git clone https://github.com/open-mmlab/mmaction2.git\n",
    "cd mmaction2\n",
    "pip install -v -e .\n",
    "# $env:PYTHONPATH += \";C:\\Users\\kuzga\\AppData\\Local\\Programs\\Python\\Python311\\Lib\\site-packages\"\n",
    "# pip install -e C:\\Users\\kuzga\\OneDrive\\Рабочий стол\\sem4\\PHC\\labs\\lab4(mmaction)\\mmaction2\n",
    "mim download mmaction2 --config tsn_imagenet-pretrained-r50_8xb32-1x1x8-100e_kinetics400-rgb --dest .\n"
   ]
  },
  {
   "cell_type": "code",
   "execution_count": 9,
   "metadata": {},
   "outputs": [
    {
     "data": {
      "text/plain": [
       "'c:\\\\Users\\\\kuzga\\\\OneDrive\\\\Рабочий стол\\\\sem4\\\\PHC\\\\labs\\\\lab4(mmaction)'"
      ]
     },
     "execution_count": 9,
     "metadata": {},
     "output_type": "execute_result"
    }
   ],
   "source": [
    "%pwd"
   ]
  },
  {
   "cell_type": "code",
   "execution_count": 1,
   "metadata": {},
   "outputs": [
    {
     "ename": "FileNotFoundError",
     "evalue": "[Errno 2] No such file or directory: 'mmaction2/tsn_imagenet-pretrained-r50_8xb32-1x1x8-100e_kinetics400-rgb.py'",
     "output_type": "error",
     "traceback": [
      "\u001b[0;31m---------------------------------------------------------------------------\u001b[0m",
      "\u001b[0;31mFileNotFoundError\u001b[0m                         Traceback (most recent call last)",
      "\u001b[0;32m/tmp/ipykernel_7826/3700950628.py\u001b[0m in \u001b[0;36m<module>\u001b[0;34m\u001b[0m\n\u001b[1;32m     11\u001b[0m }\n\u001b[1;32m     12\u001b[0m \u001b[0mlabel_file\u001b[0m \u001b[0;34m=\u001b[0m \u001b[0;34m'tools/data/kinetics/label_map_k400.txt'\u001b[0m\u001b[0;34m\u001b[0m\u001b[0;34m\u001b[0m\u001b[0m\n\u001b[0;32m---> 13\u001b[0;31m \u001b[0mmodel\u001b[0m \u001b[0;34m=\u001b[0m \u001b[0minit_recognizer\u001b[0m\u001b[0;34m(\u001b[0m\u001b[0mconfig_file\u001b[0m\u001b[0;34m,\u001b[0m \u001b[0mcheckpoint_file\u001b[0m\u001b[0;34m,\u001b[0m \u001b[0mdevice\u001b[0m\u001b[0;34m=\u001b[0m\u001b[0;34m'cuda:0'\u001b[0m\u001b[0;34m)\u001b[0m\u001b[0;34m\u001b[0m\u001b[0;34m\u001b[0m\u001b[0m\n\u001b[0m\u001b[1;32m     14\u001b[0m \u001b[0mpred_result\u001b[0m \u001b[0;34m=\u001b[0m \u001b[0minference_recognizer\u001b[0m\u001b[0;34m(\u001b[0m\u001b[0mmodel\u001b[0m\u001b[0;34m,\u001b[0m \u001b[0mvideo\u001b[0m\u001b[0;34m)\u001b[0m\u001b[0;34m\u001b[0m\u001b[0;34m\u001b[0m\u001b[0m\n\u001b[1;32m     15\u001b[0m \u001b[0;34m\u001b[0m\u001b[0m\n",
      "\u001b[0;32m~/Desktop/sem4/PHC/labs/lab4(mmaction)/mmaction2/mmaction/apis/inference.py\u001b[0m in \u001b[0;36minit_recognizer\u001b[0;34m(config, checkpoint, device)\u001b[0m\n\u001b[1;32m     35\u001b[0m     \"\"\"\n\u001b[1;32m     36\u001b[0m     \u001b[0;32mif\u001b[0m \u001b[0misinstance\u001b[0m\u001b[0;34m(\u001b[0m\u001b[0mconfig\u001b[0m\u001b[0;34m,\u001b[0m \u001b[0;34m(\u001b[0m\u001b[0mstr\u001b[0m\u001b[0;34m,\u001b[0m \u001b[0mPath\u001b[0m\u001b[0;34m)\u001b[0m\u001b[0;34m)\u001b[0m\u001b[0;34m:\u001b[0m\u001b[0;34m\u001b[0m\u001b[0;34m\u001b[0m\u001b[0m\n\u001b[0;32m---> 37\u001b[0;31m         \u001b[0mconfig\u001b[0m \u001b[0;34m=\u001b[0m \u001b[0mmmengine\u001b[0m\u001b[0;34m.\u001b[0m\u001b[0mConfig\u001b[0m\u001b[0;34m.\u001b[0m\u001b[0mfromfile\u001b[0m\u001b[0;34m(\u001b[0m\u001b[0mconfig\u001b[0m\u001b[0;34m)\u001b[0m\u001b[0;34m\u001b[0m\u001b[0;34m\u001b[0m\u001b[0m\n\u001b[0m\u001b[1;32m     38\u001b[0m     \u001b[0;32melif\u001b[0m \u001b[0;32mnot\u001b[0m \u001b[0misinstance\u001b[0m\u001b[0;34m(\u001b[0m\u001b[0mconfig\u001b[0m\u001b[0;34m,\u001b[0m \u001b[0mmmengine\u001b[0m\u001b[0;34m.\u001b[0m\u001b[0mConfig\u001b[0m\u001b[0;34m)\u001b[0m\u001b[0;34m:\u001b[0m\u001b[0;34m\u001b[0m\u001b[0;34m\u001b[0m\u001b[0m\n\u001b[1;32m     39\u001b[0m         raise TypeError('config must be a filename or Config object, '\n",
      "\u001b[0;32m~/.local/lib/python3.10/site-packages/mmengine/config/config.py\u001b[0m in \u001b[0;36mfromfile\u001b[0;34m(filename, use_predefined_variables, import_custom_modules, use_environment_variables, lazy_import, format_python_code)\u001b[0m\n\u001b[1;32m    456\u001b[0m         \u001b[0mfilename\u001b[0m \u001b[0;34m=\u001b[0m \u001b[0mstr\u001b[0m\u001b[0;34m(\u001b[0m\u001b[0mfilename\u001b[0m\u001b[0;34m)\u001b[0m \u001b[0;32mif\u001b[0m \u001b[0misinstance\u001b[0m\u001b[0;34m(\u001b[0m\u001b[0mfilename\u001b[0m\u001b[0;34m,\u001b[0m \u001b[0mPath\u001b[0m\u001b[0;34m)\u001b[0m \u001b[0;32melse\u001b[0m \u001b[0mfilename\u001b[0m\u001b[0;34m\u001b[0m\u001b[0;34m\u001b[0m\u001b[0m\n\u001b[1;32m    457\u001b[0m         \u001b[0;32mif\u001b[0m \u001b[0mlazy_import\u001b[0m \u001b[0;32mis\u001b[0m \u001b[0;32mFalse\u001b[0m \u001b[0;32mor\u001b[0m\u001b[0;31m \u001b[0m\u001b[0;31m\\\u001b[0m\u001b[0;34m\u001b[0m\u001b[0;34m\u001b[0m\u001b[0m\n\u001b[0;32m--> 458\u001b[0;31m            \u001b[0mlazy_import\u001b[0m \u001b[0;32mis\u001b[0m \u001b[0;32mNone\u001b[0m \u001b[0;32mand\u001b[0m \u001b[0;32mnot\u001b[0m \u001b[0mConfig\u001b[0m\u001b[0;34m.\u001b[0m\u001b[0m_is_lazy_import\u001b[0m\u001b[0;34m(\u001b[0m\u001b[0mfilename\u001b[0m\u001b[0;34m)\u001b[0m\u001b[0;34m:\u001b[0m\u001b[0;34m\u001b[0m\u001b[0;34m\u001b[0m\u001b[0m\n\u001b[0m\u001b[1;32m    459\u001b[0m             cfg_dict, cfg_text, env_variables = Config._file2dict(\n\u001b[1;32m    460\u001b[0m                 \u001b[0mfilename\u001b[0m\u001b[0;34m,\u001b[0m \u001b[0muse_predefined_variables\u001b[0m\u001b[0;34m,\u001b[0m \u001b[0muse_environment_variables\u001b[0m\u001b[0;34m,\u001b[0m\u001b[0;34m\u001b[0m\u001b[0;34m\u001b[0m\u001b[0m\n",
      "\u001b[0;32m~/.local/lib/python3.10/site-packages/mmengine/config/config.py\u001b[0m in \u001b[0;36m_is_lazy_import\u001b[0;34m(filename)\u001b[0m\n\u001b[1;32m   1655\u001b[0m         \u001b[0;32mif\u001b[0m \u001b[0;32mnot\u001b[0m \u001b[0mfilename\u001b[0m\u001b[0;34m.\u001b[0m\u001b[0mendswith\u001b[0m\u001b[0;34m(\u001b[0m\u001b[0;34m'.py'\u001b[0m\u001b[0;34m)\u001b[0m\u001b[0;34m:\u001b[0m\u001b[0;34m\u001b[0m\u001b[0;34m\u001b[0m\u001b[0m\n\u001b[1;32m   1656\u001b[0m             \u001b[0;32mreturn\u001b[0m \u001b[0;32mFalse\u001b[0m\u001b[0;34m\u001b[0m\u001b[0;34m\u001b[0m\u001b[0m\n\u001b[0;32m-> 1657\u001b[0;31m         \u001b[0;32mwith\u001b[0m \u001b[0mopen\u001b[0m\u001b[0;34m(\u001b[0m\u001b[0mfilename\u001b[0m\u001b[0;34m,\u001b[0m \u001b[0mencoding\u001b[0m\u001b[0;34m=\u001b[0m\u001b[0;34m'utf-8'\u001b[0m\u001b[0;34m)\u001b[0m \u001b[0;32mas\u001b[0m \u001b[0mf\u001b[0m\u001b[0;34m:\u001b[0m\u001b[0;34m\u001b[0m\u001b[0;34m\u001b[0m\u001b[0m\n\u001b[0m\u001b[1;32m   1658\u001b[0m             \u001b[0mcodes_str\u001b[0m \u001b[0;34m=\u001b[0m \u001b[0mf\u001b[0m\u001b[0;34m.\u001b[0m\u001b[0mread\u001b[0m\u001b[0;34m(\u001b[0m\u001b[0;34m)\u001b[0m\u001b[0;34m\u001b[0m\u001b[0;34m\u001b[0m\u001b[0m\n\u001b[1;32m   1659\u001b[0m             \u001b[0mparsed_codes\u001b[0m \u001b[0;34m=\u001b[0m \u001b[0mast\u001b[0m\u001b[0;34m.\u001b[0m\u001b[0mparse\u001b[0m\u001b[0;34m(\u001b[0m\u001b[0mcodes_str\u001b[0m\u001b[0;34m)\u001b[0m\u001b[0;34m\u001b[0m\u001b[0;34m\u001b[0m\u001b[0m\n",
      "\u001b[0;31mFileNotFoundError\u001b[0m: [Errno 2] No such file or directory: 'mmaction2/tsn_imagenet-pretrained-r50_8xb32-1x1x8-100e_kinetics400-rgb.py'"
     ]
    }
   ],
   "source": [
    "from operator import itemgetter\n",
    "from mmaction.apis import init_recognizer, inference_recognizer\n",
    "\n",
    "config_file = 'mmaction2/tsn_imagenet-pretrained-r50_8xb32-1x1x8-100e_kinetics400-rgb.py'\n",
    "checkpoint_file = 'mmaction2/tsn_imagenet-pretrained-r50_8xb32-1x1x8-100e_kinetics400-rgb_20220906-2692d16c.pth'\n",
    "# video_file = 'media/spraying.mp4'\n",
    "video = {\n",
    "    # 'filename': 'media/spraying.mp4',\n",
    "    # 'filename': '../media/spraying.mp4'\n",
    "    'filename': './demo/demo.mp4'\n",
    "}\n",
    "label_file = 'tools/data/kinetics/label_map_k400.txt'\n",
    "model = init_recognizer(config_file, checkpoint_file, device='cuda:0')\n",
    "pred_result = inference_recognizer(model, video)\n",
    "\n",
    "pred_scores = pred_result.pred_score.tolist()\n",
    "score_tuples = tuple(zip(range(len(pred_scores)), pred_scores))\n",
    "score_sorted = sorted(score_tuples, key=itemgetter(1), reverse=True)\n",
    "top5_label = score_sorted[:5]\n",
    "\n",
    "labels = open(label_file).readlines()\n",
    "labels = [x.strip() for x in labels]\n",
    "results = [(labels[k[0]], k[1]) for k in top5_label]\n",
    "\n",
    "print('The top-5 labels with corresponding scores are:')\n",
    "for result in results:\n",
    "    print(f'{result[0]}: ', result[1])"
   ]
  },
  {
   "cell_type": "code",
   "execution_count": null,
   "metadata": {},
   "outputs": [],
   "source": []
  },
  {
   "cell_type": "code",
   "execution_count": null,
   "metadata": {},
   "outputs": [],
   "source": []
  }
 ],
 "metadata": {
  "kernelspec": {
   "display_name": "Python 3",
   "language": "python",
   "name": "python3"
  },
  "language_info": {
   "codemirror_mode": {
    "name": "ipython",
    "version": 3
   },
   "file_extension": ".py",
   "mimetype": "text/x-python",
   "name": "python",
   "nbconvert_exporter": "python",
   "pygments_lexer": "ipython3",
   "version": "3.10.12"
  }
 },
 "nbformat": 4,
 "nbformat_minor": 2
}

{
 "cells": [
  {
   "cell_type": "code",
   "execution_count": 1,
   "metadata": {},
   "outputs": [
    {
     "name": "stdout",
     "output_type": "stream",
     "text": [
      "Requirement already satisfied: openmim in c:\\users\\kuzga\\appdata\\local\\programs\\python\\python311\\lib\\site-packages (0.3.9)\n",
      "Requirement already satisfied: Click in c:\\users\\kuzga\\appdata\\local\\programs\\python\\python311\\lib\\site-packages (from openmim) (8.1.7)\n",
      "Requirement already satisfied: colorama in c:\\users\\kuzga\\appdata\\local\\programs\\python\\python311\\lib\\site-packages (from openmim) (0.4.6)\n",
      "Requirement already satisfied: model-index in c:\\users\\kuzga\\appdata\\local\\programs\\python\\python311\\lib\\site-packages (from openmim) (0.1.11)\n",
      "Requirement already satisfied: opendatalab in c:\\users\\kuzga\\appdata\\local\\programs\\python\\python311\\lib\\site-packages (from openmim) (0.0.10)\n",
      "Requirement already satisfied: pandas in c:\\users\\kuzga\\appdata\\local\\programs\\python\\python311\\lib\\site-packages (from openmim) (2.1.1)\n",
      "Requirement already satisfied: pip>=19.3 in c:\\users\\kuzga\\appdata\\local\\programs\\python\\python311\\lib\\site-packages (from openmim) (24.0)\n",
      "Requirement already satisfied: requests in c:\\users\\kuzga\\appdata\\local\\programs\\python\\python311\\lib\\site-packages (from openmim) (2.28.2)\n",
      "Requirement already satisfied: rich in c:\\users\\kuzga\\appdata\\local\\programs\\python\\python311\\lib\\site-packages (from openmim) (13.4.2)\n",
      "Requirement already satisfied: tabulate in c:\\users\\kuzga\\appdata\\local\\programs\\python\\python311\\lib\\site-packages (from openmim) (0.9.0)\n",
      "Requirement already satisfied: pyyaml in c:\\users\\kuzga\\appdata\\local\\programs\\python\\python311\\lib\\site-packages (from model-index->openmim) (6.0.1)\n",
      "Requirement already satisfied: markdown in c:\\users\\kuzga\\appdata\\local\\programs\\python\\python311\\lib\\site-packages (from model-index->openmim) (3.6)\n",
      "Requirement already satisfied: ordered-set in c:\\users\\kuzga\\appdata\\local\\programs\\python\\python311\\lib\\site-packages (from model-index->openmim) (4.1.0)\n",
      "Requirement already satisfied: pycryptodome in c:\\users\\kuzga\\appdata\\local\\programs\\python\\python311\\lib\\site-packages (from opendatalab->openmim) (3.20.0)\n",
      "Requirement already satisfied: tqdm in c:\\users\\kuzga\\appdata\\local\\programs\\python\\python311\\lib\\site-packages (from opendatalab->openmim) (4.65.2)\n",
      "Requirement already satisfied: openxlab in c:\\users\\kuzga\\appdata\\local\\programs\\python\\python311\\lib\\site-packages (from opendatalab->openmim) (0.0.37)\n",
      "Requirement already satisfied: pywin32 in c:\\users\\kuzga\\appdata\\local\\programs\\python\\python311\\lib\\site-packages (from opendatalab->openmim) (306)\n",
      "Requirement already satisfied: charset-normalizer<4,>=2 in c:\\users\\kuzga\\appdata\\local\\programs\\python\\python311\\lib\\site-packages (from requests->openmim) (3.3.0)\n",
      "Requirement already satisfied: idna<4,>=2.5 in c:\\users\\kuzga\\appdata\\local\\programs\\python\\python311\\lib\\site-packages (from requests->openmim) (2.10)\n",
      "Requirement already satisfied: urllib3<1.27,>=1.21.1 in c:\\users\\kuzga\\appdata\\local\\programs\\python\\python311\\lib\\site-packages (from requests->openmim) (1.26.18)\n",
      "Requirement already satisfied: certifi>=2017.4.17 in c:\\users\\kuzga\\appdata\\local\\programs\\python\\python311\\lib\\site-packages (from requests->openmim) (2023.7.22)\n",
      "Requirement already satisfied: numpy>=1.23.2 in c:\\users\\kuzga\\appdata\\local\\programs\\python\\python311\\lib\\site-packages (from pandas->openmim) (1.26.0)\n",
      "Requirement already satisfied: python-dateutil>=2.8.2 in c:\\users\\kuzga\\appdata\\local\\programs\\python\\python311\\lib\\site-packages (from pandas->openmim) (2.8.2)\n",
      "Requirement already satisfied: pytz>=2020.1 in c:\\users\\kuzga\\appdata\\local\\programs\\python\\python311\\lib\\site-packages (from pandas->openmim) (2023.3.post1)\n",
      "Requirement already satisfied: tzdata>=2022.1 in c:\\users\\kuzga\\appdata\\local\\programs\\python\\python311\\lib\\site-packages (from pandas->openmim) (2023.3)\n",
      "Requirement already satisfied: markdown-it-py>=2.2.0 in c:\\users\\kuzga\\appdata\\local\\programs\\python\\python311\\lib\\site-packages (from rich->openmim) (3.0.0)\n",
      "Requirement already satisfied: pygments<3.0.0,>=2.13.0 in c:\\users\\kuzga\\appdata\\local\\programs\\python\\python311\\lib\\site-packages (from rich->openmim) (2.16.1)\n",
      "Requirement already satisfied: mdurl~=0.1 in c:\\users\\kuzga\\appdata\\local\\programs\\python\\python311\\lib\\site-packages (from markdown-it-py>=2.2.0->rich->openmim) (0.1.2)\n",
      "Requirement already satisfied: six>=1.5 in c:\\users\\kuzga\\appdata\\local\\programs\\python\\python311\\lib\\site-packages (from python-dateutil>=2.8.2->pandas->openmim) (1.16.0)\n",
      "Requirement already satisfied: oss2~=2.17.0 in c:\\users\\kuzga\\appdata\\local\\programs\\python\\python311\\lib\\site-packages (from openxlab->opendatalab->openmim) (2.17.0)\n",
      "Requirement already satisfied: setuptools~=60.2.0 in c:\\users\\kuzga\\appdata\\local\\programs\\python\\python311\\lib\\site-packages (from openxlab->opendatalab->openmim) (60.2.0)\n",
      "Requirement already satisfied: crcmod>=1.7 in c:\\users\\kuzga\\appdata\\local\\programs\\python\\python311\\lib\\site-packages (from oss2~=2.17.0->openxlab->opendatalab->openmim) (1.7)\n",
      "Requirement already satisfied: aliyun-python-sdk-kms>=2.4.1 in c:\\users\\kuzga\\appdata\\local\\programs\\python\\python311\\lib\\site-packages (from oss2~=2.17.0->openxlab->opendatalab->openmim) (2.16.2)\n",
      "Requirement already satisfied: aliyun-python-sdk-core>=2.13.12 in c:\\users\\kuzga\\appdata\\local\\programs\\python\\python311\\lib\\site-packages (from oss2~=2.17.0->openxlab->opendatalab->openmim) (2.15.0)\n",
      "Requirement already satisfied: jmespath<1.0.0,>=0.9.3 in c:\\users\\kuzga\\appdata\\local\\programs\\python\\python311\\lib\\site-packages (from aliyun-python-sdk-core>=2.13.12->oss2~=2.17.0->openxlab->opendatalab->openmim) (0.10.0)\n",
      "Requirement already satisfied: cryptography>=2.6.0 in c:\\users\\kuzga\\appdata\\local\\programs\\python\\python311\\lib\\site-packages (from aliyun-python-sdk-core>=2.13.12->oss2~=2.17.0->openxlab->opendatalab->openmim) (42.0.5)\n",
      "Requirement already satisfied: cffi>=1.12 in c:\\users\\kuzga\\appdata\\local\\programs\\python\\python311\\lib\\site-packages (from cryptography>=2.6.0->aliyun-python-sdk-core>=2.13.12->oss2~=2.17.0->openxlab->opendatalab->openmim) (1.16.0)\n",
      "Requirement already satisfied: pycparser in c:\\users\\kuzga\\appdata\\local\\programs\\python\\python311\\lib\\site-packages (from cffi>=1.12->cryptography>=2.6.0->aliyun-python-sdk-core>=2.13.12->oss2~=2.17.0->openxlab->opendatalab->openmim) (2.21)\n",
      "Looking in links: https://download.openmmlab.com/mmcv/dist/cu117/torch2.0.0/index.html\n",
      "Requirement already satisfied: mmengine in c:\\users\\kuzga\\appdata\\local\\programs\\python\\python311\\lib\\site-packages (0.10.3)\n",
      "Requirement already satisfied: addict in c:\\users\\kuzga\\appdata\\local\\programs\\python\\python311\\lib\\site-packages (from mmengine) (2.4.0)\n",
      "Requirement already satisfied: matplotlib in c:\\users\\kuzga\\appdata\\local\\programs\\python\\python311\\lib\\site-packages (from mmengine) (3.8.0)\n",
      "Requirement already satisfied: numpy in c:\\users\\kuzga\\appdata\\local\\programs\\python\\python311\\lib\\site-packages (from mmengine) (1.26.0)\n",
      "Requirement already satisfied: pyyaml in c:\\users\\kuzga\\appdata\\local\\programs\\python\\python311\\lib\\site-packages (from mmengine) (6.0.1)\n",
      "Requirement already satisfied: rich in c:\\users\\kuzga\\appdata\\local\\programs\\python\\python311\\lib\\site-packages (from mmengine) (13.4.2)\n",
      "Requirement already satisfied: termcolor in c:\\users\\kuzga\\appdata\\local\\programs\\python\\python311\\lib\\site-packages (from mmengine) (2.4.0)\n",
      "Requirement already satisfied: yapf in c:\\users\\kuzga\\appdata\\local\\programs\\python\\python311\\lib\\site-packages (from mmengine) (0.40.2)\n",
      "Requirement already satisfied: opencv-python>=3 in c:\\users\\kuzga\\appdata\\local\\programs\\python\\python311\\lib\\site-packages (from mmengine) (4.8.1.78)\n",
      "Requirement already satisfied: regex in c:\\users\\kuzga\\appdata\\local\\programs\\python\\python311\\lib\\site-packages (from mmengine) (2023.10.3)\n",
      "Requirement already satisfied: contourpy>=1.0.1 in c:\\users\\kuzga\\appdata\\local\\programs\\python\\python311\\lib\\site-packages (from matplotlib->mmengine) (1.1.1)\n",
      "Requirement already satisfied: cycler>=0.10 in c:\\users\\kuzga\\appdata\\local\\programs\\python\\python311\\lib\\site-packages (from matplotlib->mmengine) (0.10.0)\n",
      "Requirement already satisfied: fonttools>=4.22.0 in c:\\users\\kuzga\\appdata\\local\\programs\\python\\python311\\lib\\site-packages (from matplotlib->mmengine) (4.43.1)\n",
      "Requirement already satisfied: kiwisolver>=1.0.1 in c:\\users\\kuzga\\appdata\\local\\programs\\python\\python311\\lib\\site-packages (from matplotlib->mmengine) (1.4.5)\n",
      "Requirement already satisfied: packaging>=20.0 in c:\\users\\kuzga\\appdata\\local\\programs\\python\\python311\\lib\\site-packages (from matplotlib->mmengine) (23.2)\n",
      "Requirement already satisfied: pillow>=6.2.0 in c:\\users\\kuzga\\appdata\\local\\programs\\python\\python311\\lib\\site-packages (from matplotlib->mmengine) (10.0.1)\n",
      "Requirement already satisfied: pyparsing>=2.3.1 in c:\\users\\kuzga\\appdata\\local\\programs\\python\\python311\\lib\\site-packages (from matplotlib->mmengine) (3.1.1)\n",
      "Requirement already satisfied: python-dateutil>=2.7 in c:\\users\\kuzga\\appdata\\local\\programs\\python\\python311\\lib\\site-packages (from matplotlib->mmengine) (2.8.2)\n",
      "Requirement already satisfied: markdown-it-py>=2.2.0 in c:\\users\\kuzga\\appdata\\local\\programs\\python\\python311\\lib\\site-packages (from rich->mmengine) (3.0.0)\n",
      "Requirement already satisfied: pygments<3.0.0,>=2.13.0 in c:\\users\\kuzga\\appdata\\local\\programs\\python\\python311\\lib\\site-packages (from rich->mmengine) (2.16.1)\n",
      "Requirement already satisfied: importlib-metadata>=6.6.0 in c:\\users\\kuzga\\appdata\\local\\programs\\python\\python311\\lib\\site-packages (from yapf->mmengine) (7.1.0)\n",
      "Requirement already satisfied: platformdirs>=3.5.1 in c:\\users\\kuzga\\appdata\\local\\programs\\python\\python311\\lib\\site-packages (from yapf->mmengine) (3.11.0)\n",
      "Requirement already satisfied: tomli>=2.0.1 in c:\\users\\kuzga\\appdata\\local\\programs\\python\\python311\\lib\\site-packages (from yapf->mmengine) (2.0.1)\n",
      "Requirement already satisfied: six in c:\\users\\kuzga\\appdata\\local\\programs\\python\\python311\\lib\\site-packages (from cycler>=0.10->matplotlib->mmengine) (1.16.0)\n",
      "Requirement already satisfied: zipp>=0.5 in c:\\users\\kuzga\\appdata\\local\\programs\\python\\python311\\lib\\site-packages (from importlib-metadata>=6.6.0->yapf->mmengine) (3.18.1)\n",
      "Requirement already satisfied: mdurl~=0.1 in c:\\users\\kuzga\\appdata\\local\\programs\\python\\python311\\lib\\site-packages (from markdown-it-py>=2.2.0->rich->mmengine) (0.1.2)\n",
      "^C\n",
      "Looking in links: https://download.openmmlab.com/mmcv/dist/cu117/torch2.0.0/index.html\n",
      "Requirement already satisfied: mmcv in c:\\users\\kuzga\\appdata\\local\\programs\\python\\python311\\lib\\site-packages (2.1.0)\n",
      "Requirement already satisfied: addict in c:\\users\\kuzga\\appdata\\local\\programs\\python\\python311\\lib\\site-packages (from mmcv) (2.4.0)\n",
      "Requirement already satisfied: mmengine>=0.3.0 in c:\\users\\kuzga\\appdata\\local\\programs\\python\\python311\\lib\\site-packages (from mmcv) (0.10.3)\n",
      "Requirement already satisfied: numpy in c:\\users\\kuzga\\appdata\\local\\programs\\python\\python311\\lib\\site-packages (from mmcv) (1.26.0)\n",
      "Requirement already satisfied: packaging in c:\\users\\kuzga\\appdata\\local\\programs\\python\\python311\\lib\\site-packages (from mmcv) (23.2)\n",
      "Requirement already satisfied: Pillow in c:\\users\\kuzga\\appdata\\local\\programs\\python\\python311\\lib\\site-packages (from mmcv) (10.0.1)\n",
      "Requirement already satisfied: pyyaml in c:\\users\\kuzga\\appdata\\local\\programs\\python\\python311\\lib\\site-packages (from mmcv) (6.0.1)\n",
      "Requirement already satisfied: yapf in c:\\users\\kuzga\\appdata\\local\\programs\\python\\python311\\lib\\site-packages (from mmcv) (0.40.2)\n",
      "Requirement already satisfied: opencv-python>=3 in c:\\users\\kuzga\\appdata\\local\\programs\\python\\python311\\lib\\site-packages (from mmcv) (4.8.1.78)\n",
      "Requirement already satisfied: regex in c:\\users\\kuzga\\appdata\\local\\programs\\python\\python311\\lib\\site-packages (from mmcv) (2023.10.3)\n",
      "Requirement already satisfied: matplotlib in c:\\users\\kuzga\\appdata\\local\\programs\\python\\python311\\lib\\site-packages (from mmengine>=0.3.0->mmcv) (3.8.0)\n",
      "Requirement already satisfied: rich in c:\\users\\kuzga\\appdata\\local\\programs\\python\\python311\\lib\\site-packages (from mmengine>=0.3.0->mmcv) (13.4.2)\n",
      "Requirement already satisfied: termcolor in c:\\users\\kuzga\\appdata\\local\\programs\\python\\python311\\lib\\site-packages (from mmengine>=0.3.0->mmcv) (2.4.0)\n",
      "Requirement already satisfied: importlib-metadata>=6.6.0 in c:\\users\\kuzga\\appdata\\local\\programs\\python\\python311\\lib\\site-packages (from yapf->mmcv) (7.1.0)\n",
      "Requirement already satisfied: platformdirs>=3.5.1 in c:\\users\\kuzga\\appdata\\local\\programs\\python\\python311\\lib\\site-packages (from yapf->mmcv) (3.11.0)\n",
      "Requirement already satisfied: tomli>=2.0.1 in c:\\users\\kuzga\\appdata\\local\\programs\\python\\python311\\lib\\site-packages (from yapf->mmcv) (2.0.1)\n",
      "Requirement already satisfied: zipp>=0.5 in c:\\users\\kuzga\\appdata\\local\\programs\\python\\python311\\lib\\site-packages (from importlib-metadata>=6.6.0->yapf->mmcv) (3.18.1)\n",
      "Requirement already satisfied: contourpy>=1.0.1 in c:\\users\\kuzga\\appdata\\local\\programs\\python\\python311\\lib\\site-packages (from matplotlib->mmengine>=0.3.0->mmcv) (1.1.1)\n",
      "Requirement already satisfied: cycler>=0.10 in c:\\users\\kuzga\\appdata\\local\\programs\\python\\python311\\lib\\site-packages (from matplotlib->mmengine>=0.3.0->mmcv) (0.10.0)\n",
      "Requirement already satisfied: fonttools>=4.22.0 in c:\\users\\kuzga\\appdata\\local\\programs\\python\\python311\\lib\\site-packages (from matplotlib->mmengine>=0.3.0->mmcv) (4.43.1)\n",
      "Requirement already satisfied: kiwisolver>=1.0.1 in c:\\users\\kuzga\\appdata\\local\\programs\\python\\python311\\lib\\site-packages (from matplotlib->mmengine>=0.3.0->mmcv) (1.4.5)\n",
      "Requirement already satisfied: pyparsing>=2.3.1 in c:\\users\\kuzga\\appdata\\local\\programs\\python\\python311\\lib\\site-packages (from matplotlib->mmengine>=0.3.0->mmcv) (3.1.1)\n",
      "Requirement already satisfied: python-dateutil>=2.7 in c:\\users\\kuzga\\appdata\\local\\programs\\python\\python311\\lib\\site-packages (from matplotlib->mmengine>=0.3.0->mmcv) (2.8.2)\n",
      "Requirement already satisfied: markdown-it-py>=2.2.0 in c:\\users\\kuzga\\appdata\\local\\programs\\python\\python311\\lib\\site-packages (from rich->mmengine>=0.3.0->mmcv) (3.0.0)\n",
      "Requirement already satisfied: pygments<3.0.0,>=2.13.0 in c:\\users\\kuzga\\appdata\\local\\programs\\python\\python311\\lib\\site-packages (from rich->mmengine>=0.3.0->mmcv) (2.16.1)\n",
      "Requirement already satisfied: six in c:\\users\\kuzga\\appdata\\local\\programs\\python\\python311\\lib\\site-packages (from cycler>=0.10->matplotlib->mmengine>=0.3.0->mmcv) (1.16.0)\n",
      "Requirement already satisfied: mdurl~=0.1 in c:\\users\\kuzga\\appdata\\local\\programs\\python\\python311\\lib\\site-packages (from markdown-it-py>=2.2.0->rich->mmengine>=0.3.0->mmcv) (0.1.2)\n",
      "Looking in links: https://download.openmmlab.com/mmcv/dist/cu117/torch2.0.0/index.html\n",
      "Requirement already satisfied: mmdet in c:\\users\\kuzga\\appdata\\local\\programs\\python\\python311\\lib\\site-packages (3.2.0)\n",
      "Requirement already satisfied: matplotlib in c:\\users\\kuzga\\appdata\\local\\programs\\python\\python311\\lib\\site-packages (from mmdet) (3.8.0)\n",
      "Requirement already satisfied: numpy in c:\\users\\kuzga\\appdata\\local\\programs\\python\\python311\\lib\\site-packages (from mmdet) (1.26.0)\n",
      "Requirement already satisfied: pycocotools in c:\\users\\kuzga\\appdata\\local\\programs\\python\\python311\\lib\\site-packages (from mmdet) (2.0.7)\n",
      "Requirement already satisfied: scipy in c:\\users\\kuzga\\appdata\\local\\programs\\python\\python311\\lib\\site-packages (from mmdet) (1.11.3)\n",
      "Requirement already satisfied: shapely in c:\\users\\kuzga\\appdata\\local\\programs\\python\\python311\\lib\\site-packages (from mmdet) (2.0.3)\n",
      "Requirement already satisfied: six in c:\\users\\kuzga\\appdata\\local\\programs\\python\\python311\\lib\\site-packages (from mmdet) (1.16.0)\n",
      "Requirement already satisfied: terminaltables in c:\\users\\kuzga\\appdata\\local\\programs\\python\\python311\\lib\\site-packages (from mmdet) (3.1.10)\n",
      "Requirement already satisfied: tqdm in c:\\users\\kuzga\\appdata\\local\\programs\\python\\python311\\lib\\site-packages (from mmdet) (4.65.2)\n",
      "Requirement already satisfied: mmcv<2.2.0,>=2.0.0rc4 in c:\\users\\kuzga\\appdata\\local\\programs\\python\\python311\\lib\\site-packages (from mmdet) (2.1.0)\n",
      "Requirement already satisfied: mmengine<1.0.0,>=0.7.1 in c:\\users\\kuzga\\appdata\\local\\programs\\python\\python311\\lib\\site-packages (from mmdet) (0.10.3)\n",
      "Requirement already satisfied: addict in c:\\users\\kuzga\\appdata\\local\\programs\\python\\python311\\lib\\site-packages (from mmcv<2.2.0,>=2.0.0rc4->mmdet) (2.4.0)\n",
      "Requirement already satisfied: packaging in c:\\users\\kuzga\\appdata\\local\\programs\\python\\python311\\lib\\site-packages (from mmcv<2.2.0,>=2.0.0rc4->mmdet) (23.2)\n",
      "Requirement already satisfied: Pillow in c:\\users\\kuzga\\appdata\\local\\programs\\python\\python311\\lib\\site-packages (from mmcv<2.2.0,>=2.0.0rc4->mmdet) (10.0.1)\n",
      "Requirement already satisfied: pyyaml in c:\\users\\kuzga\\appdata\\local\\programs\\python\\python311\\lib\\site-packages (from mmcv<2.2.0,>=2.0.0rc4->mmdet) (6.0.1)\n",
      "Requirement already satisfied: yapf in c:\\users\\kuzga\\appdata\\local\\programs\\python\\python311\\lib\\site-packages (from mmcv<2.2.0,>=2.0.0rc4->mmdet) (0.40.2)\n",
      "Requirement already satisfied: opencv-python>=3 in c:\\users\\kuzga\\appdata\\local\\programs\\python\\python311\\lib\\site-packages (from mmcv<2.2.0,>=2.0.0rc4->mmdet) (4.8.1.78)\n",
      "Requirement already satisfied: regex in c:\\users\\kuzga\\appdata\\local\\programs\\python\\python311\\lib\\site-packages (from mmcv<2.2.0,>=2.0.0rc4->mmdet) (2023.10.3)\n",
      "Requirement already satisfied: rich in c:\\users\\kuzga\\appdata\\local\\programs\\python\\python311\\lib\\site-packages (from mmengine<1.0.0,>=0.7.1->mmdet) (13.4.2)\n",
      "Requirement already satisfied: termcolor in c:\\users\\kuzga\\appdata\\local\\programs\\python\\python311\\lib\\site-packages (from mmengine<1.0.0,>=0.7.1->mmdet) (2.4.0)\n",
      "Requirement already satisfied: contourpy>=1.0.1 in c:\\users\\kuzga\\appdata\\local\\programs\\python\\python311\\lib\\site-packages (from matplotlib->mmdet) (1.1.1)\n",
      "Requirement already satisfied: cycler>=0.10 in c:\\users\\kuzga\\appdata\\local\\programs\\python\\python311\\lib\\site-packages (from matplotlib->mmdet) (0.10.0)\n",
      "Requirement already satisfied: fonttools>=4.22.0 in c:\\users\\kuzga\\appdata\\local\\programs\\python\\python311\\lib\\site-packages (from matplotlib->mmdet) (4.43.1)\n",
      "Requirement already satisfied: kiwisolver>=1.0.1 in c:\\users\\kuzga\\appdata\\local\\programs\\python\\python311\\lib\\site-packages (from matplotlib->mmdet) (1.4.5)\n",
      "Requirement already satisfied: pyparsing>=2.3.1 in c:\\users\\kuzga\\appdata\\local\\programs\\python\\python311\\lib\\site-packages (from matplotlib->mmdet) (3.1.1)\n",
      "Requirement already satisfied: python-dateutil>=2.7 in c:\\users\\kuzga\\appdata\\local\\programs\\python\\python311\\lib\\site-packages (from matplotlib->mmdet) (2.8.2)\n",
      "Requirement already satisfied: colorama in c:\\users\\kuzga\\appdata\\local\\programs\\python\\python311\\lib\\site-packages (from tqdm->mmdet) (0.4.6)\n",
      "Requirement already satisfied: markdown-it-py>=2.2.0 in c:\\users\\kuzga\\appdata\\local\\programs\\python\\python311\\lib\\site-packages (from rich->mmengine<1.0.0,>=0.7.1->mmdet) (3.0.0)\n",
      "Requirement already satisfied: pygments<3.0.0,>=2.13.0 in c:\\users\\kuzga\\appdata\\local\\programs\\python\\python311\\lib\\site-packages (from rich->mmengine<1.0.0,>=0.7.1->mmdet) (2.16.1)\n",
      "Requirement already satisfied: importlib-metadata>=6.6.0 in c:\\users\\kuzga\\appdata\\local\\programs\\python\\python311\\lib\\site-packages (from yapf->mmcv<2.2.0,>=2.0.0rc4->mmdet) (7.1.0)\n",
      "Requirement already satisfied: platformdirs>=3.5.1 in c:\\users\\kuzga\\appdata\\local\\programs\\python\\python311\\lib\\site-packages (from yapf->mmcv<2.2.0,>=2.0.0rc4->mmdet) (3.11.0)\n",
      "Requirement already satisfied: tomli>=2.0.1 in c:\\users\\kuzga\\appdata\\local\\programs\\python\\python311\\lib\\site-packages (from yapf->mmcv<2.2.0,>=2.0.0rc4->mmdet) (2.0.1)\n",
      "Requirement already satisfied: zipp>=0.5 in c:\\users\\kuzga\\appdata\\local\\programs\\python\\python311\\lib\\site-packages (from importlib-metadata>=6.6.0->yapf->mmcv<2.2.0,>=2.0.0rc4->mmdet) (3.18.1)\n",
      "Requirement already satisfied: mdurl~=0.1 in c:\\users\\kuzga\\appdata\\local\\programs\\python\\python311\\lib\\site-packages (from markdown-it-py>=2.2.0->rich->mmengine<1.0.0,>=0.7.1->mmdet) (0.1.2)\n"
     ]
    }
   ],
   "source": [
    "!pip install -U openmim\n",
    "!mim install mmengine\n",
    "!mim install mmcv\n",
    "!mim install mmdet\n",
    "!mim install mmpose"
   ]
  },
  {
   "cell_type": "code",
   "execution_count": 2,
   "metadata": {},
   "outputs": [
    {
     "name": "stdout",
     "output_type": "stream",
     "text": [
      "c:\\Users\\kuzga\\OneDrive\\Рабочий стол\\sem4\\PHC\\labs\\lab4(mmaction)\\mmaction2\n"
     ]
    },
    {
     "name": "stderr",
     "output_type": "stream",
     "text": [
      "Cloning into 'mmaction2'...\n",
      "c:\\Users\\kuzga\\AppData\\Local\\Programs\\Python\\Python311\\Lib\\site-packages\\IPython\\core\\magics\\osm.py:417: UserWarning: using dhist requires you to install the `pickleshare` library.\n",
      "  self.shell.db['dhist'] = compress_dhist(dhist)[-100:]\n"
     ]
    },
    {
     "name": "stdout",
     "output_type": "stream",
     "text": [
      "Using pip 24.0 from C:\\Users\\kuzga\\AppData\\Local\\Programs\\Python\\Python311\\Lib\\site-packages\\pip (python 3.11)\n",
      "Obtaining file:///C:/Users/kuzga/OneDrive/%D0%A0%D0%B0%D0%B1%D0%BE%D1%87%D0%B8%D0%B9%20%D1%81%D1%82%D0%BE%D0%BB/sem4/PHC/labs/lab4%28mmaction%29/mmaction2\n",
      "  Preparing metadata (setup.py): started\n",
      "  Preparing metadata (setup.py): finished with status 'done'\n",
      "Requirement already satisfied: decord>=0.4.1 in c:\\users\\kuzga\\appdata\\local\\programs\\python\\python311\\lib\\site-packages (from mmaction2==1.2.0) (0.6.0)\n",
      "Requirement already satisfied: einops in c:\\users\\kuzga\\appdata\\local\\programs\\python\\python311\\lib\\site-packages (from mmaction2==1.2.0) (0.7.0)\n",
      "Requirement already satisfied: matplotlib in c:\\users\\kuzga\\appdata\\local\\programs\\python\\python311\\lib\\site-packages (from mmaction2==1.2.0) (3.8.0)\n",
      "Requirement already satisfied: numpy in c:\\users\\kuzga\\appdata\\local\\programs\\python\\python311\\lib\\site-packages (from mmaction2==1.2.0) (1.26.0)\n",
      "Requirement already satisfied: opencv-contrib-python in c:\\users\\kuzga\\appdata\\local\\programs\\python\\python311\\lib\\site-packages (from mmaction2==1.2.0) (4.9.0.80)\n",
      "Requirement already satisfied: Pillow in c:\\users\\kuzga\\appdata\\local\\programs\\python\\python311\\lib\\site-packages (from mmaction2==1.2.0) (10.0.1)\n",
      "Requirement already satisfied: scipy in c:\\users\\kuzga\\appdata\\local\\programs\\python\\python311\\lib\\site-packages (from mmaction2==1.2.0) (1.11.3)\n",
      "Requirement already satisfied: torch>=1.3 in c:\\users\\kuzga\\appdata\\local\\programs\\python\\python311\\lib\\site-packages (from mmaction2==1.2.0) (2.0.1+cu117)\n",
      "Requirement already satisfied: filelock in c:\\users\\kuzga\\appdata\\local\\programs\\python\\python311\\lib\\site-packages (from torch>=1.3->mmaction2==1.2.0) (3.13.1)\n",
      "Requirement already satisfied: typing-extensions in c:\\users\\kuzga\\appdata\\local\\programs\\python\\python311\\lib\\site-packages (from torch>=1.3->mmaction2==1.2.0) (4.10.0)\n",
      "Requirement already satisfied: sympy in c:\\users\\kuzga\\appdata\\local\\programs\\python\\python311\\lib\\site-packages (from torch>=1.3->mmaction2==1.2.0) (1.12)\n",
      "Requirement already satisfied: networkx in c:\\users\\kuzga\\appdata\\local\\programs\\python\\python311\\lib\\site-packages (from torch>=1.3->mmaction2==1.2.0) (3.2.1)\n",
      "Requirement already satisfied: jinja2 in c:\\users\\kuzga\\appdata\\local\\programs\\python\\python311\\lib\\site-packages (from torch>=1.3->mmaction2==1.2.0) (3.1.2)\n",
      "Requirement already satisfied: contourpy>=1.0.1 in c:\\users\\kuzga\\appdata\\local\\programs\\python\\python311\\lib\\site-packages (from matplotlib->mmaction2==1.2.0) (1.1.1)\n",
      "Requirement already satisfied: cycler>=0.10 in c:\\users\\kuzga\\appdata\\local\\programs\\python\\python311\\lib\\site-packages (from matplotlib->mmaction2==1.2.0) (0.10.0)\n",
      "Requirement already satisfied: fonttools>=4.22.0 in c:\\users\\kuzga\\appdata\\local\\programs\\python\\python311\\lib\\site-packages (from matplotlib->mmaction2==1.2.0) (4.43.1)\n",
      "Requirement already satisfied: kiwisolver>=1.0.1 in c:\\users\\kuzga\\appdata\\local\\programs\\python\\python311\\lib\\site-packages (from matplotlib->mmaction2==1.2.0) (1.4.5)\n",
      "Requirement already satisfied: packaging>=20.0 in c:\\users\\kuzga\\appdata\\local\\programs\\python\\python311\\lib\\site-packages (from matplotlib->mmaction2==1.2.0) (23.2)\n",
      "Requirement already satisfied: pyparsing>=2.3.1 in c:\\users\\kuzga\\appdata\\local\\programs\\python\\python311\\lib\\site-packages (from matplotlib->mmaction2==1.2.0) (3.1.1)\n",
      "Requirement already satisfied: python-dateutil>=2.7 in c:\\users\\kuzga\\appdata\\local\\programs\\python\\python311\\lib\\site-packages (from matplotlib->mmaction2==1.2.0) (2.8.2)\n",
      "Requirement already satisfied: six in c:\\users\\kuzga\\appdata\\local\\programs\\python\\python311\\lib\\site-packages (from cycler>=0.10->matplotlib->mmaction2==1.2.0) (1.16.0)\n",
      "Requirement already satisfied: MarkupSafe>=2.0 in c:\\users\\kuzga\\appdata\\local\\programs\\python\\python311\\lib\\site-packages (from jinja2->torch>=1.3->mmaction2==1.2.0) (2.1.3)\n",
      "Requirement already satisfied: mpmath>=0.19 in c:\\users\\kuzga\\appdata\\local\\programs\\python\\python311\\lib\\site-packages (from sympy->torch>=1.3->mmaction2==1.2.0) (1.3.0)\n",
      "Installing collected packages: mmaction2\n",
      "  Running setup.py develop for mmaction2\n",
      "Successfully installed mmaction2-1.2.0\n"
     ]
    },
    {
     "name": "stderr",
     "output_type": "stream",
     "text": [
      "  Running command python setup.py egg_info\n",
      "  running egg_info\n",
      "  creating C:\\Users\\kuzga\\AppData\\Local\\Temp\\pip-pip-egg-info-sojuo9nu\\mmaction2.egg-info\n",
      "  writing manifest file 'C:\\Users\\kuzga\\AppData\\Local\\Temp\\pip-pip-egg-info-sojuo9nu\\mmaction2.egg-info\\SOURCES.txt'\n",
      "  warning: no files found matching 'mmaction\\.mim\\model-index.yml'\n",
      "  warning: no files found matching 'mmaction\\.mim\\dataset-index.yml'\n",
      "  warning: no files found matching '*.py' under directory 'mmaction\\.mim\\configs'\n",
      "  warning: no files found matching '*.yml' under directory 'mmaction\\.mim\\configs'\n",
      "  warning: no files found matching '*.sh' under directory 'mmaction\\.mim\\tools'\n",
      "  warning: no files found matching '*.py' under directory 'mmaction\\.mim\\tools'\n",
      "  writing manifest file 'C:\\Users\\kuzga\\AppData\\Local\\Temp\\pip-pip-egg-info-sojuo9nu\\mmaction2.egg-info\\SOURCES.txt'\n",
      "    Running command python setup.py develop\n",
      "    running develop\n",
      "    C:\\Users\\kuzga\\AppData\\Local\\Programs\\Python\\Python311\\Lib\\site-packages\\setuptools\\command\\easy_install.py:156: EasyInstallDeprecationWarning: easy_install command is deprecated. Use build and pip and other standards-based tools.\n",
      "      warnings.warn(\n",
      "    C:\\Users\\kuzga\\AppData\\Local\\Programs\\Python\\Python311\\Lib\\site-packages\\setuptools\\command\\install.py:34: SetuptoolsDeprecationWarning: setup.py install is deprecated. Use build and pip and other standards-based tools.\n",
      "      warnings.warn(\n",
      "    running egg_info\n",
      "    creating mmaction2.egg-info\n",
      "    writing manifest file 'mmaction2.egg-info\\SOURCES.txt'\n",
      "    writing manifest file 'mmaction2.egg-info\\SOURCES.txt'\n",
      "    running build_ext\n"
     ]
    }
   ],
   "source": [
    "!git clone https://github.com/open-mmlab/mmaction2.git\n",
    "%cd mmaction2\n",
    "!pip install -v .\n",
    "# !$env:PYTHONPATH += \";C:\\Users\\kuzga\\AppData\\Local\\Programs\\Python\\Python311\\Lib\\site-packages\"\n",
    "#pip install -e C:\\Users\\kuzga\\OneDrive\\Рабочий стол\\sem4\\PHC\\labs\\lab4(mmaction)\\mmaction2\n",
    "!mim download mmaction2 --config tsn_imagenet-pretrained-r50_8xb32-1x1x8-100e_kinetics400-rgb --dest .\n"
   ]
  },
  {
   "cell_type": "code",
   "execution_count": null,
   "metadata": {},
   "outputs": [],
   "source": [
    "git clone https://github.com/open-mmlab/mmaction2.git\n",
    "cd mmaction2\n",
    "pip install -v -e .\n",
    "# $env:PYTHONPATH += \";C:\\Users\\kuzga\\AppData\\Local\\Programs\\Python\\Python311\\Lib\\site-packages\"\n",
    "# pip install -e C:\\Users\\kuzga\\OneDrive\\Рабочий стол\\sem4\\PHC\\labs\\lab4(mmaction)\\mmaction2\n",
    "mim download mmaction2 --config tsn_imagenet-pretrained-r50_8xb32-1x1x8-100e_kinetics400-rgb --dest .\n"
   ]
  },
  {
   "cell_type": "code",
   "execution_count": 9,
   "metadata": {},
   "outputs": [
    {
     "data": {
      "text/plain": [
       "'c:\\\\Users\\\\kuzga\\\\OneDrive\\\\Рабочий стол\\\\sem4\\\\PHC\\\\labs\\\\lab4(mmaction)'"
      ]
     },
     "execution_count": 9,
     "metadata": {},
     "output_type": "execute_result"
    }
   ],
   "source": [
    "%pwd"
   ]
  },
  {
   "cell_type": "code",
   "execution_count": 12,
   "metadata": {},
   "outputs": [
    {
     "ename": "ModuleNotFoundError",
     "evalue": "No module named 'mmaction.models.localizers.drn'",
     "output_type": "error",
     "traceback": [
      "\u001b[1;31m---------------------------------------------------------------------------\u001b[0m",
      "\u001b[1;31mModuleNotFoundError\u001b[0m                       Traceback (most recent call last)",
      "Cell \u001b[1;32mIn[12], line 13\u001b[0m\n\u001b[0;32m      7\u001b[0m video \u001b[38;5;241m=\u001b[39m {\n\u001b[0;32m      8\u001b[0m     \u001b[38;5;66;03m# 'filename': 'media/spraying.mp4',\u001b[39;00m\n\u001b[0;32m      9\u001b[0m     \u001b[38;5;66;03m# 'filename': '../media/spraying.mp4'\u001b[39;00m\n\u001b[0;32m     10\u001b[0m     \u001b[38;5;124m'\u001b[39m\u001b[38;5;124mfilename\u001b[39m\u001b[38;5;124m'\u001b[39m: \u001b[38;5;124m'\u001b[39m\u001b[38;5;124m./demo/demo.mp4\u001b[39m\u001b[38;5;124m'\u001b[39m\n\u001b[0;32m     11\u001b[0m }\n\u001b[0;32m     12\u001b[0m label_file \u001b[38;5;241m=\u001b[39m \u001b[38;5;124m'\u001b[39m\u001b[38;5;124mtools/data/kinetics/label_map_k400.txt\u001b[39m\u001b[38;5;124m'\u001b[39m\n\u001b[1;32m---> 13\u001b[0m model \u001b[38;5;241m=\u001b[39m \u001b[43minit_recognizer\u001b[49m\u001b[43m(\u001b[49m\u001b[43mconfig_file\u001b[49m\u001b[43m,\u001b[49m\u001b[43m \u001b[49m\u001b[43mcheckpoint_file\u001b[49m\u001b[43m,\u001b[49m\u001b[43m \u001b[49m\u001b[43mdevice\u001b[49m\u001b[38;5;241;43m=\u001b[39;49m\u001b[38;5;124;43m'\u001b[39;49m\u001b[38;5;124;43mcuda:0\u001b[39;49m\u001b[38;5;124;43m'\u001b[39;49m\u001b[43m)\u001b[49m\n\u001b[0;32m     14\u001b[0m pred_result \u001b[38;5;241m=\u001b[39m inference_recognizer(model, video)\n\u001b[0;32m     16\u001b[0m pred_scores \u001b[38;5;241m=\u001b[39m pred_result\u001b[38;5;241m.\u001b[39mpred_score\u001b[38;5;241m.\u001b[39mtolist()\n",
      "File \u001b[1;32mc:\\Users\\kuzga\\AppData\\Local\\Programs\\Python\\Python311\\Lib\\site-packages\\mmaction\\apis\\inference.py:47\u001b[0m, in \u001b[0;36minit_recognizer\u001b[1;34m(config, checkpoint, device)\u001b[0m\n\u001b[0;32m     44\u001b[0m \u001b[38;5;28;01mif\u001b[39;00m \u001b[38;5;28mhasattr\u001b[39m(config\u001b[38;5;241m.\u001b[39mmodel, \u001b[38;5;124m'\u001b[39m\u001b[38;5;124mbackbone\u001b[39m\u001b[38;5;124m'\u001b[39m) \u001b[38;5;129;01mand\u001b[39;00m config\u001b[38;5;241m.\u001b[39mmodel\u001b[38;5;241m.\u001b[39mbackbone\u001b[38;5;241m.\u001b[39mget(\n\u001b[0;32m     45\u001b[0m         \u001b[38;5;124m'\u001b[39m\u001b[38;5;124mpretrained\u001b[39m\u001b[38;5;124m'\u001b[39m, \u001b[38;5;28;01mNone\u001b[39;00m):\n\u001b[0;32m     46\u001b[0m     config\u001b[38;5;241m.\u001b[39mmodel\u001b[38;5;241m.\u001b[39mbackbone\u001b[38;5;241m.\u001b[39mpretrained \u001b[38;5;241m=\u001b[39m \u001b[38;5;28;01mNone\u001b[39;00m\n\u001b[1;32m---> 47\u001b[0m model \u001b[38;5;241m=\u001b[39m \u001b[43mMODELS\u001b[49m\u001b[38;5;241;43m.\u001b[39;49m\u001b[43mbuild\u001b[49m\u001b[43m(\u001b[49m\u001b[43mconfig\u001b[49m\u001b[38;5;241;43m.\u001b[39;49m\u001b[43mmodel\u001b[49m\u001b[43m)\u001b[49m\n\u001b[0;32m     49\u001b[0m \u001b[38;5;28;01mif\u001b[39;00m checkpoint \u001b[38;5;129;01mis\u001b[39;00m \u001b[38;5;129;01mnot\u001b[39;00m \u001b[38;5;28;01mNone\u001b[39;00m:\n\u001b[0;32m     50\u001b[0m     load_checkpoint(model, checkpoint, map_location\u001b[38;5;241m=\u001b[39m\u001b[38;5;124m'\u001b[39m\u001b[38;5;124mcpu\u001b[39m\u001b[38;5;124m'\u001b[39m)\n",
      "File \u001b[1;32mc:\\Users\\kuzga\\AppData\\Local\\Programs\\Python\\Python311\\Lib\\site-packages\\mmengine\\registry\\registry.py:570\u001b[0m, in \u001b[0;36mRegistry.build\u001b[1;34m(self, cfg, *args, **kwargs)\u001b[0m\n\u001b[0;32m    548\u001b[0m \u001b[38;5;28;01mdef\u001b[39;00m \u001b[38;5;21mbuild\u001b[39m(\u001b[38;5;28mself\u001b[39m, cfg: \u001b[38;5;28mdict\u001b[39m, \u001b[38;5;241m*\u001b[39margs, \u001b[38;5;241m*\u001b[39m\u001b[38;5;241m*\u001b[39mkwargs) \u001b[38;5;241m-\u001b[39m\u001b[38;5;241m>\u001b[39m Any:\n\u001b[0;32m    549\u001b[0m \u001b[38;5;250m    \u001b[39m\u001b[38;5;124;03m\"\"\"Build an instance.\u001b[39;00m\n\u001b[0;32m    550\u001b[0m \n\u001b[0;32m    551\u001b[0m \u001b[38;5;124;03m    Build an instance by calling :attr:`build_func`.\u001b[39;00m\n\u001b[1;32m   (...)\u001b[0m\n\u001b[0;32m    568\u001b[0m \u001b[38;5;124;03m        >>> model = MODELS.build(cfg)\u001b[39;00m\n\u001b[0;32m    569\u001b[0m \u001b[38;5;124;03m    \"\"\"\u001b[39;00m\n\u001b[1;32m--> 570\u001b[0m     \u001b[38;5;28;01mreturn\u001b[39;00m \u001b[38;5;28;43mself\u001b[39;49m\u001b[38;5;241;43m.\u001b[39;49m\u001b[43mbuild_func\u001b[49m\u001b[43m(\u001b[49m\u001b[43mcfg\u001b[49m\u001b[43m,\u001b[49m\u001b[43m \u001b[49m\u001b[38;5;241;43m*\u001b[39;49m\u001b[43margs\u001b[49m\u001b[43m,\u001b[49m\u001b[43m \u001b[49m\u001b[38;5;241;43m*\u001b[39;49m\u001b[38;5;241;43m*\u001b[39;49m\u001b[43mkwargs\u001b[49m\u001b[43m,\u001b[49m\u001b[43m \u001b[49m\u001b[43mregistry\u001b[49m\u001b[38;5;241;43m=\u001b[39;49m\u001b[38;5;28;43mself\u001b[39;49m\u001b[43m)\u001b[49m\n",
      "File \u001b[1;32mc:\\Users\\kuzga\\AppData\\Local\\Programs\\Python\\Python311\\Lib\\site-packages\\mmengine\\registry\\build_functions.py:232\u001b[0m, in \u001b[0;36mbuild_model_from_cfg\u001b[1;34m(cfg, registry, default_args)\u001b[0m\n\u001b[0;32m    230\u001b[0m     \u001b[38;5;28;01mreturn\u001b[39;00m Sequential(\u001b[38;5;241m*\u001b[39mmodules)\n\u001b[0;32m    231\u001b[0m \u001b[38;5;28;01melse\u001b[39;00m:\n\u001b[1;32m--> 232\u001b[0m     \u001b[38;5;28;01mreturn\u001b[39;00m \u001b[43mbuild_from_cfg\u001b[49m\u001b[43m(\u001b[49m\u001b[43mcfg\u001b[49m\u001b[43m,\u001b[49m\u001b[43m \u001b[49m\u001b[43mregistry\u001b[49m\u001b[43m,\u001b[49m\u001b[43m \u001b[49m\u001b[43mdefault_args\u001b[49m\u001b[43m)\u001b[49m\n",
      "File \u001b[1;32mc:\\Users\\kuzga\\AppData\\Local\\Programs\\Python\\Python311\\Lib\\site-packages\\mmengine\\registry\\build_functions.py:98\u001b[0m, in \u001b[0;36mbuild_from_cfg\u001b[1;34m(cfg, registry, default_args)\u001b[0m\n\u001b[0;32m     96\u001b[0m obj_type \u001b[38;5;241m=\u001b[39m args\u001b[38;5;241m.\u001b[39mpop(\u001b[38;5;124m'\u001b[39m\u001b[38;5;124mtype\u001b[39m\u001b[38;5;124m'\u001b[39m)\n\u001b[0;32m     97\u001b[0m \u001b[38;5;28;01mif\u001b[39;00m \u001b[38;5;28misinstance\u001b[39m(obj_type, \u001b[38;5;28mstr\u001b[39m):\n\u001b[1;32m---> 98\u001b[0m     obj_cls \u001b[38;5;241m=\u001b[39m \u001b[43mregistry\u001b[49m\u001b[38;5;241;43m.\u001b[39;49m\u001b[43mget\u001b[49m\u001b[43m(\u001b[49m\u001b[43mobj_type\u001b[49m\u001b[43m)\u001b[49m\n\u001b[0;32m     99\u001b[0m     \u001b[38;5;28;01mif\u001b[39;00m obj_cls \u001b[38;5;129;01mis\u001b[39;00m \u001b[38;5;28;01mNone\u001b[39;00m:\n\u001b[0;32m    100\u001b[0m         \u001b[38;5;28;01mraise\u001b[39;00m \u001b[38;5;167;01mKeyError\u001b[39;00m(\n\u001b[0;32m    101\u001b[0m             \u001b[38;5;124mf\u001b[39m\u001b[38;5;124m'\u001b[39m\u001b[38;5;132;01m{\u001b[39;00mobj_type\u001b[38;5;132;01m}\u001b[39;00m\u001b[38;5;124m is not in the \u001b[39m\u001b[38;5;132;01m{\u001b[39;00mregistry\u001b[38;5;241m.\u001b[39mscope\u001b[38;5;132;01m}\u001b[39;00m\u001b[38;5;124m::\u001b[39m\u001b[38;5;132;01m{\u001b[39;00mregistry\u001b[38;5;241m.\u001b[39mname\u001b[38;5;132;01m}\u001b[39;00m\u001b[38;5;124m registry. \u001b[39m\u001b[38;5;124m'\u001b[39m  \u001b[38;5;66;03m# noqa: E501\u001b[39;00m\n\u001b[0;32m    102\u001b[0m             \u001b[38;5;124mf\u001b[39m\u001b[38;5;124m'\u001b[39m\u001b[38;5;124mPlease check whether the value of `\u001b[39m\u001b[38;5;132;01m{\u001b[39;00mobj_type\u001b[38;5;132;01m}\u001b[39;00m\u001b[38;5;124m` is \u001b[39m\u001b[38;5;124m'\u001b[39m\n\u001b[1;32m   (...)\u001b[0m\n\u001b[0;32m    105\u001b[0m             \u001b[38;5;124m'\u001b[39m\u001b[38;5;124mhttps://mmengine.readthedocs.io/en/latest/advanced_tutorials/config.html#import-the-custom-module\u001b[39m\u001b[38;5;124m'\u001b[39m  \u001b[38;5;66;03m# noqa: E501\u001b[39;00m\n\u001b[0;32m    106\u001b[0m         )\n",
      "File \u001b[1;32mc:\\Users\\kuzga\\AppData\\Local\\Programs\\Python\\Python311\\Lib\\site-packages\\mmengine\\registry\\registry.py:451\u001b[0m, in \u001b[0;36mRegistry.get\u001b[1;34m(self, key)\u001b[0m\n\u001b[0;32m    448\u001b[0m scope_name \u001b[38;5;241m=\u001b[39m \u001b[38;5;28mself\u001b[39m\u001b[38;5;241m.\u001b[39mscope\n\u001b[0;32m    450\u001b[0m \u001b[38;5;66;03m# lazy import the modules to register them into the registry\u001b[39;00m\n\u001b[1;32m--> 451\u001b[0m \u001b[38;5;28;43mself\u001b[39;49m\u001b[38;5;241;43m.\u001b[39;49m\u001b[43mimport_from_location\u001b[49m\u001b[43m(\u001b[49m\u001b[43m)\u001b[49m\n\u001b[0;32m    453\u001b[0m \u001b[38;5;28;01mif\u001b[39;00m scope \u001b[38;5;129;01mis\u001b[39;00m \u001b[38;5;28;01mNone\u001b[39;00m \u001b[38;5;129;01mor\u001b[39;00m scope \u001b[38;5;241m==\u001b[39m \u001b[38;5;28mself\u001b[39m\u001b[38;5;241m.\u001b[39m_scope:\n\u001b[0;32m    454\u001b[0m     \u001b[38;5;66;03m# get from self\u001b[39;00m\n\u001b[0;32m    455\u001b[0m     \u001b[38;5;28;01mif\u001b[39;00m real_key \u001b[38;5;129;01min\u001b[39;00m \u001b[38;5;28mself\u001b[39m\u001b[38;5;241m.\u001b[39m_module_dict:\n",
      "File \u001b[1;32mc:\\Users\\kuzga\\AppData\\Local\\Programs\\Python\\Python311\\Lib\\site-packages\\mmengine\\registry\\registry.py:376\u001b[0m, in \u001b[0;36mRegistry.import_from_location\u001b[1;34m(self)\u001b[0m\n\u001b[0;32m    373\u001b[0m         module\u001b[38;5;241m.\u001b[39mregister_all_modules(\u001b[38;5;28;01mFalse\u001b[39;00m)  \u001b[38;5;66;03m# type: ignore\u001b[39;00m\n\u001b[0;32m    375\u001b[0m \u001b[38;5;28;01mfor\u001b[39;00m loc \u001b[38;5;129;01min\u001b[39;00m \u001b[38;5;28mself\u001b[39m\u001b[38;5;241m.\u001b[39m_locations:\n\u001b[1;32m--> 376\u001b[0m     \u001b[43mimport_module\u001b[49m\u001b[43m(\u001b[49m\u001b[43mloc\u001b[49m\u001b[43m)\u001b[49m\n\u001b[0;32m    377\u001b[0m     print_log(\n\u001b[0;32m    378\u001b[0m         \u001b[38;5;124mf\u001b[39m\u001b[38;5;124m\"\u001b[39m\u001b[38;5;124mModules of \u001b[39m\u001b[38;5;132;01m{\u001b[39;00m\u001b[38;5;28mself\u001b[39m\u001b[38;5;241m.\u001b[39mscope\u001b[38;5;132;01m}\u001b[39;00m\u001b[38;5;124m'\u001b[39m\u001b[38;5;124ms \u001b[39m\u001b[38;5;132;01m{\u001b[39;00m\u001b[38;5;28mself\u001b[39m\u001b[38;5;241m.\u001b[39mname\u001b[38;5;132;01m}\u001b[39;00m\u001b[38;5;124m registry have \u001b[39m\u001b[38;5;124m\"\u001b[39m\n\u001b[0;32m    379\u001b[0m         \u001b[38;5;124mf\u001b[39m\u001b[38;5;124m'\u001b[39m\u001b[38;5;124mbeen automatically imported from \u001b[39m\u001b[38;5;132;01m{\u001b[39;00mloc\u001b[38;5;132;01m}\u001b[39;00m\u001b[38;5;124m'\u001b[39m,\n\u001b[0;32m    380\u001b[0m         logger\u001b[38;5;241m=\u001b[39m\u001b[38;5;124m'\u001b[39m\u001b[38;5;124mcurrent\u001b[39m\u001b[38;5;124m'\u001b[39m,\n\u001b[0;32m    381\u001b[0m         level\u001b[38;5;241m=\u001b[39mlogging\u001b[38;5;241m.\u001b[39mDEBUG)\n\u001b[0;32m    382\u001b[0m \u001b[38;5;28mself\u001b[39m\u001b[38;5;241m.\u001b[39m_imported \u001b[38;5;241m=\u001b[39m \u001b[38;5;28;01mTrue\u001b[39;00m\n",
      "File \u001b[1;32mc:\\Users\\kuzga\\AppData\\Local\\Programs\\Python\\Python311\\Lib\\importlib\\__init__.py:126\u001b[0m, in \u001b[0;36mimport_module\u001b[1;34m(name, package)\u001b[0m\n\u001b[0;32m    124\u001b[0m             \u001b[38;5;28;01mbreak\u001b[39;00m\n\u001b[0;32m    125\u001b[0m         level \u001b[38;5;241m+\u001b[39m\u001b[38;5;241m=\u001b[39m \u001b[38;5;241m1\u001b[39m\n\u001b[1;32m--> 126\u001b[0m \u001b[38;5;28;01mreturn\u001b[39;00m \u001b[43m_bootstrap\u001b[49m\u001b[38;5;241;43m.\u001b[39;49m\u001b[43m_gcd_import\u001b[49m\u001b[43m(\u001b[49m\u001b[43mname\u001b[49m\u001b[43m[\u001b[49m\u001b[43mlevel\u001b[49m\u001b[43m:\u001b[49m\u001b[43m]\u001b[49m\u001b[43m,\u001b[49m\u001b[43m \u001b[49m\u001b[43mpackage\u001b[49m\u001b[43m,\u001b[49m\u001b[43m \u001b[49m\u001b[43mlevel\u001b[49m\u001b[43m)\u001b[49m\n",
      "File \u001b[1;32m<frozen importlib._bootstrap>:1204\u001b[0m, in \u001b[0;36m_gcd_import\u001b[1;34m(name, package, level)\u001b[0m\n",
      "File \u001b[1;32m<frozen importlib._bootstrap>:1176\u001b[0m, in \u001b[0;36m_find_and_load\u001b[1;34m(name, import_)\u001b[0m\n",
      "File \u001b[1;32m<frozen importlib._bootstrap>:1147\u001b[0m, in \u001b[0;36m_find_and_load_unlocked\u001b[1;34m(name, import_)\u001b[0m\n",
      "File \u001b[1;32m<frozen importlib._bootstrap>:690\u001b[0m, in \u001b[0;36m_load_unlocked\u001b[1;34m(spec)\u001b[0m\n",
      "File \u001b[1;32m<frozen importlib._bootstrap_external>:940\u001b[0m, in \u001b[0;36mexec_module\u001b[1;34m(self, module)\u001b[0m\n",
      "File \u001b[1;32m<frozen importlib._bootstrap>:241\u001b[0m, in \u001b[0;36m_call_with_frames_removed\u001b[1;34m(f, *args, **kwds)\u001b[0m\n",
      "File \u001b[1;32mc:\\Users\\kuzga\\AppData\\Local\\Programs\\Python\\Python311\\Lib\\site-packages\\mmaction\\models\\__init__.py:6\u001b[0m\n\u001b[0;32m      4\u001b[0m \u001b[38;5;28;01mfrom\u001b[39;00m \u001b[38;5;21;01m.\u001b[39;00m\u001b[38;5;21;01mdata_preprocessors\u001b[39;00m \u001b[38;5;28;01mimport\u001b[39;00m \u001b[38;5;241m*\u001b[39m  \u001b[38;5;66;03m# noqa: F401,F403\u001b[39;00m\n\u001b[0;32m      5\u001b[0m \u001b[38;5;28;01mfrom\u001b[39;00m \u001b[38;5;21;01m.\u001b[39;00m\u001b[38;5;21;01mheads\u001b[39;00m \u001b[38;5;28;01mimport\u001b[39;00m \u001b[38;5;241m*\u001b[39m  \u001b[38;5;66;03m# noqa: F401,F403\u001b[39;00m\n\u001b[1;32m----> 6\u001b[0m \u001b[38;5;28;01mfrom\u001b[39;00m \u001b[38;5;21;01m.\u001b[39;00m\u001b[38;5;21;01mlocalizers\u001b[39;00m \u001b[38;5;28;01mimport\u001b[39;00m \u001b[38;5;241m*\u001b[39m  \u001b[38;5;66;03m# noqa: F401,F403\u001b[39;00m\n\u001b[0;32m      7\u001b[0m \u001b[38;5;28;01mfrom\u001b[39;00m \u001b[38;5;21;01m.\u001b[39;00m\u001b[38;5;21;01mlosses\u001b[39;00m \u001b[38;5;28;01mimport\u001b[39;00m \u001b[38;5;241m*\u001b[39m  \u001b[38;5;66;03m# noqa: F401,F403\u001b[39;00m\n\u001b[0;32m      8\u001b[0m \u001b[38;5;28;01mfrom\u001b[39;00m \u001b[38;5;21;01m.\u001b[39;00m\u001b[38;5;21;01mmultimodal\u001b[39;00m \u001b[38;5;28;01mimport\u001b[39;00m \u001b[38;5;241m*\u001b[39m  \u001b[38;5;66;03m# noqa: F401,F403\u001b[39;00m\n",
      "File \u001b[1;32mc:\\Users\\kuzga\\AppData\\Local\\Programs\\Python\\Python311\\Lib\\site-packages\\mmaction\\models\\localizers\\__init__.py:4\u001b[0m\n\u001b[0;32m      2\u001b[0m \u001b[38;5;28;01mfrom\u001b[39;00m \u001b[38;5;21;01m.\u001b[39;00m\u001b[38;5;21;01mbmn\u001b[39;00m \u001b[38;5;28;01mimport\u001b[39;00m BMN\n\u001b[0;32m      3\u001b[0m \u001b[38;5;28;01mfrom\u001b[39;00m \u001b[38;5;21;01m.\u001b[39;00m\u001b[38;5;21;01mbsn\u001b[39;00m \u001b[38;5;28;01mimport\u001b[39;00m PEM, TEM\n\u001b[1;32m----> 4\u001b[0m \u001b[38;5;28;01mfrom\u001b[39;00m \u001b[38;5;21;01m.\u001b[39;00m\u001b[38;5;21;01mdrn\u001b[39;00m\u001b[38;5;21;01m.\u001b[39;00m\u001b[38;5;21;01mdrn\u001b[39;00m \u001b[38;5;28;01mimport\u001b[39;00m DRN\n\u001b[0;32m      5\u001b[0m \u001b[38;5;28;01mfrom\u001b[39;00m \u001b[38;5;21;01m.\u001b[39;00m\u001b[38;5;21;01mtcanet\u001b[39;00m \u001b[38;5;28;01mimport\u001b[39;00m TCANet\n\u001b[0;32m      7\u001b[0m __all__ \u001b[38;5;241m=\u001b[39m [\u001b[38;5;124m'\u001b[39m\u001b[38;5;124mTEM\u001b[39m\u001b[38;5;124m'\u001b[39m, \u001b[38;5;124m'\u001b[39m\u001b[38;5;124mPEM\u001b[39m\u001b[38;5;124m'\u001b[39m, \u001b[38;5;124m'\u001b[39m\u001b[38;5;124mBMN\u001b[39m\u001b[38;5;124m'\u001b[39m, \u001b[38;5;124m'\u001b[39m\u001b[38;5;124mTCANet\u001b[39m\u001b[38;5;124m'\u001b[39m, \u001b[38;5;124m'\u001b[39m\u001b[38;5;124mDRN\u001b[39m\u001b[38;5;124m'\u001b[39m]\n",
      "\u001b[1;31mModuleNotFoundError\u001b[0m: No module named 'mmaction.models.localizers.drn'"
     ]
    }
   ],
   "source": [
    "from operator import itemgetter\n",
    "from mmaction.apis import init_recognizer, inference_recognizer\n",
    "\n",
    "config_file = 'mmaction2/tsn_imagenet-pretrained-r50_8xb32-1x1x8-100e_kinetics400-rgb.py'\n",
    "checkpoint_file = 'mmaction2/tsn_imagenet-pretrained-r50_8xb32-1x1x8-100e_kinetics400-rgb_20220906-2692d16c.pth'\n",
    "# video_file = 'media/spraying.mp4'\n",
    "video = {\n",
    "    # 'filename': 'media/spraying.mp4',\n",
    "    # 'filename': '../media/spraying.mp4'\n",
    "    'filename': './demo/demo.mp4'\n",
    "}\n",
    "label_file = 'tools/data/kinetics/label_map_k400.txt'\n",
    "model = init_recognizer(config_file, checkpoint_file, device='cuda:0')\n",
    "pred_result = inference_recognizer(model, video)\n",
    "\n",
    "pred_scores = pred_result.pred_score.tolist()\n",
    "score_tuples = tuple(zip(range(len(pred_scores)), pred_scores))\n",
    "score_sorted = sorted(score_tuples, key=itemgetter(1), reverse=True)\n",
    "top5_label = score_sorted[:5]\n",
    "\n",
    "labels = open(label_file).readlines()\n",
    "labels = [x.strip() for x in labels]\n",
    "results = [(labels[k[0]], k[1]) for k in top5_label]\n",
    "\n",
    "print('The top-5 labels with corresponding scores are:')\n",
    "for result in results:\n",
    "    print(f'{result[0]}: ', result[1])"
   ]
  },
  {
   "cell_type": "code",
   "execution_count": null,
   "metadata": {},
   "outputs": [],
   "source": []
  },
  {
   "cell_type": "code",
   "execution_count": null,
   "metadata": {},
   "outputs": [],
   "source": []
  }
 ],
 "metadata": {
  "kernelspec": {
   "display_name": "Python 3",
   "language": "python",
   "name": "python3"
  },
  "language_info": {
   "codemirror_mode": {
    "name": "ipython",
    "version": 3
   },
   "file_extension": ".py",
   "mimetype": "text/x-python",
   "name": "python",
   "nbconvert_exporter": "python",
   "pygments_lexer": "ipython3",
   "version": "3.11.5"
  }
 },
 "nbformat": 4,
 "nbformat_minor": 2
}

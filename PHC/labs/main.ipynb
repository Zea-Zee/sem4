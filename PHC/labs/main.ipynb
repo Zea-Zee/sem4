{
 "cells": [
  {
   "cell_type": "code",
   "execution_count": 9,
   "metadata": {},
   "outputs": [
    {
     "ename": "AttributeError",
     "evalue": "'NoneType' object has no attribute 'download'",
     "output_type": "error",
     "traceback": [
      "\u001b[1;31m---------------------------------------------------------------------------\u001b[0m",
      "\u001b[1;31mAttributeError\u001b[0m                            Traceback (most recent call last)",
      "Cell \u001b[1;32mIn[9], line 5\u001b[0m\n\u001b[0;32m      3\u001b[0m streams \u001b[38;5;241m=\u001b[39m yt_video\u001b[38;5;241m.\u001b[39mstreams\u001b[38;5;241m.\u001b[39mfilter()\n\u001b[0;32m      4\u001b[0m selected_stream \u001b[38;5;241m=\u001b[39m yt_video\u001b[38;5;241m.\u001b[39mstreams\u001b[38;5;241m.\u001b[39mfilter(res\u001b[38;5;241m=\u001b[39m\u001b[38;5;124m'\u001b[39m\u001b[38;5;124m1080p\u001b[39m\u001b[38;5;124m'\u001b[39m, progressive\u001b[38;5;241m=\u001b[39m\u001b[38;5;28;01mTrue\u001b[39;00m)\u001b[38;5;241m.\u001b[39mfirst()\n\u001b[1;32m----> 5\u001b[0m \u001b[43mselected_stream\u001b[49m\u001b[38;5;241;43m.\u001b[39;49m\u001b[43mdownload\u001b[49m(output_path\u001b[38;5;241m=\u001b[39m\u001b[38;5;124m'\u001b[39m\u001b[38;5;124m./3rd_lab_speedskater_keypoint-2/test\u001b[39m\u001b[38;5;124m'\u001b[39m, filename\u001b[38;5;241m=\u001b[39m\u001b[38;5;124m'\u001b[39m\u001b[38;5;124mskating.mp4\u001b[39m\u001b[38;5;124m'\u001b[39m)\n",
      "\u001b[1;31mAttributeError\u001b[0m: 'NoneType' object has no attribute 'download'"
     ]
    }
   ],
   "source": [
    "from pytube import YouTube\n",
    "yt_video = YouTube('https://youtu.be/mqUisPqBJoE')\n",
    "streams = yt_video.streams.filter()\n",
    "selected_stream = yt_video.streams.filter(res='1080p', progressive=True).first()\n",
    "selected_stream.download(output_path='./3rd_lab_speedskater_keypoint-2/test', filename='skating.mp4')"
   ]
  },
  {
   "cell_type": "code",
   "execution_count": null,
   "metadata": {},
   "outputs": [],
   "source": [
    "model = YOLO('yolov8n-seg.pt').to(device)\n",
    "print(\"Модель находится на устройстве CUDA:\", next(model.parameters()).device)\n",
    "model.predict(\n",
    "    'https://pibig.info/uploads/posts/2022-11/1669426491_12-pibig-info-p-radostnie-lyudi-krasivo-12.jpg',\n",
    "    save=True,\n",
    "    save_dir='/content/results/'\n",
    "  )"
   ]
  }
 ],
 "metadata": {
  "kernelspec": {
   "display_name": "Python 3",
   "language": "python",
   "name": "python3"
  },
  "language_info": {
   "codemirror_mode": {
    "name": "ipython",
    "version": 3
   },
   "file_extension": ".py",
   "mimetype": "text/x-python",
   "name": "python",
   "nbconvert_exporter": "python",
   "pygments_lexer": "ipython3",
   "version": "3.11.5"
  }
 },
 "nbformat": 4,
 "nbformat_minor": 2
}

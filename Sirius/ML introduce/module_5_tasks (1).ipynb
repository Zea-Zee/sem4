{
 "cells": [
  {
   "cell_type": "code",
   "execution_count": 3,
   "id": "11a56dd0",
   "metadata": {},
   "outputs": [],
   "source": [
    "from math import exp"
   ]
  },
  {
   "cell_type": "code",
   "execution_count": 4,
   "id": "6721df3e",
   "metadata": {},
   "outputs": [],
   "source": [
    "def round_to_2(x):\n",
    "    \"\"\"\n",
    "    Принимает число и возвращает результат его округления\n",
    "    до 2 знаков после запятой.\n",
    "\n",
    "    Аргументы:\n",
    "        x: Число.\n",
    "\n",
    "    Возвращаемое значение:\n",
    "        Результат округления числа до 2 знаков после запятой.\n",
    "    \"\"\"\n",
    "\n",
    "    return round(x, 2)"
   ]
  },
  {
   "cell_type": "code",
   "execution_count": 5,
   "id": "7280b7ca",
   "metadata": {},
   "outputs": [],
   "source": [
    "def custom_compare(x, y):\n",
    "    if str(x) != str(y):\n",
    "        raise RuntimeError(f'Ожидаемое значение: {y}. Фактическое: {x}')"
   ]
  },
  {
   "cell_type": "markdown",
   "id": "ef2bf45f",
   "metadata": {
    "scrolled": true
   },
   "source": [
    "## Перцептрон"
   ]
  },
  {
   "cell_type": "code",
   "execution_count": 6,
   "id": "c5ce83eb",
   "metadata": {},
   "outputs": [],
   "source": [
    "def sign(x):\n",
    "    \"\"\"\n",
    "    Возвращает 1 если переданное численное значение больше 0,\n",
    "    в противном случае возвращает -1.\n",
    "\n",
    "    Аргументы:\n",
    "        x: Численное значение.\n",
    "\n",
    "    Возвращаемое значение:\n",
    "        1, если x > 0, -1 в противном случае.\n",
    "    \"\"\"\n",
    "\n",
    "    if x > 0:\n",
    "        return 1\n",
    "\n",
    "    return -1\n",
    "\n",
    "def sigmoid(x):\n",
    "    \"\"\"\n",
    "    Возвращает 1 / (1 + e^(-x)).\n",
    "\n",
    "    Аргументы:\n",
    "        x: Численное значение.\n",
    "\n",
    "    Возвращаемое значение:\n",
    "        1 / (1 + e^(-x))\n",
    "    \"\"\"\n",
    "\n",
    "    return round_to_2(1 / (1 + exp(-x)))\n",
    "\n",
    "def relu(x):\n",
    "    \"\"\"\n",
    "    Возвращает наибольшее из чисел x и 0.\n",
    "\n",
    "    Аргументы:\n",
    "        x: Численное значение.\n",
    "\n",
    "    Возвращаемое значение:\n",
    "        Наибольшее из чисел x и 0\n",
    "    \"\"\"\n",
    "\n",
    "    if x > 0:\n",
    "        return x\n",
    "\n",
    "    return 0"
   ]
  },
  {
   "cell_type": "code",
   "execution_count": 18,
   "id": "056bdee9",
   "metadata": {},
   "outputs": [],
   "source": [
    "def perceptron_classify_solution(ws, xs, f=sign):\n",
    "    \"\"\"\n",
    "    Вычисляет предсказания перцептрона с заданными параметрами для набора объектов.\n",
    "\n",
    "    Аргументы:\n",
    "        ws: Список весов дендритов перцептрона.\n",
    "            Вес на $i$-ой позиции соответствует весу $i$-го дендрита.\n",
    "            Последний вес в списке соответствует весу $w_b$ искусственного дендрита, который\n",
    "            отвечает за константную добавку к взвешенной сумме входящих в нейрон сигналов.\n",
    "        xs: Список объектов. Каждый объект представляется в виде списка значений факторов.\n",
    "            Каждый объект описывается одним и тем же набором факторов.\n",
    "            Фактор под номером $i$ передаёт сигнал на $i$-ый дендрит нейрона.\n",
    "            При этом в данных отсутствует искусственный фактор с константным значением $1$,\n",
    "            который необходим для того, чтобы передать сигнал на соответствующий искусственный дендрит.\n",
    "         f: Функция активации нейрона. По умолчанию задана как функция sign.\n",
    "\n",
    "    Возвращаемое значение:\n",
    "        Список предсказаний перцептрона для всех объектов.\n",
    "        Предсказание для $i$-го объекта находится в списке на позиции $i$.\n",
    "    \"\"\"\n",
    "    res = []\n",
    "    b = ws[-1]\n",
    "    ws = ws[:-1]\n",
    "    for x in xs:\n",
    "        res.append(f(sum(w * factor for w, factor in zip(ws, x)) + b))\n",
    "    return res"
   ]
  },
  {
   "cell_type": "code",
   "execution_count": 19,
   "id": "2410cb49",
   "metadata": {},
   "outputs": [],
   "source": [
    "def perceptron_classify_tests():\n",
    "    example_1_ws = [5, -1, 3]\n",
    "    example_1_xs = [[2, 3],\n",
    "                    [-1, 4]]\n",
    "\n",
    "    example_1_res = [1, -1]\n",
    "\n",
    "    custom_compare(perceptron_classify_solution(example_1_ws, example_1_xs), example_1_res)\n",
    "\n",
    "    example_2_ws = [10, -21, 47, 54, 11]\n",
    "    example_2_xs = [[-5, 3, 9, -1],\n",
    "                    [2, 42, -11, 17],\n",
    "                    [-21, 7, 23, 8],\n",
    "                    [24, -67, -24, 92]\n",
    "                   ]\n",
    "\n",
    "    example_2_res = [1, -1, 1, 1]\n",
    "\n",
    "    custom_compare(perceptron_classify_solution(example_2_ws, example_2_xs), example_2_res)\n",
    "\n",
    "    example_3_ws = [0.39, 0.74, 0.61, 0.37, 0.46, 0.3, 0.87]\n",
    "    example_3_xs = [[0.38, -0.47, 0.61, -0.87, 0.41, -0.38],\n",
    "                    [-0.31, 0.38, -0.74, 0.61, -0.38, 0.46],\n",
    "                    [0.93, 0.6, -0.83, 0.4, -0.8, 0.75]\n",
    "                   ]\n",
    "\n",
    "    example_3_res = [0.69, 0.68, 0.76]\n",
    "\n",
    "    custom_compare(perceptron_classify_solution(example_3_ws, example_3_xs, f=sigmoid), example_3_res)\n",
    "\n",
    "    print('Все тесты прошли успешно!')"
   ]
  },
  {
   "cell_type": "code",
   "execution_count": 20,
   "id": "32069b69",
   "metadata": {},
   "outputs": [
    {
     "name": "stdout",
     "output_type": "stream",
     "text": [
      "Все тесты прошли успешно!\n"
     ]
    }
   ],
   "source": [
    "perceptron_classify_tests()"
   ]
  },
  {
   "cell_type": "code",
   "execution_count": 21,
   "id": "687f4e5d",
   "metadata": {},
   "outputs": [],
   "source": [
    "def perceptron_train_solution(xs, ys, learning_rate=1, k=100):\n",
    "    \"\"\"\n",
    "    Обучает перцептрон с функцией активации sign проводить классификацию переданного набора данных.\n",
    "    В результате работы возвращает веса обученного перцептрона.\n",
    "\n",
    "    Стартовые значения весов перцептрона задаются равными $0$.\n",
    "\n",
    "    В процессе обучения используется два критерия, согласно которым происходит\n",
    "    остановка обучения перцептрона:\n",
    "    1. Если число итераций обучения превысило некоторую константу k,\n",
    "       то обучение перцептрона останавливается.\n",
    "    2. Если значение метрики «среднее отклонение предсказанного значения от действительного» меньше или равно $0$,\n",
    "       то обучение перцептрона останавливается.\n",
    "\n",
    "    Аргументы:\n",
    "        xs: Список объектов обучающей выборки. Каждый объект представляется в виде списка значений факторов.\n",
    "            Каждый объект описывается одним и тем же набором факторов.\n",
    "            Фактор под номером $i$ передаёт сигнал на $i$-ый дендрит нейрона.\n",
    "            При этом в данных отсутствует искусственный фактор с константным значением $1$,\n",
    "            который необходим для того, чтобы передать сигнал на соответствующий искусственный дендрит.\n",
    "        ys: Список классов, которым принадлежат объекты из xs.\n",
    "            Порядок классов соответствует порядку объектов в xs.\n",
    "            Класс может быть либо $-1$, либо $1$.\n",
    "        learning_rate: Константа скорости обучения, которая используется в правиле обновления весов перцептрона.\n",
    "                       По умолчанию аргумент равен $1$.\n",
    "         k: Число итераций, после которого необходимо прервать обучение перцептрона,\n",
    "            если процесс не остановился естественным образом.\n",
    "            По умолчанию аргумент равен $100$.\n",
    "\n",
    "    Возвращаемое значение:\n",
    "        Список весов дендритов перцептрона.\n",
    "        Последний вес в списке соответствует весу $w_b$ искусственного дендрита, который\n",
    "        отвечает за константную добавку к взвешенной сумме входящих в нейрон сигналов.\n",
    "    \"\"\"\n",
    "\n",
    "    pass"
   ]
  },
  {
   "cell_type": "code",
   "execution_count": 22,
   "id": "65b89eba",
   "metadata": {},
   "outputs": [],
   "source": [
    "def perceptron_train_test():\n",
    "    example_1_xs = [\n",
    "        [5, -2],\n",
    "        [-2, -1],\n",
    "        [3, 4],\n",
    "        [-1, -2]\n",
    "    ]\n",
    "    example_1_ys = [1, -1, -1, 1]\n",
    "\n",
    "    example_1_res = [8, -10, -2]\n",
    "\n",
    "    custom_compare(perceptron_train_solution(example_1_xs, example_1_ys), example_1_res)\n",
    "\n",
    "    example_2_xs = [\n",
    "        [-5, 3, 9, -1],\n",
    "        [2, 42, -11, 17],\n",
    "        [-21, 7, 23, 8],\n",
    "        [24, -67, -24, 92]\n",
    "    ]\n",
    "    example_2_ys = [1, 1, -1, -1]\n",
    "\n",
    "    example_2_res = [26, 112, -26, -218, -4]\n",
    "\n",
    "    custom_compare(perceptron_train_solution(example_2_xs, example_2_ys), example_2_res)\n",
    "\n",
    "    example_3_xs = [\n",
    "        [2, 3, 23, 2],\n",
    "        [-1, 4, -2, 32],\n",
    "        [23, -53, -11, 21],\n",
    "        [11, -29, -53, -23],\n",
    "        [-2, 9, 2, -3]\n",
    "    ]\n",
    "    example_3_ys = [-1, 1, 1, -1, -1]\n",
    "\n",
    "    example_3_res = [18, -70, -16, 150, -4]\n",
    "\n",
    "    custom_compare(perceptron_train_solution(example_3_xs, example_3_ys), example_3_res)\n",
    "\n",
    "    print('Все тесты прошли успешно!')"
   ]
  },
  {
   "cell_type": "code",
   "execution_count": 23,
   "id": "f310e2a8",
   "metadata": {},
   "outputs": [
    {
     "ename": "RuntimeError",
     "evalue": "Ожидаемое значение: [8, -10, -2]. Фактическое: None",
     "output_type": "error",
     "traceback": [
      "\u001b[0;31m---------------------------------------------------------------------------\u001b[0m",
      "\u001b[0;31mRuntimeError\u001b[0m                              Traceback (most recent call last)",
      "\u001b[0;32m/tmp/ipykernel_29739/498648290.py\u001b[0m in \u001b[0;36m<module>\u001b[0;34m\u001b[0m\n\u001b[0;32m----> 1\u001b[0;31m \u001b[0mperceptron_train_test\u001b[0m\u001b[0;34m(\u001b[0m\u001b[0;34m)\u001b[0m\u001b[0;34m\u001b[0m\u001b[0;34m\u001b[0m\u001b[0m\n\u001b[0m",
      "\u001b[0;32m/tmp/ipykernel_29739/3065094563.py\u001b[0m in \u001b[0;36mperceptron_train_test\u001b[0;34m()\u001b[0m\n\u001b[1;32m     10\u001b[0m     \u001b[0mexample_1_res\u001b[0m \u001b[0;34m=\u001b[0m \u001b[0;34m[\u001b[0m\u001b[0;36m8\u001b[0m\u001b[0;34m,\u001b[0m \u001b[0;34m-\u001b[0m\u001b[0;36m10\u001b[0m\u001b[0;34m,\u001b[0m \u001b[0;34m-\u001b[0m\u001b[0;36m2\u001b[0m\u001b[0;34m]\u001b[0m\u001b[0;34m\u001b[0m\u001b[0;34m\u001b[0m\u001b[0m\n\u001b[1;32m     11\u001b[0m \u001b[0;34m\u001b[0m\u001b[0m\n\u001b[0;32m---> 12\u001b[0;31m     \u001b[0mcustom_compare\u001b[0m\u001b[0;34m(\u001b[0m\u001b[0mperceptron_train_solution\u001b[0m\u001b[0;34m(\u001b[0m\u001b[0mexample_1_xs\u001b[0m\u001b[0;34m,\u001b[0m \u001b[0mexample_1_ys\u001b[0m\u001b[0;34m)\u001b[0m\u001b[0;34m,\u001b[0m \u001b[0mexample_1_res\u001b[0m\u001b[0;34m)\u001b[0m\u001b[0;34m\u001b[0m\u001b[0;34m\u001b[0m\u001b[0m\n\u001b[0m\u001b[1;32m     13\u001b[0m \u001b[0;34m\u001b[0m\u001b[0m\n\u001b[1;32m     14\u001b[0m     example_2_xs = [\n",
      "\u001b[0;32m/tmp/ipykernel_29739/860453372.py\u001b[0m in \u001b[0;36mcustom_compare\u001b[0;34m(x, y)\u001b[0m\n\u001b[1;32m      1\u001b[0m \u001b[0;32mdef\u001b[0m \u001b[0mcustom_compare\u001b[0m\u001b[0;34m(\u001b[0m\u001b[0mx\u001b[0m\u001b[0;34m,\u001b[0m \u001b[0my\u001b[0m\u001b[0;34m)\u001b[0m\u001b[0;34m:\u001b[0m\u001b[0;34m\u001b[0m\u001b[0;34m\u001b[0m\u001b[0m\n\u001b[1;32m      2\u001b[0m     \u001b[0;32mif\u001b[0m \u001b[0mstr\u001b[0m\u001b[0;34m(\u001b[0m\u001b[0mx\u001b[0m\u001b[0;34m)\u001b[0m \u001b[0;34m!=\u001b[0m \u001b[0mstr\u001b[0m\u001b[0;34m(\u001b[0m\u001b[0my\u001b[0m\u001b[0;34m)\u001b[0m\u001b[0;34m:\u001b[0m\u001b[0;34m\u001b[0m\u001b[0;34m\u001b[0m\u001b[0m\n\u001b[0;32m----> 3\u001b[0;31m         \u001b[0;32mraise\u001b[0m \u001b[0mRuntimeError\u001b[0m\u001b[0;34m(\u001b[0m\u001b[0;34mf'Ожидаемое значение: {y}. Фактическое: {x}'\u001b[0m\u001b[0;34m)\u001b[0m\u001b[0;34m\u001b[0m\u001b[0;34m\u001b[0m\u001b[0m\n\u001b[0m",
      "\u001b[0;31mRuntimeError\u001b[0m: Ожидаемое значение: [8, -10, -2]. Фактическое: None"
     ]
    }
   ],
   "source": [
    "perceptron_train_test()"
   ]
  },
  {
   "cell_type": "markdown",
   "id": "8e970799",
   "metadata": {},
   "source": [
    "# Многослойный перцептрон"
   ]
  },
  {
   "cell_type": "code",
   "execution_count": 88,
   "id": "e0831650",
   "metadata": {},
   "outputs": [
    {
     "data": {
      "text/plain": [
       "0.05"
      ]
     },
     "execution_count": 88,
     "metadata": {},
     "output_type": "execute_result"
    }
   ],
   "source": [
    "def multilayer_perceptron_solution(wss, fs, x):\n",
    "    \"\"\"\n",
    "    Вычисляет предсказание многослойного перцептрона для конкретного объекта.\n",
    "\n",
    "    Аргументы:\n",
    "        wss: Список списков весов нейронов перцептрона.\n",
    "\n",
    "             Длина внешнего списка равна числу слоёв нейрона.\n",
    "             Каждый элемент внешнего списка — набор параметров нейронов конкретного слоя.\n",
    "             $i$-ый элемент внешнего списка соответствует $i$-ому слою многослойного перцептрона.\n",
    "\n",
    "             Параметры нейронов конкретного слоя тоже представлены в виде списка.\n",
    "             Каждый элемент такого списка — набор параметров конкретного нейрона.\n",
    "\n",
    "             Набор параметров конкретного нейрона тоже представлен в виде списка.\n",
    "             Каждый элемент такого списка — вес соответствующего дендрита нейрона.\n",
    "             Последний вес в списке соответствует весу $w_b$ искусственного дендрита,\n",
    "             который отвечает за константную добавку к взвешенной сумме входящих в нейрон сигналов.\n",
    "\n",
    "        fs: Список функций активации, которые используются в каждом из слоёв.\n",
    "            $i$-ая функция активации используется в $i$-ом слое многослойного перцептрона.\n",
    "\n",
    "         x: Объект, для которого необходимо сделать предсказание.\n",
    "            Объект представляется в виде списка значений факторов.\n",
    "            У объекта отсутствует искусственный фактор с константным значением $1$,\n",
    "            который необходим для того, чтобы передать сигнал на соответствующий искусственный\n",
    "            дендрит нейронов первого слоя.\n",
    "\n",
    "    Возвращаемое значение:\n",
    "        Предсказанное значение.\n",
    "    \"\"\"\n",
    "    for i in range(len(wss)):\n",
    "        x = [x]\n",
    "        outputs = []\n",
    "        for j in range(len(wss[i])):\n",
    "            # print(\"ws:\", wss[i][j])\n",
    "            # print(\"x:\", x)\n",
    "            # print(\"fs:\", fs[i])\n",
    "            outputs.append((perceptron_classify_solution(wss[i][j], x, fs[i]))[0])\n",
    "            # print(\"outputs:\", outputs)\n",
    "            # print(\"---neuron---\")\n",
    "        x = outputs.copy()\n",
    "        # print(\"________layer________\")\n",
    "    return x[0]\n",
    "    return round(1 - x[0], 2)\n",
    "\n",
    "multilayer_perceptron_solution(\n",
    "    [\n",
    "        [[5, -2, 5]],\n",
    "        [[1, 2],\n",
    "         [7, -4]],\n",
    "        [[-3, 2, 3]]\n",
    "    ],\n",
    "    [relu, relu, sigmoid],\n",
    "    [-2, 3]\n",
    ")\n",
    "\n",
    "# multilayer_perceptron_solution(\n",
    "#     [\n",
    "#         [[1, -1, 5]],\n",
    "#         [[2, 1],\n",
    "#          [2, -3]],\n",
    "#         [[1, -4, 1]]\n",
    "#     ],\n",
    "#     [relu, relu, sigmoid],\n",
    "#     [-1, 1]\n",
    "# )\n",
    "\n",
    "# perceptron_classify_solution([5, -2, 5], [[-2, 3]], relu)"
   ]
  },
  {
   "cell_type": "code",
   "execution_count": 89,
   "id": "81fe7c39",
   "metadata": {},
   "outputs": [],
   "source": [
    "def multilayer_perceptron_tests():\n",
    "    example_1_wss = [\n",
    "        [[1, -1, 5]],\n",
    "        [[2, 1],\n",
    "         [2, -3]],\n",
    "        [[1, -4, 1]]\n",
    "    ]\n",
    "\n",
    "    example_1_fs = [relu, relu, sigmoid]\n",
    "    example_1_x = [-1, 1]\n",
    "\n",
    "    example_1_res = 0.02\n",
    "\n",
    "    custom_compare(multilayer_perceptron_solution(example_1_wss, example_1_fs, example_1_x), example_1_res)\n",
    "\n",
    "    example_2_wss = [\n",
    "        [[2, -3, 7], [-6, 5, 2]],\n",
    "        [[2, 2, 1]]\n",
    "    ]\n",
    "\n",
    "    example_2_fs = [relu, relu]\n",
    "    example_2_x = [-2, -2]\n",
    "\n",
    "    example_2_res = 27\n",
    "\n",
    "    custom_compare(multilayer_perceptron_solution(example_2_wss, example_2_fs, example_2_x), example_2_res)\n",
    "\n",
    "    print('Все тесты прошли успешно!')"
   ]
  },
  {
   "cell_type": "code",
   "execution_count": 90,
   "id": "51e6f8a3",
   "metadata": {},
   "outputs": [
    {
     "name": "stdout",
     "output_type": "stream",
     "text": [
      "Все тесты прошли успешно!\n"
     ]
    }
   ],
   "source": [
    "multilayer_perceptron_tests()"
   ]
  },
  {
   "cell_type": "code",
   "execution_count": null,
   "id": "01d2494e",
   "metadata": {},
   "outputs": [],
   "source": []
  },
  {
   "cell_type": "code",
   "execution_count": null,
   "id": "cdf39b69",
   "metadata": {},
   "outputs": [],
   "source": []
  },
  {
   "cell_type": "code",
   "execution_count": null,
   "id": "ed7b7f54",
   "metadata": {},
   "outputs": [],
   "source": []
  }
 ],
 "metadata": {
  "kernelspec": {
   "display_name": "Python 3 (ipykernel)",
   "language": "python",
   "name": "python3"
  },
  "language_info": {
   "codemirror_mode": {
    "name": "ipython",
    "version": 3
   },
   "file_extension": ".py",
   "mimetype": "text/x-python",
   "name": "python",
   "nbconvert_exporter": "python",
   "pygments_lexer": "ipython3",
   "version": "3.10.12"
  }
 },
 "nbformat": 4,
 "nbformat_minor": 5
}

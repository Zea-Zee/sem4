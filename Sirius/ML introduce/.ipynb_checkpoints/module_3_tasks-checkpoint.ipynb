{
 "cells": [
  {
   "cell_type": "code",
   "execution_count": null,
   "id": "f94bbda7",
   "metadata": {},
   "outputs": [],
   "source": [
    "import math\n",
    "\n",
    "import pandas as pd\n",
    "import seaborn as sns"
   ]
  },
  {
   "cell_type": "code",
   "execution_count": null,
   "id": "60ea2afe",
   "metadata": {},
   "outputs": [],
   "source": [
    "# Настройка, которая позволяет сделать графики, которые рисует seaborn, более крупными\n",
    "sns.set(rc={'figure.figsize': (11.7, 8.27)})"
   ]
  },
  {
   "cell_type": "code",
   "execution_count": null,
   "id": "020da7aa",
   "metadata": {},
   "outputs": [],
   "source": [
    "def round_to_2(x):\n",
    "    \"\"\"\n",
    "    Принимает число и возвращает результат его округления\n",
    "    до 2 знаков после запятой.\n",
    "\n",
    "    Аргументы:\n",
    "        x: Число.\n",
    "\n",
    "    Возвращаемое значение:\n",
    "        Результат округления числа до 2 знаков после запятой.\n",
    "    \"\"\"\n",
    "\n",
    "    return round(x, 2)"
   ]
  },
  {
   "cell_type": "markdown",
   "id": "765b1a5f",
   "metadata": {},
   "source": [
    "## Среднее значение в колонке csv-файла"
   ]
  },
  {
   "cell_type": "code",
   "execution_count": null,
   "id": "cff02b4a",
   "metadata": {},
   "outputs": [],
   "source": [
    "def split_line(line, sep):\n",
    "    \"\"\"\n",
    "    Возвращает список значений, которые содержатся в строке\n",
    "    и разделены конкретным разделителем.\n",
    "    Если какое-то из значений обособлено кавычками (\"<значение>\"), то разделительный\n",
    "    символ внутри него не считается разделителем.\n",
    "\n",
    "    Например, если передать в функцию строку 'aa,bb,\"cc, oo\",dd' и разделитель ',',\n",
    "    то в результате работы функции получится список ['aa', 'bb', 'cc, oo', 'dd'].\n",
    "\n",
    "    Аргументы:\n",
    "        line: Строка, которую нужно разбить на подстроки.\n",
    "        sep: Разделитель, который используется в строке для отделения различных значений.\n",
    "\n",
    "    Возвращаемое значение:\n",
    "        Список подстрок строки, получаемых с помощью разделения её\n",
    "        на подстроки по заданному разделителю.\n",
    "    \"\"\"\n",
    "\n",
    "    res = []\n",
    "\n",
    "    prev_ind = -1\n",
    "    in_quotes = False\n",
    "\n",
    "    for i in range(len(line)):\n",
    "        ch = line[i]\n",
    "\n",
    "        if ch == '\"':\n",
    "            in_quotes = not in_quotes\n",
    "\n",
    "        if not in_quotes and ch == sep:\n",
    "            res.append(line[prev_ind + 1:i].strip('\"'))\n",
    "            prev_ind = i\n",
    "\n",
    "    if prev_ind < len(line) - 1:\n",
    "        res.append(line[prev_ind + 1:len(line)].strip('\"'))\n",
    "    elif prev_ind == len(line) - 1:\n",
    "        res.append('')\n",
    "\n",
    "    return res"
   ]
  },
  {
   "cell_type": "code",
   "execution_count": null,
   "id": "c94777b8",
   "metadata": {},
   "outputs": [],
   "source": [
    "def read_csv_and_calc_mean_solution(lines, sep, column_name):\n",
    "    \"\"\"\n",
    "    Принимает список строк из csv-файла и возвращает среднее значение в заданной колонке.\n",
    "    В первой строке csv-файла всегда представлены названия его колонок.\n",
    "\n",
    "    Аргументы:\n",
    "        lines: Список строк, прочитанных из csv-файла.\n",
    "        sep: Разделитель, который используется в строках для отделения различных значений.\n",
    "        column_name: Название колонки с целочисленными значениями, по которой нужно посчитать среднее.\n",
    "\n",
    "    Возвращаемое значение:\n",
    "        Среднее значение в заданной колонке, округлённое до 2 знаков\n",
    "        после запятой с помощью функции round_to_2.\n",
    "    \"\"\"\n",
    "\n",
    "    pass"
   ]
  },
  {
   "cell_type": "code",
   "execution_count": null,
   "id": "423d5b67",
   "metadata": {},
   "outputs": [],
   "source": [
    "def read_csv_and_calc_mean_tests():\n",
    "    example_1_lines = [\n",
    "        'Жанр,\"Продолжительность, часы\",\"Продолжительность, минуты\",Страна производства,Год производства',\n",
    "        'Боевик,0,36,Италия,1996',\n",
    "        'Комедия,1,23,Россия,1999',\n",
    "        'Триллер,2,21,США,2006',\n",
    "    ]\n",
    "    example_1_sep = ','\n",
    "    example_1_column = 'Год производства'\n",
    "    example_1_res = 2000.33\n",
    "\n",
    "    assert read_csv_and_calc_mean_solution(example_1_lines, example_1_sep, example_1_column) == example_1_res\n",
    "\n",
    "    example_2_lines = [\n",
    "        'Жанр,\"Продолжительность, часы\",\"Продолжительность, минуты\",Страна производства,Год производства',\n",
    "        'Боевик,0,36,Италия,1996',\n",
    "        'Комедия,1,23,Россия,1999',\n",
    "        'Триллер,2,21,США,2006',\n",
    "        'Комедия,1,48,США-Россия,2012',\n",
    "        'Драма,2,3,Франция,2016',\n",
    "        'Документальный,2,47,Германия,2001'\n",
    "    ]\n",
    "    example_2_sep = ','\n",
    "    example_2_column = 'Продолжительность, минуты'\n",
    "    example_2_res = 29.67\n",
    "\n",
    "    assert read_csv_and_calc_mean_solution(example_2_lines, example_2_sep, example_2_column) == example_2_res\n",
    "\n",
    "    print('Все тесты прошли успешно!')"
   ]
  },
  {
   "cell_type": "code",
   "execution_count": null,
   "id": "c90d6c12",
   "metadata": {},
   "outputs": [],
   "source": [
    "read_csv_and_calc_mean_tests()"
   ]
  },
  {
   "cell_type": "markdown",
   "id": "9521936e",
   "metadata": {},
   "source": [
    "## Фильтрация таблиц"
   ]
  },
  {
   "cell_type": "code",
   "execution_count": null,
   "id": "933e7466",
   "metadata": {},
   "outputs": [],
   "source": [
    "# В переменную movies загружена таблица из файла movies_data.csv\n",
    "movies = pd.read_csv('movies_data.csv', sep=',')\n",
    "\n",
    "# Удаление фильмов, у которых не указан год производства\n",
    "movies = movies[~movies['Год производства'].isna()]"
   ]
  },
  {
   "cell_type": "markdown",
   "id": "880e3eaf",
   "metadata": {},
   "source": [
    "## Комбинирование колонок и расчёт статистик"
   ]
  },
  {
   "cell_type": "code",
   "execution_count": null,
   "id": "e7819a5d",
   "metadata": {},
   "outputs": [],
   "source": [
    "# В переменную movies_budget загружена таблица из файла movies_budget.csv\n",
    "movies_budget = pd.read_csv('movies_budget.csv', sep=';')"
   ]
  },
  {
   "cell_type": "markdown",
   "id": "624d2aad",
   "metadata": {},
   "source": [
    "## Агрегированные статистики"
   ]
  },
  {
   "cell_type": "code",
   "execution_count": null,
   "id": "aab97d2b",
   "metadata": {},
   "outputs": [],
   "source": [
    "# В переменную movies_budget загружена таблица из файла movies_budget.csv\n",
    "movies_budget = pd.read_csv('movies_budget.csv', sep=';')"
   ]
  },
  {
   "cell_type": "code",
   "execution_count": null,
   "id": "acc10e90",
   "metadata": {},
   "outputs": [],
   "source": [
    "def transform_countries_info(movies_data):\n",
    "    \"\"\"\n",
    "    Принимает таблицу с колонкой «Страна производства» и добавляет к таблице 5 новых колонок:\n",
    "    по одной на каждую отдельную страну. Значение в каждой из колонок соответствует тому,\n",
    "    принимала ли конкретная страна участие в производстве фильма.\n",
    "\n",
    "    Аргументы:\n",
    "        movies_data: Исходная таблица с клонкой «Страна производства».\n",
    "\n",
    "    Возвращаемое значение:\n",
    "        Нет. Функция модифицирует переданную таблицу, но ничего не возвращает.\n",
    "    \"\"\"\n",
    "\n",
    "    countries = ['Россия', 'Германия', 'США', 'Италия', 'Франция']\n",
    "    new_columns = [[] for i in range(len(countries))]\n",
    "\n",
    "    for _, row in movies_data.iterrows():\n",
    "        country_of_origin_united = row['Страна производства']\n",
    "        countries_of_origin = country_of_origin_united.split('-')\n",
    "\n",
    "        for i in range(len(countries)):\n",
    "            country = countries[i]\n",
    "\n",
    "            if country in countries_of_origin:\n",
    "                new_columns[i].append('Да')\n",
    "            else:\n",
    "                new_columns[i].append('Нет')\n",
    "\n",
    "    for i in range(len(countries)):\n",
    "        movies_data[countries[i]] = new_columns[i]"
   ]
  },
  {
   "cell_type": "markdown",
   "id": "877e74d4",
   "metadata": {},
   "source": [
    "## Визуальный анализ данных"
   ]
  },
  {
   "cell_type": "code",
   "execution_count": null,
   "id": "c67793d0",
   "metadata": {},
   "outputs": [],
   "source": [
    "# В переменную many_factors загружена таблица из файла many_factors_data.csv\n",
    "many_factors = pd.read_csv('many_factors_data.csv')"
   ]
  },
  {
   "cell_type": "code",
   "execution_count": null,
   "id": "512c5327",
   "metadata": {},
   "outputs": [],
   "source": [
    "# В переменную uniform_and_not загружена таблица из файла uniform_and_not_data\n",
    "uniform_and_not = pd.read_csv('uniform_and_not_data.csv')"
   ]
  }
 ],
 "metadata": {
  "kernelspec": {
   "display_name": "Python 3 (ipykernel)",
   "language": "python",
   "name": "python3"
  },
  "language_info": {
   "codemirror_mode": {
    "name": "ipython",
    "version": 3
   },
   "file_extension": ".py",
   "mimetype": "text/x-python",
   "name": "python",
   "nbconvert_exporter": "python",
   "pygments_lexer": "ipython3",
   "version": "3.11.5"
  }
 },
 "nbformat": 4,
 "nbformat_minor": 5
}

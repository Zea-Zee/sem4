{
 "cells": [
  {
   "cell_type": "code",
   "execution_count": 7,
   "id": "76604282",
   "metadata": {},
   "outputs": [],
   "source": [
    "import pandas as pd\n",
    "import seaborn as sns"
   ]
  },
  {
   "cell_type": "code",
   "execution_count": 8,
   "id": "647eef99",
   "metadata": {},
   "outputs": [],
   "source": [
    "sns.set(rc={'figure.figsize': (11.7, 8.27)})"
   ]
  },
  {
   "cell_type": "code",
   "execution_count": 9,
   "id": "d2b96a5f",
   "metadata": {},
   "outputs": [],
   "source": [
    "def round_to_2(x):\n",
    "    \"\"\"\n",
    "    Принимает число и возвращает результат его округления\n",
    "    до 2 знаков после запятой.\n",
    "\n",
    "    Аргументы:\n",
    "        x: Число.\n",
    "\n",
    "    Возвращаемое значение:\n",
    "        Результат округления числа до 2 знаков после запятой.\n",
    "    \"\"\"\n",
    "\n",
    "    return round(float(x), 2)"
   ]
  },
  {
   "cell_type": "code",
   "execution_count": 10,
   "id": "1ac66575",
   "metadata": {},
   "outputs": [],
   "source": [
    "def custom_compare(x, y):\n",
    "    if str(x) != str(y):\n",
    "        raise RuntimeError(f'Ожидаемое значение: {y}. Фактическое: {x}')"
   ]
  },
  {
   "cell_type": "markdown",
   "id": "126499b4",
   "metadata": {},
   "source": [
    "# Линейная регрессия с двумя параметрами"
   ]
  },
  {
   "cell_type": "code",
   "execution_count": 40,
   "id": "6a3f9532",
   "metadata": {},
   "outputs": [
    {
     "name": "stdout",
     "output_type": "stream",
     "text": [
      "3.0 2.0\n"
     ]
    },
    {
     "data": {
      "text/plain": [
       "(3.8, -0.6)"
      ]
     },
     "execution_count": 40,
     "metadata": {},
     "output_type": "execute_result"
    }
   ],
   "source": [
    "def two_parameters_linear_regression_solution(data, x_name, y_name):\n",
    "    \"\"\"\n",
    "    На основе данных из таблицы data с помощью МНК строит модель линейной регрессии,\n",
    "    которая по фактору x_name предсказывает значение фактора y_name.\n",
    "\n",
    "    Аргументы:\n",
    "        data: Таблица с данными.\n",
    "        x_name: Название колонки в таблице, на основе которой нужно научиться\n",
    "                предсказывать значение целевой характеристики.\n",
    "        y_name: Название колонки в таблице, которая содержит значения\n",
    "                предсказываемой характеристики.\n",
    "\n",
    "    Возвращаемое значение:\n",
    "        Возвращает пару параметров модели: свободный коэффициент w0, вес w1 перед фактором x_name.\n",
    "\n",
    "        Значение каждого параметра должно быть округлено до 2 знаков после запятой с помощью функции `round_to_2`.\n",
    "    \"\"\"\n",
    "    y_avg = data[y_name].mean()\n",
    "    x_avg = data[x_name].mean()\n",
    "    w_1 = sum((x - x_avg) * (y - y_avg) for x, y in zip(data[x_name], data[y_name])) / sum((x - x_avg) ** 2 for x in data[x_name])\n",
    "    w_0 = y_avg - w_1 * x_avg\n",
    "    print(x_avg, y_avg)\n",
    "    return (round_to_2(w_0), round_to_2(w_1))\n",
    "\n",
    "\n",
    "# two_parameters_linear_regression_test()\n",
    "tbl_example_1 = [[1, 3],\n",
    "                [2, 2],\n",
    "                [4, 4],\n",
    "                [5, -1]]\n",
    "col_names_example_1 = ['x', 'y']\n",
    "data_example_1 = pd.DataFrame(data=tbl_example_1, columns=col_names_example_1)\n",
    "two_parameters_linear_regression_solution(data_example_1, 'x', 'y')"
   ]
  },
  {
   "cell_type": "code",
   "execution_count": 41,
   "id": "0d2f3076",
   "metadata": {},
   "outputs": [],
   "source": [
    "def two_parameters_linear_regression_test():\n",
    "    tbl_example_1 = [[1, 1],\n",
    "                     [2, 2],\n",
    "                     [3, 3],\n",
    "                     [4, 4],\n",
    "                     [5, 5]]\n",
    "    col_names_example_1 = ['x', 'y']\n",
    "    data_example_1 = pd.DataFrame(data=tbl_example_1, columns=col_names_example_1)\n",
    "\n",
    "    res_example_1 = (0.0, 1.0)\n",
    "\n",
    "    custom_compare(two_parameters_linear_regression_solution(data_example_1,\n",
    "                                                             col_names_example_1[0],\n",
    "                                                             col_names_example_1[1]),\n",
    "                   res_example_1)\n",
    "\n",
    "    tbl_example_2 = [[1.1, 1, 0.21],\n",
    "                     [-3.4, 2, 0.19],\n",
    "                     [2.7, 3, 0.39],\n",
    "                     [2.8, 4, 0.22],\n",
    "                     [0.31, 5, -0.1]]\n",
    "    col_names_example_2 = ['x', 'extra', 'y']\n",
    "    data_example_2 = pd.DataFrame(data=tbl_example_2, columns=col_names_example_2)\n",
    "\n",
    "    res_example_2 = (0.17, 0.02)\n",
    "\n",
    "    custom_compare(two_parameters_linear_regression_solution(data_example_2,\n",
    "                                                             col_names_example_2[0],\n",
    "                                                             col_names_example_2[2]),\n",
    "                   res_example_2)\n",
    "\n",
    "    print('Тест прошёл успешно!')"
   ]
  },
  {
   "cell_type": "code",
   "execution_count": 42,
   "id": "a4feecf3",
   "metadata": {},
   "outputs": [
    {
     "name": "stdout",
     "output_type": "stream",
     "text": [
      "3.0 3.0\n",
      "0.7020000000000001 0.182\n",
      "Тест прошёл успешно!\n"
     ]
    }
   ],
   "source": [
    "two_parameters_linear_regression_test()"
   ]
  },
  {
   "cell_type": "markdown",
   "id": "26143b7c",
   "metadata": {},
   "source": [
    "# Основные понятия линейной алгебры"
   ]
  },
  {
   "cell_type": "code",
   "execution_count": 64,
   "id": "4cac75b5",
   "metadata": {},
   "outputs": [
    {
     "name": "stdout",
     "output_type": "stream",
     "text": [
      "Тест прошёл успешно!\n"
     ]
    },
    {
     "data": {
      "text/plain": [
       "[[16.0, 11.0, 21.0], [-2.0, -4.0, -6.0], [-4.0, -1.0, -3.0], [-9.0, 10.0, 9.0]]"
      ]
     },
     "execution_count": 64,
     "metadata": {},
     "output_type": "execute_result"
    }
   ],
   "source": [
    "def matrix_multiplication_solution(matrix_a, matrix_b):\n",
    "    \"\"\"\n",
    "    Производит перемножение двух заданных матриц.\n",
    "    Если произвести перемножение матриц нельзя, то возвращает -1.\n",
    "\n",
    "    Аргументы:\n",
    "        matrix_a: Первая матрица.\n",
    "        matrix_b: Вторая матрица.\n",
    "\n",
    "    Возвращаемое значение:\n",
    "        Возвращает матрицу, которая является результатом перемножения двух заданных матриц.\n",
    "        Значение в каждой ячейке получившейся матрицы должно быть округлено\n",
    "        до 2 знаков после запятой с помощью функции round_to_2.\n",
    "    \"\"\"\n",
    "    if not len(matrix_a) or not len(matrix_b) or len(matrix_a[0]) != len(matrix_b):\n",
    "        return -1\n",
    "    matrix_c = [[0.0 for _ in range(len(matrix_b[1]))] for _ in range(len(matrix_a))]\n",
    "    # print(matrix_a)\n",
    "    # print(matrix_b)\n",
    "    for i in range(len(matrix_a)):\n",
    "        for j in range(len(matrix_b[0])):\n",
    "            for k in range(len(matrix_a[0])):\n",
    "                matrix_c[i][j] += matrix_a[i][k] * matrix_b[k][j]\n",
    "            matrix_c[i][j] = round_to_2(matrix_c[i][j])\n",
    "    # print(matrix_c)\n",
    "    return matrix_c\n",
    "\n",
    "\n",
    "matrix_multiplication_test()\n",
    "matrix_multiplication_solution(\n",
    "    [\n",
    "        [7, -3],\n",
    "        [-2, 0],\n",
    "        [-1, 1],\n",
    "        [3, 4]\n",
    "    ],\n",
    "    [\n",
    "        [1, 2, 3],\n",
    "        [-3, 1, 0]\n",
    "    ]\n",
    ")"
   ]
  },
  {
   "cell_type": "code",
   "execution_count": 56,
   "id": "04a5935a",
   "metadata": {},
   "outputs": [],
   "source": [
    "def matrix_multiplication_test():\n",
    "    matrix_a_example_1 = [[1, 2],\n",
    "                          [-1, 0]]\n",
    "    matrix_b_example_1 = [[-1, 1],\n",
    "                          [3, -2]]\n",
    "\n",
    "    res_example_1 = [[5.0, -3.0],\n",
    "                     [1.0, -1.0]]\n",
    "\n",
    "    custom_compare(matrix_multiplication_solution(matrix_a_example_1, matrix_b_example_1),\n",
    "                   res_example_1)\n",
    "\n",
    "    matrix_a_example_2 = [[1, 2],\n",
    "                          [-1, 0]]\n",
    "    matrix_b_example_2 = [[-1, 1],\n",
    "                          [3, -2],\n",
    "                          [0.1, 2]]\n",
    "\n",
    "    res_example_2 = -1\n",
    "\n",
    "    custom_compare(matrix_multiplication_solution(matrix_a_example_2, matrix_b_example_2),\n",
    "                   res_example_2)\n",
    "\n",
    "    matrix_a_example_3 = [[0.7, 3.9],\n",
    "                          [-2.3, 5.1],\n",
    "                          [7.8, 0]]\n",
    "    matrix_b_example_3 = [[-1, 3.78, 1],\n",
    "                          [2.1, -8, 2]]\n",
    "\n",
    "    res_example_3 = [[7.49, -28.55, 8.5],\n",
    "                     [13.01, -49.49, 7.9],\n",
    "                     [-7.8, 29.48, 7.8]]\n",
    "\n",
    "    custom_compare(matrix_multiplication_solution(matrix_a_example_3, matrix_b_example_3),\n",
    "                   res_example_3)\n",
    "\n",
    "    print('Тест прошёл успешно!')"
   ]
  },
  {
   "cell_type": "code",
   "execution_count": 57,
   "id": "a4958c4b",
   "metadata": {},
   "outputs": [
    {
     "name": "stdout",
     "output_type": "stream",
     "text": [
      "Тест прошёл успешно!\n"
     ]
    }
   ],
   "source": [
    "matrix_multiplication_test()"
   ]
  },
  {
   "cell_type": "code",
   "execution_count": 63,
   "id": "a24034c8",
   "metadata": {},
   "outputs": [
    {
     "name": "stdout",
     "output_type": "stream",
     "text": [
      "Тест прошёл успешно!\n"
     ]
    }
   ],
   "source": [
    "def transpose_matrix_solution(matrix):\n",
    "    \"\"\"\n",
    "    Производит транспонирование переданной матрицы.\n",
    "\n",
    "    Аргументы:\n",
    "        matrix: Матрица, которую нужно транспонировать.\n",
    "\n",
    "    Возвращаемое значение:\n",
    "        Возвращает матрицу, которая является результатом транспонирования матрицы-аргумента.\n",
    "    \"\"\"\n",
    "    res_matrix = [[0 for _ in range(len(matrix))] for _ in range(len(matrix[0]))]\n",
    "    for i in range(len(matrix)):\n",
    "        for j in range(len(matrix[0])):\n",
    "            res_matrix[j][i] = matrix[i][j]\n",
    "    return res_matrix\n",
    "\n",
    "\n",
    "transpose_matrix_test()"
   ]
  },
  {
   "cell_type": "code",
   "execution_count": 59,
   "id": "d57b4363",
   "metadata": {},
   "outputs": [],
   "source": [
    "def transpose_matrix_test():\n",
    "    matrix_example_1 = [[1, 2, 3],\n",
    "                        [-1, 3, 1]]\n",
    "\n",
    "    res_example_1 = [[1, -1],\n",
    "                     [2, 3],\n",
    "                     [3, 1]]\n",
    "\n",
    "    custom_compare(transpose_matrix_solution(matrix_example_1), res_example_1)\n",
    "\n",
    "    matrix_example_2 = [[0, 22, 3, 6],\n",
    "                        [5, 4, -1, 7],\n",
    "                        [-7, 82, 31, 8],\n",
    "                        [38, -49, 4, 1]]\n",
    "\n",
    "    res_example_2 = [[0, 5, -7, 38],\n",
    "                     [22, 4, 82, -49],\n",
    "                     [3, -1, 31, 4],\n",
    "                     [6, 7, 8, 1]]\n",
    "\n",
    "    custom_compare(transpose_matrix_solution(matrix_example_2), res_example_2)\n",
    "\n",
    "    print('Тест прошёл успешно!')"
   ]
  },
  {
   "cell_type": "code",
   "execution_count": 65,
   "id": "05f37fce",
   "metadata": {},
   "outputs": [
    {
     "name": "stdout",
     "output_type": "stream",
     "text": [
      "Тест прошёл успешно!\n"
     ]
    }
   ],
   "source": [
    "transpose_matrix_test()"
   ]
  },
  {
   "cell_type": "markdown",
   "id": "e121ae5e",
   "metadata": {},
   "source": [
    "# Множественная линейная регрессия"
   ]
  },
  {
   "cell_type": "code",
   "execution_count": 66,
   "id": "9c79f86e",
   "metadata": {},
   "outputs": [
    {
     "name": "stdout",
     "output_type": "stream",
     "text": [
      "Defaulting to user installation because normal site-packages is not writeable\n",
      "Requirement already satisfied: numpy in /home/zea/.local/lib/python3.10/site-packages (1.26.4)\n"
     ]
    }
   ],
   "source": [
    "# Установка библиотеки numpy\n",
    "!pip3 install numpy"
   ]
  },
  {
   "cell_type": "code",
   "execution_count": 67,
   "id": "a623ed7b",
   "metadata": {},
   "outputs": [],
   "source": [
    "import numpy as np"
   ]
  },
  {
   "cell_type": "code",
   "execution_count": 102,
   "id": "1eeb5162",
   "metadata": {},
   "outputs": [
    {
     "name": "stdout",
     "output_type": "stream",
     "text": [
      "------\n",
      "------\n",
      "Тест прошёл успешно!\n"
     ]
    }
   ],
   "source": [
    "def linear_regression_predict_solution(w, data, x_names):\n",
    "    \"\"\"\n",
    "    На основе переданного вектора весов для каждого объекта из переданного\n",
    "    набора данных делает предсказание с помощью модели линейной регрессии.\n",
    "\n",
    "    Аргументы:\n",
    "        w: Вектор весов модели линейной регрессии. Первая координата вектора соответствует\n",
    "           свободному коэффициенту, последующие — весам факторов.\n",
    "        data: Таблица с объектами, для которых необходимо сделать предсказания.\n",
    "              Каждый объект описывается набором численных факторов.\n",
    "              В данных может быть представлено больше факторов, чем модель использует для предсказания.\n",
    "              Искусственного константного фактора, который для всех объектов равен 1 и\n",
    "              который используется моделью для предсказания, в таблице нет.\n",
    "        x_names: Список названий факторов, которые используются для предсказания.\n",
    "                 Порядок названий совпадает с порядком, в котором идут коэффициенты факторов\n",
    "                 в векторе весов w.\n",
    "\n",
    "    Возвращаемое значение:\n",
    "        Вектор предсказанных значений целевой характеристики для объектов из переданной таблицы.\n",
    "    \"\"\"\n",
    "    w = (np.array(w)).reshape(-1, 1)\n",
    "    data = data[x_names]\n",
    "    data = data.to_numpy()\n",
    "    ones = np.ones((len(data), 1))\n",
    "    data = np.hstack([ones, data])\n",
    "    # print(w)\n",
    "    # print(data)\n",
    "    res = np.dot(data, w)\n",
    "    # print(\"after\")\n",
    "    # print(w)\n",
    "    # print(data)\n",
    "    # print(res)\n",
    "    # print(\"------\")\n",
    "    # print(x_names)\n",
    "    return res.flatten().round(2)\n",
    "\n",
    "\n",
    "linear_regression_predict_test()"
   ]
  },
  {
   "cell_type": "code",
   "execution_count": 103,
   "id": "9846748f",
   "metadata": {},
   "outputs": [],
   "source": [
    "def linear_regression_predict_test():\n",
    "    w_example_1 = np.array([2, 3])\n",
    "    data_example_1 = pd.DataFrame({\n",
    "        'x': [2.2, -4.1],\n",
    "    })\n",
    "\n",
    "    res_example_1 = np.array([8.6, -10.3])\n",
    "\n",
    "    custom_compare(linear_regression_predict_solution(w_example_1, data_example_1, ['x']), res_example_1)\n",
    "\n",
    "    w_example_2 = np.array([0.1, 2.7, 2.3, -4.1])\n",
    "    data_example_2 = pd.DataFrame({\n",
    "        'x': [0.58, 0.15],\n",
    "        'extra': [1, 2],\n",
    "        'y': [0.58, 0.19],\n",
    "        'z': [0.93, 0.44]\n",
    "    })\n",
    "\n",
    "    res_example_2 = np.array([-0.81, -0.86])\n",
    "\n",
    "    custom_compare(linear_regression_predict_solution(w_example_2, data_example_2, ['x', 'y', 'z']), res_example_2)\n",
    "\n",
    "    print('Тест прошёл успешно!')"
   ]
  },
  {
   "cell_type": "code",
   "execution_count": 104,
   "id": "323ad4ac",
   "metadata": {},
   "outputs": [
    {
     "name": "stdout",
     "output_type": "stream",
     "text": [
      "------\n",
      "------\n",
      "Тест прошёл успешно!\n"
     ]
    }
   ],
   "source": [
    "linear_regression_predict_test()"
   ]
  },
  {
   "cell_type": "code",
   "execution_count": 144,
   "id": "8c16cd86",
   "metadata": {},
   "outputs": [
    {
     "name": "stdout",
     "output_type": "stream",
     "text": [
      "Тест прошёл успешно!\n"
     ]
    },
    {
     "data": {
      "text/plain": [
       "array([-0.5,  2. ,  0.5])"
      ]
     },
     "execution_count": 144,
     "metadata": {},
     "output_type": "execute_result"
    }
   ],
   "source": [
    "def linear_regression_solve_solution(data, x_names, y_name):\n",
    "    \"\"\"\n",
    "    С помощью метода МНК строит модель линейной регрессии по переданному набору данных.\n",
    "\n",
    "    Аргументы:\n",
    "        data: Таблица с объектами обучающей выборки.\n",
    "              Каждый объект описывается набором численных факторов.\n",
    "              В данных может быть представлено больше факторов, чем модель должна использовать для предсказания.\n",
    "              Искусственного константного фактора, который для всех объектов равен 1 и\n",
    "              который будет использоваться моделью для предсказания, в таблице нет.\n",
    "        x_names: Список названий факторов, которые модель должна использовать для предсказания.\n",
    "        y_name: Название столбца таблицы, в котором для каждого объекта содержится\n",
    "                значение предсказываемой величины.\n",
    "\n",
    "    Возвращаемое значение:\n",
    "        Возвращает вектор весов модели.\n",
    "        Координата вектора с индексом 0 соответствует свободному коэффициенту модели.\n",
    "        Координата вектора с индексом i соответствует фактору с индексом i - 1 в списке factor_names.\n",
    "    \"\"\"\n",
    "    x_data = data[x_names].to_numpy()\n",
    "    x = np.hstack([np.ones((len(x_data), 1)), x_data])\n",
    "    y = data[y_name].to_numpy()\n",
    "    # print(x)\n",
    "    # print(y)\n",
    "    # XTX = np.dot(x.T, x)\n",
    "    # XTX_inv = np.linalg.inv(XTX)\n",
    "    # XTy = np.dot(x.T, y)\n",
    "    # w = np.dot(XTX_inv, XTy)\n",
    "    w = np.dot(\n",
    "        (\n",
    "        np.linalg.inv(\n",
    "            np.dot(x.T, x)\n",
    "        )\n",
    "        ),\n",
    "        np.dot(x.T, y)\n",
    "    )\n",
    "    return w.round(2)\n",
    "\n",
    "\n",
    "linear_regression_solve_test()\n",
    "data_example_1 = pd.DataFrame({\n",
    "    'x1': [1, -1, 1],\n",
    "    'x2': [-1, 1, 1],\n",
    "    'y': [1, -2, 2]\n",
    "})\n",
    "\n",
    "x_names_example_1 = ['x1', 'x2']\n",
    "y_name_example_1 = 'y'\n",
    "\n",
    "linear_regression_solve_solution(data_example_1,\n",
    "                                                x_names_example_1,\n",
    "                                                y_name_example_1)\n"
   ]
  },
  {
   "cell_type": "code",
   "execution_count": 117,
   "id": "829e86e1",
   "metadata": {},
   "outputs": [
    {
     "name": "stdout",
     "output_type": "stream",
     "text": [
      "Defaulting to user installation because normal site-packages is not writeable\n",
      "Collecting scikit-learn\n",
      "  Downloading scikit_learn-1.4.0-1-cp310-cp310-manylinux_2_17_x86_64.manylinux2014_x86_64.whl.metadata (11 kB)\n",
      "Requirement already satisfied: numpy<2.0,>=1.19.5 in /home/zea/.local/lib/python3.10/site-packages (from scikit-learn) (1.26.4)\n",
      "Requirement already satisfied: scipy>=1.6.0 in /home/zea/.local/lib/python3.10/site-packages (from scikit-learn) (1.12.0)\n",
      "Collecting joblib>=1.2.0 (from scikit-learn)\n",
      "  Downloading joblib-1.3.2-py3-none-any.whl.metadata (5.4 kB)\n",
      "Collecting threadpoolctl>=2.0.0 (from scikit-learn)\n",
      "  Downloading threadpoolctl-3.2.0-py3-none-any.whl.metadata (10.0 kB)\n",
      "Downloading scikit_learn-1.4.0-1-cp310-cp310-manylinux_2_17_x86_64.manylinux2014_x86_64.whl (12.1 MB)\n",
      "\u001b[2K   \u001b[90m━━━━━━━━━━━━━━━━━━━━━━━━━━━━━━━━━━━━━━━━\u001b[0m \u001b[32m12.1/12.1 MB\u001b[0m \u001b[31m1.3 MB/s\u001b[0m eta \u001b[36m0:00:00\u001b[0m00:01\u001b[0m00:01\u001b[0m\n",
      "\u001b[?25hDownloading joblib-1.3.2-py3-none-any.whl (302 kB)\n",
      "\u001b[2K   \u001b[90m━━━━━━━━━━━━━━━━━━━━━━━━━━━━━━━━━━━━━━━━\u001b[0m \u001b[32m302.2/302.2 kB\u001b[0m \u001b[31m1.1 MB/s\u001b[0m eta \u001b[36m0:00:00\u001b[0m00:01\u001b[0m00:01\u001b[0mm\n",
      "\u001b[?25hDownloading threadpoolctl-3.2.0-py3-none-any.whl (15 kB)\n",
      "Installing collected packages: threadpoolctl, joblib, scikit-learn\n",
      "Successfully installed joblib-1.3.2 scikit-learn-1.4.0 threadpoolctl-3.2.0\n"
     ]
    }
   ],
   "source": [
    "# Установка библиотеки sklearn\n",
    "# !pip3 install sklearn\n",
    "!pip3 install scikit-learn"
   ]
  },
  {
   "cell_type": "code",
   "execution_count": 119,
   "id": "bc626c51",
   "metadata": {},
   "outputs": [],
   "source": [
    "from sklearn.linear_model import LinearRegression"
   ]
  },
  {
   "cell_type": "code",
   "execution_count": 120,
   "id": "6964d95b",
   "metadata": {},
   "outputs": [],
   "source": [
    "def linear_regression_solve_test():\n",
    "    data_example_1 = pd.DataFrame({\n",
    "        'x': [2.2, -4.1],\n",
    "        'y': [1.4, 2.3]\n",
    "    })\n",
    "\n",
    "    x_names_example_1 = ['x']\n",
    "    y_name_example_1 = 'y'\n",
    "\n",
    "    sklearn_model_example_1 = LinearRegression()\n",
    "    sklearn_model_example_1.fit(data_example_1[x_names_example_1], data_example_1[y_name_example_1])\n",
    "    sklearn_coefs_example_1 = np.array([sklearn_model_example_1.intercept_] + sklearn_model_example_1.coef_.tolist()).round(2)\n",
    "\n",
    "    custom_compare(linear_regression_solve_solution(data_example_1,\n",
    "                                                    x_names_example_1,\n",
    "                                                    y_name_example_1),\n",
    "                   sklearn_coefs_example_1)\n",
    "\n",
    "    data_example_2 = pd.DataFrame({\n",
    "        'x':[-1.92, -4.1 , -2.44, 2.55],\n",
    "        'extra': [-0.33, -3.64, -2.88, 1.21],\n",
    "        'y': [4.3, 3.62, -3.47, -1.9 ],\n",
    "        'z': [1.12, 3.38, -2.92, -2.54],\n",
    "        'target': [-1, 2.3, 1.8, -0.7]\n",
    "    })\n",
    "\n",
    "    x_names_example_2 = ['x', 'y', 'z']\n",
    "    y_name_example_2 = 'target'\n",
    "\n",
    "    sklearn_model_example_2 = LinearRegression()\n",
    "    sklearn_model_example_2.fit(data_example_2[x_names_example_2], data_example_2[y_name_example_2])\n",
    "    sklearn_coefs_example_2 = np.array([sklearn_model_example_2.intercept_] + sklearn_model_example_2.coef_.tolist()).round(2)\n",
    "\n",
    "    custom_compare(linear_regression_solve_solution(data_example_2,\n",
    "                                                    x_names_example_2,\n",
    "                                                    y_name_example_2),\n",
    "                   sklearn_coefs_example_2)\n",
    "\n",
    "    print('Тест прошёл успешно!')"
   ]
  },
  {
   "cell_type": "code",
   "execution_count": 121,
   "id": "d3fb15cb",
   "metadata": {},
   "outputs": [
    {
     "ename": "RuntimeError",
     "evalue": "Ожидаемое значение: [ 1.71 -0.14]. Фактическое: None",
     "output_type": "error",
     "traceback": [
      "\u001b[0;31m---------------------------------------------------------------------------\u001b[0m",
      "\u001b[0;31mRuntimeError\u001b[0m                              Traceback (most recent call last)",
      "\u001b[0;32m/tmp/ipykernel_19629/3107741705.py\u001b[0m in \u001b[0;36m<module>\u001b[0;34m\u001b[0m\n\u001b[0;32m----> 1\u001b[0;31m \u001b[0mlinear_regression_solve_test\u001b[0m\u001b[0;34m(\u001b[0m\u001b[0;34m)\u001b[0m\u001b[0;34m\u001b[0m\u001b[0;34m\u001b[0m\u001b[0m\n\u001b[0m",
      "\u001b[0;32m/tmp/ipykernel_19629/3592263689.py\u001b[0m in \u001b[0;36mlinear_regression_solve_test\u001b[0;34m()\u001b[0m\n\u001b[1;32m     12\u001b[0m     \u001b[0msklearn_coefs_example_1\u001b[0m \u001b[0;34m=\u001b[0m \u001b[0mnp\u001b[0m\u001b[0;34m.\u001b[0m\u001b[0marray\u001b[0m\u001b[0;34m(\u001b[0m\u001b[0;34m[\u001b[0m\u001b[0msklearn_model_example_1\u001b[0m\u001b[0;34m.\u001b[0m\u001b[0mintercept_\u001b[0m\u001b[0;34m]\u001b[0m \u001b[0;34m+\u001b[0m \u001b[0msklearn_model_example_1\u001b[0m\u001b[0;34m.\u001b[0m\u001b[0mcoef_\u001b[0m\u001b[0;34m.\u001b[0m\u001b[0mtolist\u001b[0m\u001b[0;34m(\u001b[0m\u001b[0;34m)\u001b[0m\u001b[0;34m)\u001b[0m\u001b[0;34m.\u001b[0m\u001b[0mround\u001b[0m\u001b[0;34m(\u001b[0m\u001b[0;36m2\u001b[0m\u001b[0;34m)\u001b[0m\u001b[0;34m\u001b[0m\u001b[0;34m\u001b[0m\u001b[0m\n\u001b[1;32m     13\u001b[0m \u001b[0;34m\u001b[0m\u001b[0m\n\u001b[0;32m---> 14\u001b[0;31m     custom_compare(linear_regression_solve_solution(data_example_1,\n\u001b[0m\u001b[1;32m     15\u001b[0m                                                     \u001b[0mx_names_example_1\u001b[0m\u001b[0;34m,\u001b[0m\u001b[0;34m\u001b[0m\u001b[0;34m\u001b[0m\u001b[0m\n\u001b[1;32m     16\u001b[0m                                                     y_name_example_1),\n",
      "\u001b[0;32m/tmp/ipykernel_19629/860453372.py\u001b[0m in \u001b[0;36mcustom_compare\u001b[0;34m(x, y)\u001b[0m\n\u001b[1;32m      1\u001b[0m \u001b[0;32mdef\u001b[0m \u001b[0mcustom_compare\u001b[0m\u001b[0;34m(\u001b[0m\u001b[0mx\u001b[0m\u001b[0;34m,\u001b[0m \u001b[0my\u001b[0m\u001b[0;34m)\u001b[0m\u001b[0;34m:\u001b[0m\u001b[0;34m\u001b[0m\u001b[0;34m\u001b[0m\u001b[0m\n\u001b[1;32m      2\u001b[0m     \u001b[0;32mif\u001b[0m \u001b[0mstr\u001b[0m\u001b[0;34m(\u001b[0m\u001b[0mx\u001b[0m\u001b[0;34m)\u001b[0m \u001b[0;34m!=\u001b[0m \u001b[0mstr\u001b[0m\u001b[0;34m(\u001b[0m\u001b[0my\u001b[0m\u001b[0;34m)\u001b[0m\u001b[0;34m:\u001b[0m\u001b[0;34m\u001b[0m\u001b[0;34m\u001b[0m\u001b[0m\n\u001b[0;32m----> 3\u001b[0;31m         \u001b[0;32mraise\u001b[0m \u001b[0mRuntimeError\u001b[0m\u001b[0;34m(\u001b[0m\u001b[0;34mf'Ожидаемое значение: {y}. Фактическое: {x}'\u001b[0m\u001b[0;34m)\u001b[0m\u001b[0;34m\u001b[0m\u001b[0;34m\u001b[0m\u001b[0m\n\u001b[0m",
      "\u001b[0;31mRuntimeError\u001b[0m: Ожидаемое значение: [ 1.71 -0.14]. Фактическое: None"
     ]
    }
   ],
   "source": [
    "linear_regression_solve_test()"
   ]
  },
  {
   "cell_type": "code",
   "execution_count": null,
   "id": "bbd7df0d",
   "metadata": {},
   "outputs": [],
   "source": []
  }
 ],
 "metadata": {
  "kernelspec": {
   "display_name": "Python 3 (ipykernel)",
   "language": "python",
   "name": "python3"
  },
  "language_info": {
   "codemirror_mode": {
    "name": "ipython",
    "version": 3
   },
   "file_extension": ".py",
   "mimetype": "text/x-python",
   "name": "python",
   "nbconvert_exporter": "python",
   "pygments_lexer": "ipython3",
   "version": "3.10.12"
  }
 },
 "nbformat": 4,
 "nbformat_minor": 5
}
